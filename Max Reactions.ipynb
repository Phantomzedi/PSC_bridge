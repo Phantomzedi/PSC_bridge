{
 "cells": [
  {
   "cell_type": "code",
   "execution_count": 4,
   "metadata": {
    "pycharm": {
     "is_executing": false
    }

   },
   "outputs": [],
   "source": [
    "\n",
    "import pandas as pd\n",
    "import numpy as np\n",
    "from bridge_specs import box,pier"
   ]

  },
  {
   "cell_type": "markdown",
   "metadata": {
    "pycharm": {
     "name": "#%% md\n"
    }
   },
   "source": [
    "Unfactored Reactions import\n",
    "\n"
   ]
  },
  {
   "cell_type": "code",
   "execution_count": 5,
   "metadata": {
    "pycharm": {
     "is_executing": false,
     "name": "#%%\n"
    }
   },
   "outputs": [],
   "source": [
    "\"\"\"Data of Live Loads\"\"\"\n",
    "df1=pd.read_excel('outputs/Live_Loads_Seismic.xlsx')\n",
    "df1.drop(['Unnamed: 0','at'],axis=1,inplace=True)\n",
    "df1.rename(columns={'Unnamed: 1':'Loadings','sum':'Sum'},inplace=True)\n",
    "\n",
    "\"\"\"Data of Dead Loads\"\"\"\n",
    "df2=pd.read_csv('outputs/DL_for_Seismic.csv')\n",
    "df2.rename(columns={'Unnamed: 0':'Loadings'},inplace=True)\n",
    "\"\"\"Data of eccentricity\"\"\"\n",
    "df3=pd.read_excel('outputs/max_e.xlsx')\n",
    "\n",
    "\n"
   ]
  },
  {
   "cell_type": "code",
   "execution_count": 15,
   "metadata": {
    "pycharm": {
     "is_executing": false,
     "name": "#%%\n"
    }
   },
   "outputs": [
    {
     "data": {
      "text/plain": "          Loadings        RL        RR      Sum  L_Larm  R_Larm  T_Larm\n0        Dead Load  4584.375  4584.375  9168.75    3.75    5.25     1.5\n1       Other Load   325.000   325.000   650.00    3.75    5.25     1.5\n2     Surface Load   264.000   264.000   528.00    3.75    5.25     1.5\n3  Pedestrian load   150.000   150.000   300.00    3.75    5.25     0.0",
      "text/html": "<div>\n<style scoped>\n    .dataframe tbody tr th:only-of-type {\n        vertical-align: middle;\n    }\n\n    .dataframe tbody tr th {\n        vertical-align: top;\n    }\n\n    .dataframe thead th {\n        text-align: right;\n    }\n</style>\n<table border=\"1\" class=\"dataframe\">\n  <thead>\n    <tr style=\"text-align: right;\">\n      <th></th>\n      <th>Loadings</th>\n      <th>RL</th>\n      <th>RR</th>\n      <th>Sum</th>\n      <th>L_Larm</th>\n      <th>R_Larm</th>\n      <th>T_Larm</th>\n    </tr>\n  </thead>\n  <tbody>\n    <tr>\n      <th>0</th>\n      <td>Dead Load</td>\n      <td>4584.375</td>\n      <td>4584.375</td>\n      <td>9168.75</td>\n      <td>3.75</td>\n      <td>5.25</td>\n      <td>1.5</td>\n    </tr>\n    <tr>\n      <th>1</th>\n      <td>Other Load</td>\n      <td>325.000</td>\n      <td>325.000</td>\n      <td>650.00</td>\n      <td>3.75</td>\n      <td>5.25</td>\n      <td>1.5</td>\n    </tr>\n    <tr>\n      <th>2</th>\n      <td>Surface Load</td>\n      <td>264.000</td>\n      <td>264.000</td>\n      <td>528.00</td>\n      <td>3.75</td>\n      <td>5.25</td>\n      <td>1.5</td>\n    </tr>\n    <tr>\n      <th>3</th>\n      <td>Pedestrian load</td>\n      <td>150.000</td>\n      <td>150.000</td>\n      <td>300.00</td>\n      <td>3.75</td>\n      <td>5.25</td>\n      <td>0.0</td>\n    </tr>\n  </tbody>\n</table>\n</div>"
     },
     "metadata": {},
     "output_type": "execute_result",
     "execution_count": 15
    }
   ],
   "source": [
    "df2"
   ]
  },
  {
   "cell_type": "markdown",
   "metadata": {
    "pycharm": {
     "name": "#%% md\n"
    }
   },
   "source": [
    "\n",
    "\n"
   ]
  },
  {
   "cell_type": "code",
   "execution_count": 11,
   "metadata": {
    "pycharm": {
     "is_executing": false,
     "name": "#%%\n"
    }
   },
   "outputs": [],
   "source": [
    "\n",
    "ecc=np.abs(np.around(np.array(df3.loc[:,'MaxEccentricity'].values.tolist()),3))\n",
    "ecc\n",
    "df1=df1.assign(L_Larm=pier['l_larm'],R_Larm=pier['r_larm'],T_Larm=np.concatenate((ecc,ecc),axis=0))\n",
    "df2=df2.assign(L_Larm=pier['l_larm'],R_Larm=pier['r_larm'],T_Larm=pier['t_larm'])\n",
    "df2.loc[3,'T_Larm']=0\n",
    "df_loads=pd.concat([df1,df2])\n",
    "df_loads['MomL']=df_loads['RL']*df_loads['L_Larm']+df_loads['RR']*df_loads['R_Larm']\n",
    "df_loads['MomT']=(df_loads['RL']+df_loads['RR'])*df_loads['T_Larm']"
   ]
  },
  {
   "cell_type": "code",
   "execution_count": null,
   "metadata": {
    "pycharm": {
     "is_executing": false,
     "name": "#%%\n"
    }
   },
   "outputs": [],
   "source": [
    "print(f\"Maximum Longitudinal Moment: {sum(df_loads['MomL'])}\\nMaximum Transverse Moment: {sum(df_loads['MomT'])}\")\n",
    "# print(df3)"
   ]
  },
  {
   "cell_type": "code",
   "execution_count": null,
   "metadata": {
    "pycharm": {
     "is_executing": false,
     "name": "#%%\n"
    }
   },
   "outputs": [],
   "source": [
    "# print()"
   ]
  },
  {
   "cell_type": "code",
   "execution_count": null,
   "metadata": {
    "pycharm": {
     "is_executing": false,
     "name": "#%%\n"
    }
   },
   "outputs": [],
   "source": [
    "\n",
    "print (ecc)"
   ]
  },
  {
   "cell_type": "markdown",
   "metadata": {
    "pycharm": {
     "name": "#%% md\n"
    }
   },
   "source": [
    "Calculation of Max Reactions\n"
   ]
  },
  {
   "cell_type": "code",
   "execution_count": null,
   "metadata": {
    "pycharm": {
     "is_executing": false,
     "name": "#%%\n"
    }
   },
   "outputs": [],
   "source": [
    "i=round(sum(df2.iloc[:,3]),5)\n",
    "j=max(df1.iloc[:,3])\n",
    "k=df2.iloc[3,3]\n",
    "lon=[1,0,0]\n",
    "tra=[1,0.2,0.2]\n",
    "lon_max=i*lon[0]+j*lon[1]+k*lon[2]\n",
    "tra_max=i*tra[0]+j*tra[1]+k*tra[2]\n",
    "print(i,j,k)\n",
    "print(f\"Maximum longitudinal force: {lon_max}\\nMaximum Transverse Force: {tra_max}\")"
   ]
  },
  {
   "cell_type": "markdown",
   "metadata": {
    "pycharm": {
     "is_executing": false,
     "name": "#%% md\n"
    }
   },
   "source": [
    "Pier Specifications \n"
   ]
  },
  {
   "cell_type": "code",
   "execution_count": null,
   "metadata": {
    "pycharm": {
     "is_executing": false,
     "name": "#%% \n"
    }
   },
   "outputs": [],
   "source": []
  },
  {
   "cell_type": "code",
   "execution_count": null,
   "metadata": {
    "pycharm": {
     "is_executing": false,
     "name": "#%%\n"
    }
   },
   "outputs": [],
   "source": [
    "I=0\n",
    "fck=20\n",
    "fcm=fck+10\n",
    "Ecm=22*(fcm/12.5)**0.3\n",
    "k=3*Ecm*I\n"
   ]
  }
 ],
 "metadata": {
  "kernelspec": {
   "display_name": "Python 3",
   "language": "python",
   "name": "python3"
  },
  "language_info": {
   "codemirror_mode": {
    "name": "ipython",
    "version": 3
   },
   "file_extension": ".py",
   "mimetype": "text/x-python",
   "name": "python",
   "nbconvert_exporter": "python",
   "pygments_lexer": "ipython3",
   "version": "3.9.2"
  },
  "pycharm": {
   "stem_cell": {
    "cell_type": "raw",
    "source": [],
    "metadata": {
     "collapsed": false
    }
   }
  }
 },
 "nbformat": 4,
 "nbformat_minor": 1
}
