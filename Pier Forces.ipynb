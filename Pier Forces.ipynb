{
 "cells": [
  {
   "cell_type": "markdown",
   "metadata": {},
   "source": [
    "Seismic Force Calculation"
   ]
  },
  {
   "cell_type": "code",
   "execution_count": 26,
   "metadata": {
    "pycharm": {
     "is_executing": false
    }

   },
   "outputs": [],
   "source": [
    "import pandas as pd\n",
    "from irc6_2007 import mult_factor as mu,RR_factor as RR,vib_period as T,sag,f_watercurrent\n",
    "# from calcs import stiffness as K\n",
    "import numpy as np\n",
    "from bridge_specs import box,pier,water\n",
    "import math"
   ]
  },
  {
   "cell_type": "code",
   "execution_count": 2,
   "metadata": {
    "pycharm": {
     "is_executing": false,
     "name": "#%%\n"
    }
   },
   "outputs": [
    {
     "name": "stdout",
     "output_type": "stream",
     "text": [
      "  Unnamed: 0  Unnamed: 1        RL        RR      at        sum\n",
      "0      MaxSF     Class A  240.2016  454.5144   69.57   694.7160\n",
      "1        NaN  Class 70RW  219.8760  911.7240   64.19  1131.6000\n",
      "2        NaN  Class 70RT  344.8160  349.3660   52.71   694.1820\n",
      "3      MaxBM     Class A  508.7832    0.0000   50.74   508.7832\n",
      "4        NaN  Class 70RW    0.0000  952.1040  109.08   952.1040\n",
      "5        NaN  Class 70RT  678.3700    0.0000   50.74   678.3700\n"
     ]
    }
   ],
   "source": [
    "live=pd.read_excel('outputs/Live_Loads_Seismic.xlsx')\n",
    "dead=pd.read_csv('outputs/DL_for_Seismic.csv')\n",
    "impF=1.2\n",
    "print(live)"
   ]
  },
  {
   "cell_type": "code",
   "execution_count": 25,
   "metadata": {
    "pycharm": {
     "is_executing": false,
     "name": "#%%\n"
    }
   },
   "outputs": [
    {
     "name": "stdout",
     "output_type": "stream",
     "text": [
      "        Unnamed: 0     RL     RR     Sum\n",
      "0        Dead Load  625.0  625.0  1250.0\n",
      "1       Other Load  325.0  325.0   650.0\n",
      "2     Surface Load  214.5  214.5   429.0\n",
      "3  Pedestrian load  150.0  150.0   300.0\n"
     ]
    }
   ],
   "source": [
    "ll=live[\"sum\"].max()\n",
    "print(dead)\n",
    "dl=0\n",
    "for i in range(3):dl+= dead.loc[i,\"Sum\"]\n",
    "pedl=dead.loc[3,\"Sum\"]\n",
    "sumlong=ll*mu(\"ll\",\"long\")+dl*mu(\"dl\",\"long\")+pedl*mu(\"pedl\",\"long\")\n",
    "sumtrans=ll*mu(\"ll\",\"trans\")+dl*mu(\"dl\",\"trans\")+pedl*mu(\"pedl\",\"trans\")"
   ]
  },
  {
   "cell_type": "code",
   "execution_count": 19,
   "metadata": {
    "pycharm": {
     "is_executing": false,
     "name": "#%%\n"
    }
   },
   "outputs": [
    {
     "data": {
      "text/plain": [
       "'Substitute values of I and L from pier cap in 1 and pier stem in 2'"
      ]
     },
     "execution_count": 19,
     "metadata": {},
     "output_type": "execute_result"
    }
   ],
   "source": [
    "\"\"\"Substitute values of I and L from pier cap in 1 and pier stem in 2\"\"\"\n",
    "along=sag(T(sumlong,(K(40,I1,L1)+K(40,I2,L2))))*0.36*RR(\"long\")*1.2\n",
    "#atrans=sag(T(sumtrans,(K(40,I1,L1)+K(40,I2,L2))))*0.36*RR(\"trans\")*1.2\n",
    "#avert=along*2/3"
   ]
  },
  {
   "cell_type": "code",
   "execution_count": 5,
   "metadata": {
    "pycharm": {
     "name": "#%%\n"
    }
   },
   "outputs": [
    {
     "ename": "NameError",
     "evalue": "name 'along' is not defined",
     "output_type": "error",
     "traceback": [
      "\u001b[1;31m---------------------------------------------------------------------------\u001b[0m",
      "\u001b[1;31mNameError\u001b[0m                                 Traceback (most recent call last)",
      "\u001b[1;32mC:\\Users\\MILANJ~1\\AppData\\Local\\Temp/ipykernel_5852/2089633498.py\u001b[0m in \u001b[0;36m<module>\u001b[1;34m\u001b[0m\n\u001b[1;32m----> 1\u001b[1;33m \u001b[0mFShlong\u001b[0m\u001b[1;33m=\u001b[0m\u001b[0malong\u001b[0m\u001b[1;33m*\u001b[0m\u001b[0msumlong\u001b[0m\u001b[1;33m\u001b[0m\u001b[1;33m\u001b[0m\u001b[0m\n\u001b[0m\u001b[0;32m      2\u001b[0m \u001b[0mFShtrans\u001b[0m\u001b[1;33m=\u001b[0m\u001b[0matrans\u001b[0m\u001b[1;33m*\u001b[0m\u001b[0msumtrans\u001b[0m\u001b[1;33m\u001b[0m\u001b[1;33m\u001b[0m\u001b[0m\n\u001b[0;32m      3\u001b[0m \u001b[0mFSv\u001b[0m\u001b[1;33m=\u001b[0m\u001b[0mavert\u001b[0m\u001b[1;33m*\u001b[0m\u001b[0msumtrans\u001b[0m\u001b[1;33m\u001b[0m\u001b[1;33m\u001b[0m\u001b[0m\n\u001b[0;32m      4\u001b[0m \u001b[1;33m\u001b[0m\u001b[0m\n",
      "\u001b[1;31mNameError\u001b[0m: name 'along' is not defined"
     ]
    }
   ],
   "source": [
    "FShlong=along*sumlong\n",
    "FShtrans=atrans*sumtrans\n",
    "FSv=avert*sumtrans\n",
    "\n"
   ]
  },
  {
   "cell_type": "markdown",
   "metadata": {},
   "source": [
    "Buoyancy Force Calculation"
   ]
  },
  {
   "cell_type": "code",
   "execution_count": null,
   "metadata": {},
   "outputs": [],
   "source": [
    "buoy_P=pier['stem_vol']*10\n",
    "buoy_MomL=buoy_P*pier['pcap_len']/2\n",
    "buoy_MomT=buoy_P*pier['pcap_wide']/2\n"
   ]
  },
  {
   "cell_type": "markdown",
   "metadata": {},
   "source": [
    "Water Current Force"
   ]
  },
  {
   "cell_type": "code",
   "execution_count": null,
   "metadata": {},
   "outputs": [],
   "source": [
    "p=52\n",
    "vel=water['Q']/water['cross_area']\n",
    "vel\n",
    "wid=pier['pout_dia']\n",
    "current_height=water['HFL']-water['lowest_bed']\n",
    "\n"
   ]
  }
 ],
 "metadata": {
  "kernelspec": {
   "display_name": "Python 3 (ipykernel)",
   "language": "python",
   "name": "python3"
  },
  "language_info": {
   "codemirror_mode": {
    "name": "ipython",
    "version": 3
   },
   "file_extension": ".py",
   "mimetype": "text/x-python",
   "name": "python",
   "nbconvert_exporter": "python",
   "pygments_lexer": "ipython3",
   "version": "3.8.1"
  },
  "pycharm": {
   "stem_cell": {
    "cell_type": "raw",
    "metadata": {
     "collapsed": false
    },
    "source": []
   }
  }
 },
 "nbformat": 4,
 "nbformat_minor": 1
}
