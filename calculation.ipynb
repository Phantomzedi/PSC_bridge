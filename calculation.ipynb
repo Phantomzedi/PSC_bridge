{
 "cells": [
  {
   "cell_type": "markdown",
   "id": "60c1228a",
   "metadata": {},
   "source": [
    "#### importing packages"
   ]
  },
  {
   "cell_type": "code",
   "execution_count": 2,
   "id": "b1c4bd7c",
   "metadata": {},
   "outputs": [],
   "source": [
    "import numpy as np\n",
    "import pandas as pd\n",
    "import matplotlib.pyplot as plt\n",
    "from allinput import main_input\n",
    "from irc6_2007 import *\n",
    "\n",
    "from reaction import find_bm, find_sf, find_ra, find_rb\n",
    "from bridge_specs import box, bearing"
   ]
  },
  {
   "cell_type": "markdown",
   "id": "4d315de4",
   "metadata": {},
   "source": [
    "bridge specs"
   ]
  },
  {
   "cell_type": "code",
   "execution_count": 3,
   "id": "e36334be",
   "metadata": {
    "pycharm": {
     "name": "#%%\n"
    }
   },
   "outputs": [],
   "source": [
    "# if False:\n",
    "#     main_input()\n",
    "\n",
    "df=pd.read_excel('data/span.xlsx',index_col=None,header=None)\n",
    "span = int(df.iloc[2])\n",
    "\n",
    "c_c = 3 #input"
   ]
  },
  {
   "cell_type": "markdown",
   "id": "af472801",
   "metadata": {},
   "source": [
    "pier specs - *better make a pier class*"
   ]
  },
  {
   "cell_type": "code",
   "execution_count": 4,
   "id": "1c8ee32c",
   "metadata": {},
   "outputs": [],
   "source": [
    "un_wt = 25\n",
    "\n",
    "pier_width = 1.2 #input\n",
    "pier_height = 7.3 #input\n",
    "\n",
    "piercap_width = 3.5 #input\n",
    "piercap_length = 8 #input\n",
    "piercap_height = 2.1 #input\n",
    "\n",
    "pier_length_rect = 4 #input\n",
    "pier_width_rect = pier_width\n",
    "\n",
    "pier_height_CT= pier_height + piercap_height\n",
    "pier_height_CG = 11.86 #input height upto girder cg REVIEW!!\n",
    "diameter = pier_width\n",
    "\n",
    "fdnpd_width = 10.5 #input foundation pad width\n",
    "fdnpd_length = 10.5 #input foundation pad length\n",
    "fdnpd_height = 2 #input foundation pad thickness\n",
    "\n",
    "pier_height_hfl = 7.3 #input Height of pier at HFL from Stem Base"
   ]

################################################################################################

  },
  {
   "cell_type": "markdown",
   "id": "ba46c574",
   "metadata": {},
   "source": [
    "# Reaction from span"
   ]
  },
  {
   "cell_type": "markdown",
   "id": "0300d218",
   "metadata": {},
   "source": [
    "## live load calculations"
   ]
  },
  {
   "cell_type": "markdown",
   "id": "0d79cfcd",
   "metadata": {},
   "source": [
    "#### defining load (vehicles)\n",
    "load pair contains pair (wheel position, wheel load)"
   ]
  },
  {
   "cell_type": "code",
   "execution_count": 2,
   "id": "7021ab02",
   "metadata": {},
   "outputs": [
    {
     "ename": "NameError",
     "evalue": "name 'll_A' is not defined",
     "output_type": "error",
     "traceback": [
      "\u001b[1;31m---------------------------------------------------------------------------\u001b[0m",
      "\u001b[1;31mNameError\u001b[0m                                 Traceback (most recent call last)",
      "Input \u001b[1;32mIn [2]\u001b[0m, in \u001b[0;36m<module>\u001b[1;34m\u001b[0m\n\u001b[1;32m----> 1\u001b[0m vehicles \u001b[38;5;241m=\u001b[39m [\u001b[43mll_A\u001b[49m, ll_70R, ll_70RT]\n\u001b[0;32m      2\u001b[0m classA_pair, class70R, class70RT \u001b[38;5;241m=\u001b[39m [\u001b[38;5;28mlist\u001b[39m(i\u001b[38;5;241m.\u001b[39mloadpair) \u001b[38;5;28;01mfor\u001b[39;00m i \u001b[38;5;129;01min\u001b[39;00m vehicles]\n\u001b[0;32m      3\u001b[0m loads \u001b[38;5;241m=\u001b[39m [classA_pair, class70R, class70RT]\n",
      "\u001b[1;31mNameError\u001b[0m: name 'll_A' is not defined"
     ]
    }
   ],
   "source": [
    "vehicles = [ll_A, ll_70R, ll_70RT]\n",
    "classA_pair, class70R, class70RT = [list(i.loadpair) for i in vehicles]\n",
    "loads = [classA_pair, class70R, class70RT]"
   ]
  },
  {
   "cell_type": "markdown",
   "id": "65c9a0e0",
   "metadata": {},
   "source": [
    "#### maxBM, maxSF at equal intervals\n",
    "when each vehicle from the list of vehicles travels along the span, max reactions (BM and SF+/-) at equally divided intervals are calculated and stored in maxBMs, maxSFs_plus, maxSFs_minus."
   ]
  },
  {
   "cell_type": "code",
   "execution_count": 6,
   "id": "70aec980",
   "metadata": {},
   "outputs": [],
   "source": [
    "\n",
    "maxBMs = []\n",
    "maxSFs_plus = []\n",
    "maxSFs_minus = []\n",
    "for i in range(len(loads)):\n",
    "    maxBM = []\n",
    "    maxSF_plus = []\n",
    "    maxSF_minus = []\n",
    "    for j in range(9):\n",
    "        at = span / 8 * j\n",
    "        first_wheel_at = 0\n",
    "        step = 0.1\n",
    "\n",
    "        BM = find_bm(span, 0, at)\n",
    "        SF_plus = find_sf(span, 0, at)\n",
    "        SF_minus = find_sf(span, 0, at)\n",
    "        for k in range(int((span + loads[i][-1][0]) / step) + 2):  # '+2' to make sure the load moves all the way to\n",
    "            # end until it has no effect\n",
    "            bm = 0\n",
    "            sf = 0\n",
    "            for this in loads[i]:\n",
    "                a, load = this\n",
    "                pos = -a + first_wheel_at\n",
    "                bm = bm + find_bm(span, pos, at) * load\n",
    "                sf = sf + find_sf(span, pos, at) * load\n",
    "            first_wheel_at += step\n",
    "            BM = bm if bm > BM else BM\n",
    "            SF_plus = sf if sf > SF_plus else SF_plus\n",
    "            SF_minus = sf if sf < SF_minus else SF_minus\n",
    "        maxBM.append(round(BM, 3))\n",
    "        maxSF_plus.append(round(SF_plus, 3))\n",
    "        maxSF_minus.append(round(SF_minus, 3))\n",
    "    maxBMs.append(maxBM)\n",
    "    maxSFs_plus.append(maxSF_plus)\n",
    "    maxSFs_minus.append(maxSF_minus)"
   ]
  },
  {
   "cell_type": "markdown",
   "id": "9929f3f2",
   "metadata": {},
   "source": [
    "#### make a dataframe that contains maxBMs, maxSFs_plus, maxSFs_minus"
   ]
  },
  {
   "cell_type": "code",
   "execution_count": 3,
   "id": "3ec70ad1",
   "metadata": {},
   "outputs": [
    {
     "ename": "NameError",
     "evalue": "name 'pd' is not defined",
     "output_type": "error",
     "traceback": [
      "\u001b[1;31m---------------------------------------------------------------------------\u001b[0m",
      "\u001b[1;31mNameError\u001b[0m                                 Traceback (most recent call last)",
      "Input \u001b[1;32mIn [3]\u001b[0m, in \u001b[0;36m<module>\u001b[1;34m\u001b[0m\n\u001b[0;32m      4\u001b[0m \u001b[38;5;66;03m# A = ['ClassA', 'Class70RW', 'Class70RT']\u001b[39;00m\n\u001b[0;32m      5\u001b[0m \u001b[38;5;66;03m# B = ['MaxBM', 'MaxSF+', 'MaxSF-']\u001b[39;00m\n\u001b[0;32m      7\u001b[0m iterables \u001b[38;5;241m=\u001b[39m [A, B]\n\u001b[1;32m----> 8\u001b[0m index \u001b[38;5;241m=\u001b[39m \u001b[43mpd\u001b[49m\u001b[38;5;241m.\u001b[39mMultiIndex\u001b[38;5;241m.\u001b[39mfrom_product(iterables)\n\u001b[0;32m     10\u001b[0m C \u001b[38;5;241m=\u001b[39m []\n\u001b[0;32m     12\u001b[0m \u001b[38;5;28;01mfor\u001b[39;00m i \u001b[38;5;129;01min\u001b[39;00m [maxBMs, maxSFs_plus, maxSFs_minus]:\n",
      "\u001b[1;31mNameError\u001b[0m: name 'pd' is not defined"
     ]
    }
   ],
   "source": [
    "A = ['MaxBM', 'MaxSF+', 'MaxSF-']\n",
    "B = ['ClassA', 'Class70RW', 'Class70RT']\n",
    "\n",
    "# A = ['ClassA', 'Class70RW', 'Class70RT']\n",
    "# B = ['MaxBM', 'MaxSF+', 'MaxSF-']\n",
    "\n",
    "iterables = [A, B]\n",
    "index = pd.MultiIndex.from_product(iterables)\n",
    "\n",
    "C = []\n",
    "\n",
    "for i in [maxBMs, maxSFs_plus, maxSFs_minus]:\n",
    "    C.extend(i)\n",
    "\n",
    "# for i in range(len(loads)):\n",
    "#     for j in [maxBMs, maxSFs_plus, maxSFs_minus]:\n",
    "#         C.append(j[i])\n",
    "\n",
    "df = pd.DataFrame(C, index=index, columns=[span / 8 * i for i in range(9)])\n",
    "# print(df.loc[('ClassA', 'MaxSF-')])   ## you can navigate using loc, iloc\n",
    "\n",
    "new_row = df.loc['MaxSF+'].where(df.loc['MaxSF+'] > abs(df.loc['MaxSF-']), abs(df.loc['MaxSF-']))\n",
    "\n",
    "new_row.index = pd.MultiIndex.from_product([['MaxSF'], B])\n",
    "df = pd.concat([df, new_row])\n",
    "\n",
    "# df.to_excel('outputs/loads.xlsx') # uncomment to save as excel file\n",
    "df"
   ]
  },
  {
   "cell_type": "markdown",
   "id": "c431b869",
   "metadata": {},
   "source": [
    "*how to read Excel file*"
   ]
  },
  {
   "cell_type": "code",
   "execution_count": 8,
   "id": "eeb374fb",
   "metadata": {},
   "outputs": [],
   "source": [
    "# df = pd.read_excel('outputs/loads.xlsx', index_col=[0, 1])\n",
    "\n",
    "# ###get index names###\n",
    "# A = df.index.get_level_values(0).drop_duplicates().to_list()\n",
    "# B = df.index.get_level_values(1).drop_duplicates().to_list()\n",
    "# print(A, B)"
   ]
  },
  {
   "cell_type": "markdown",
   "id": "493939e4",
   "metadata": {},
   "source": [
    "#### impact factor"
   ]
  },
  {
   "cell_type": "code",
   "execution_count": 9,
   "id": "3f1b5cb6",
   "metadata": {},
   "outputs": [],
   "source": [
    "IF = [impact(i.name, span) for i in vehicles]"
   ]
  },
  {
   "cell_type": "markdown",
   "id": "250ccf91",
   "metadata": {},
   "source": [
    "#### possible combinations for given carriageway width"
   ]
  },
  {
   "cell_type": "code",
   "execution_count": 10,
   "id": "efcaaba5",
   "metadata": {},
   "outputs": [],
   "source": [
    "cwWidth = 6 #input\n",
    "carriageway = Carriageway(cwWidth)\n",
    "combinations = [Combination(1, 0, 0, cwWidth)]\n",
    "combinations.extend(carriageway.combinations())"
   ]
  },
  {
   "cell_type": "markdown",
   "id": "9e7b50ee",
   "metadata": {},
   "source": [
    "#### eccentricity calculation\n",
    "a combination consists of multiple arrangements gives different eccentricities. maximum eccentricities for each combination calculated."
   ]
  },
  {
   "cell_type": "code",
   "execution_count": 11,
   "id": "cc5bb796",
   "metadata": {},
   "outputs": [],
   "source": [
    "\n",
    "list_combinations = [i.get_value() for i in combinations]\n",
    "list_max_e = [abs(round(i.max_e(), 5)) for i in combinations]\n"
   ]
  },
  {
   "cell_type": "markdown",
   "id": "a2b292dd",
   "metadata": {},
   "source": [
    "#### make a dataframe for combinations and their corresponding eccentricities"
   ]
  },
  {
   "cell_type": "code",
   "execution_count": 12,
   "id": "5080febe",
   "metadata": {},
   "outputs": [
    {
     "data": {
      "text/html": [
       "<div>\n",
       "<style scoped>\n",
       "    .dataframe tbody tr th:only-of-type {\n",
       "        vertical-align: middle;\n",
       "    }\n",
       "\n",
       "    .dataframe tbody tr th {\n",
       "        vertical-align: top;\n",
       "    }\n",
       "\n",
       "    .dataframe thead th {\n",
       "        text-align: right;\n",
       "    }\n",
       "</style>\n",
       "<table border=\"1\" class=\"dataframe\">\n",
       "  <thead>\n",
       "    <tr style=\"text-align: right;\">\n",
       "      <th></th>\n",
       "      <th>ClassA</th>\n",
       "      <th>Class70Rw</th>\n",
       "      <th>Class70Rt</th>\n",
       "      <th>MaxEccentricity</th>\n",
       "    </tr>\n",
       "  </thead>\n",
       "  <tbody>\n",
       "    <tr>\n",
       "      <th>comb1</th>\n",
       "      <td>1</td>\n",
       "      <td>0</td>\n",
       "      <td>0</td>\n",
       "      <td>1.700</td>\n",
       "    </tr>\n",
       "    <tr>\n",
       "      <th>comb2</th>\n",
       "      <td>2</td>\n",
       "      <td>0</td>\n",
       "      <td>0</td>\n",
       "      <td>0.000</td>\n",
       "    </tr>\n",
       "    <tr>\n",
       "      <th>comb3</th>\n",
       "      <td>0</td>\n",
       "      <td>1</td>\n",
       "      <td>0</td>\n",
       "      <td>0.405</td>\n",
       "    </tr>\n",
       "    <tr>\n",
       "      <th>comb4</th>\n",
       "      <td>0</td>\n",
       "      <td>0</td>\n",
       "      <td>1</td>\n",
       "      <td>0.350</td>\n",
       "    </tr>\n",
       "  </tbody>\n",
       "</table>\n",
       "</div>"
      ],
      "text/plain": [
       "       ClassA  Class70Rw  Class70Rt  MaxEccentricity\n",
       "comb1       1          0          0            1.700\n",
       "comb2       2          0          0            0.000\n",
       "comb3       0          1          0            0.405\n",
       "comb4       0          0          1            0.350"
      ]
     },
     "execution_count": 12,
     "metadata": {},
     "output_type": "execute_result"
    }
   ],
   "source": [
    "df1 = pd.DataFrame(list_combinations, columns=['ClassA', 'Class70Rw', 'Class70Rt'],\n",
    "                   index=[f'comb{i + 1}' for i in range(len(list_combinations))])\n",
    "df1['MaxEccentricity'] = list_max_e\n",
    "df1"
   ]
  },
  {
   "cell_type": "markdown",
   "id": "a3368625",
   "metadata": {},
   "source": [
    "*export eccentricity as excel file (uncomment)*"
   ]
  },
  {
   "cell_type": "code",
   "execution_count": 13,
   "id": "2657c077",
   "metadata": {},
   "outputs": [],
   "source": [
    "df1.to_excel('outputs/max_e.xlsx')"
   ]
  },
  {
   "cell_type": "markdown",
   "id": "01869326",
   "metadata": {},
   "source": [
    "#### total reactions for given combination\n",
    "total reactions = sum of (maxreactions at mid span * impact factor * no. of that vehicles)"
   ]
  },
  {
   "cell_type": "code",
   "execution_count": 14,
   "id": "3620ecd7",
   "metadata": {
    "pycharm": {
     "name": "#%%\n"
    },
    "scrolled": true
   },
   "outputs": [],
   "source": [
    "totalBMs = [(df.loc['MaxBM'][span / 2] + df.loc['MaxBM'][span / 2] * IF).dot(list_combinations[i]) for i in range(len(combinations))]\n",
    "totalSFs = [(df.loc['MaxSF'][span / 2] + df.loc['MaxSF'][span / 2] * IF).dot(list_combinations[i]) for i in range(len(combinations))]"
   ]
  },
  {
   "cell_type": "markdown",
   "id": "6efe059e",
   "metadata": {},
   "source": [
    "**reaction in transverse direction**"
   ]
  },
  {
   "cell_type": "code",
   "execution_count": 15,
   "id": "8da0042b",
   "metadata": {
    "scrolled": true
   },
   "outputs": [
    {
     "data": {
      "text/html": [
       "<div>\n",
       "<style scoped>\n",
       "    .dataframe tbody tr th:only-of-type {\n",
       "        vertical-align: middle;\n",
       "    }\n",
       "\n",
       "    .dataframe tbody tr th {\n",
       "        vertical-align: top;\n",
       "    }\n",
       "\n",
       "    .dataframe thead th {\n",
       "        text-align: right;\n",
       "    }\n",
       "</style>\n",
       "<table border=\"1\" class=\"dataframe\">\n",
       "  <thead>\n",
       "    <tr style=\"text-align: right;\">\n",
       "      <th></th>\n",
       "      <th>ClassA</th>\n",
       "      <th>Class70Rw</th>\n",
       "      <th>Class70Rt</th>\n",
       "      <th>MaxEccentricity</th>\n",
       "      <th>TotalBM</th>\n",
       "      <th>TotalSF</th>\n",
       "    </tr>\n",
       "  </thead>\n",
       "  <tbody>\n",
       "    <tr>\n",
       "      <th>comb1</th>\n",
       "      <td>1</td>\n",
       "      <td>0</td>\n",
       "      <td>0</td>\n",
       "      <td>1.700</td>\n",
       "      <td>6012.4512</td>\n",
       "      <td>190.576256</td>\n",
       "    </tr>\n",
       "    <tr>\n",
       "      <th>comb2</th>\n",
       "      <td>2</td>\n",
       "      <td>0</td>\n",
       "      <td>0</td>\n",
       "      <td>0.000</td>\n",
       "      <td>12024.9024</td>\n",
       "      <td>381.152512</td>\n",
       "    </tr>\n",
       "    <tr>\n",
       "      <th>comb3</th>\n",
       "      <td>0</td>\n",
       "      <td>1</td>\n",
       "      <td>0</td>\n",
       "      <td>0.405</td>\n",
       "      <td>11834.6112</td>\n",
       "      <td>432.506112</td>\n",
       "    </tr>\n",
       "    <tr>\n",
       "      <th>comb4</th>\n",
       "      <td>0</td>\n",
       "      <td>0</td>\n",
       "      <td>1</td>\n",
       "      <td>0.350</td>\n",
       "      <td>9076.1504</td>\n",
       "      <td>345.537920</td>\n",
       "    </tr>\n",
       "  </tbody>\n",
       "</table>\n",
       "</div>"
      ],
      "text/plain": [
       "       ClassA  Class70Rw  Class70Rt  MaxEccentricity     TotalBM     TotalSF\n",
       "comb1       1          0          0            1.700   6012.4512  190.576256\n",
       "comb2       2          0          0            0.000  12024.9024  381.152512\n",
       "comb3       0          1          0            0.405  11834.6112  432.506112\n",
       "comb4       0          0          1            0.350   9076.1504  345.537920"
      ]
     },
     "execution_count": 15,
     "metadata": {},
     "output_type": "execute_result"
    }
   ],
   "source": [
    "df1['TotalBM'] = totalBMs\n",
    "df1['TotalSF'] = totalSFs\n",
    "df1"
   ]
  },
  {
   "cell_type": "markdown",
   "id": "837d06fe",
   "metadata": {},
   "source": [
    "### Live load components on bearings"
   ]
  },
  {
   "cell_type": "code",
   "execution_count": 16,
   "id": "6544b3d0",
   "metadata": {},
   "outputs": [],
   "source": [
    "dfSF = pd.DataFrame()    # accessing df takes longer\n",
    "dfBM = pd.DataFrame()\n",
    "        #[a, 70r, 70rt]\n",
    "veh_no = [2, 2, 1] # revise this !!!\n",
    "for index, veh in enumerate(vehicles):\n",
    "    new_veh = veh\n",
    "    for i in range(veh_no[index]-1):\n",
    "        new_veh+=veh\n",
    "    final_load = list(new_veh.loadpair)\n",
    "\n",
    "    max_sum_at = 0\n",
    "    sumlr = 0\n",
    "    difflr = 0\n",
    "    nleft = 0\n",
    "    nright = 0\n",
    "\n",
    "    head_at = 0\n",
    "    step = 0.01\n",
    "    for i in range(int((span * 2 + final_load[-1][0]) / step)):\n",
    "        left = 0\n",
    "        right = 0\n",
    "        for j in final_load:\n",
    "            rb = find_rb(span, head_at - j[0], c_c / 2, c_c / 2) * j[1]\n",
    "            ra = find_ra(span, head_at - j[0] - (span + c_c), c_c / 2, c_c / 2) * j[1]\n",
    "            temp_load = 0\n",
    "            if head_at - j[0] == span + c_c / 2:\n",
    "                temp_load = (j[1]) / 2\n",
    "                ra = find_ra(span, head_at - j[0] - (span + c_c), c_c / 2, c_c / 2) * temp_load\n",
    "                rb = find_rb(span, head_at - j[0], c_c / 2, c_c / 2) * temp_load\n",
    "            left += rb\n",
    "            right += ra\n",
    "\n",
    "        if left + right > sumlr:\n",
    "            sumlr = left + right\n",
    "            dfSF.loc[f'{veh.name}', 'RL'], dfSF.loc[f'{veh.name}', 'RR'], dfSF.loc[\n",
    "                f'{veh.name}', 'at'], dfSF.loc[f'{veh.name}', 'sum']= left, right, head_at, left + right\n",
    "\n",
    "        if abs(left - right) > abs(difflr):\n",
    "            difflr = left - right\n",
    "            dfBM.loc[f'{veh.name}', 'RL'], dfBM.loc[f'{veh.name}', 'RR'], dfBM.loc[\n",
    "                f'{veh.name}', 'at'], dfBM.loc[f'{veh.name}', 'sum'] = left, right, head_at, left + right\n",
    "        head_at = round(head_at + step, 5)"
   ]
  },
  {
   "cell_type": "code",
   "execution_count": 17,
   "id": "f01895b9",
   "metadata": {
    "pycharm": {
     "name": "#%%\n"
    }
   },
   "outputs": [
    {
     "data": {
      "text/html": [
       "<div>\n",
       "<style scoped>\n",
       "    .dataframe tbody tr th:only-of-type {\n",
       "        vertical-align: middle;\n",
       "    }\n",
       "\n",
       "    .dataframe tbody tr th {\n",
       "        vertical-align: top;\n",
       "    }\n",
       "\n",
       "    .dataframe thead th {\n",
       "        text-align: right;\n",
       "    }\n",
       "</style>\n",
       "<table border=\"1\" class=\"dataframe\">\n",
       "  <thead>\n",
       "    <tr style=\"text-align: right;\">\n",
       "      <th></th>\n",
       "      <th></th>\n",
       "      <th>RL</th>\n",
       "      <th>RR</th>\n",
       "      <th>sum</th>\n",
       "    </tr>\n",
       "  </thead>\n",
       "  <tbody>\n",
       "    <tr>\n",
       "      <th rowspan=\"3\" valign=\"top\">MaxSF</th>\n",
       "      <th>Class A</th>\n",
       "      <td>248.4008</td>\n",
       "      <td>462.9352</td>\n",
       "      <td>711.3360</td>\n",
       "    </tr>\n",
       "    <tr>\n",
       "      <th>Class 70RW</th>\n",
       "      <td>234.4760</td>\n",
       "      <td>927.1240</td>\n",
       "      <td>1161.6000</td>\n",
       "    </tr>\n",
       "    <tr>\n",
       "      <th>Class 70RT</th>\n",
       "      <td>350.0660</td>\n",
       "      <td>354.6160</td>\n",
       "      <td>704.6820</td>\n",
       "    </tr>\n",
       "    <tr>\n",
       "      <th rowspan=\"3\" valign=\"top\">MaxBM</th>\n",
       "      <th>Class A</th>\n",
       "      <td>522.1936</td>\n",
       "      <td>0.0000</td>\n",
       "      <td>522.1936</td>\n",
       "    </tr>\n",
       "    <tr>\n",
       "      <th>Class 70RW</th>\n",
       "      <td>0.0000</td>\n",
       "      <td>974.0640</td>\n",
       "      <td>974.0640</td>\n",
       "    </tr>\n",
       "    <tr>\n",
       "      <th>Class 70RT</th>\n",
       "      <td>0.0000</td>\n",
       "      <td>688.8700</td>\n",
       "      <td>688.8700</td>\n",
       "    </tr>\n",
       "  </tbody>\n",
       "</table>\n",
       "</div>"
      ],
      "text/plain": [
       "                        RL        RR        sum\n",
       "MaxSF Class A     248.4008  462.9352   711.3360\n",
       "      Class 70RW  234.4760  927.1240  1161.6000\n",
       "      Class 70RT  350.0660  354.6160   704.6820\n",
       "MaxBM Class A     522.1936    0.0000   522.1936\n",
       "      Class 70RW    0.0000  974.0640   974.0640\n",
       "      Class 70RT    0.0000  688.8700   688.8700"
      ]
     },
     "execution_count": 17,
     "metadata": {},
     "output_type": "execute_result"
    }
   ],
   "source": [
    "total_frame = pd.concat([dfSF, dfBM], keys=['MaxSF', 'MaxBM'])\n",
    "# total_frame.to_excel('outputs/Live_Loads_Seismic.xlsx')\n",
    "new = (total_frame.drop(columns= ['at']))\n",
    "\n",
    "msf = np.array(new.loc['MaxSF'])\n",
    "mbm = np.array(new.loc['MaxBM'])\n",
    "new"
   ]
  },
  {
   "cell_type": "markdown",
   "id": "70b6f382",
   "metadata": {},
   "source": [
    "live load cases"
   ]
  },
  {
   "cell_type": "code",
   "execution_count": 18,
   "id": "ddc82381",
   "metadata": {
    "scrolled": true
   },
   "outputs": [
    {
     "data": {
      "text/html": [
       "<div>\n",
       "<style scoped>\n",
       "    .dataframe tbody tr th:only-of-type {\n",
       "        vertical-align: middle;\n",
       "    }\n",
       "\n",
       "    .dataframe tbody tr th {\n",
       "        vertical-align: top;\n",
       "    }\n",
       "\n",
       "    .dataframe thead th {\n",
       "        text-align: right;\n",
       "    }\n",
       "</style>\n",
       "<table border=\"1\" class=\"dataframe\">\n",
       "  <thead>\n",
       "    <tr style=\"text-align: right;\">\n",
       "      <th></th>\n",
       "      <th>RL</th>\n",
       "      <th>RR</th>\n",
       "      <th>Sum</th>\n",
       "    </tr>\n",
       "  </thead>\n",
       "  <tbody>\n",
       "    <tr>\n",
       "      <th>comb1sf</th>\n",
       "      <td>248.4008</td>\n",
       "      <td>462.9352</td>\n",
       "      <td>711.3360</td>\n",
       "    </tr>\n",
       "    <tr>\n",
       "      <th>comb2sf</th>\n",
       "      <td>496.8016</td>\n",
       "      <td>925.8704</td>\n",
       "      <td>1422.6720</td>\n",
       "    </tr>\n",
       "    <tr>\n",
       "      <th>comb3sf</th>\n",
       "      <td>234.4760</td>\n",
       "      <td>927.1240</td>\n",
       "      <td>1161.6000</td>\n",
       "    </tr>\n",
       "    <tr>\n",
       "      <th>comb4sf</th>\n",
       "      <td>350.0660</td>\n",
       "      <td>354.6160</td>\n",
       "      <td>704.6820</td>\n",
       "    </tr>\n",
       "    <tr>\n",
       "      <th>comb1bm</th>\n",
       "      <td>522.1936</td>\n",
       "      <td>0.0000</td>\n",
       "      <td>522.1936</td>\n",
       "    </tr>\n",
       "    <tr>\n",
       "      <th>comb2bm</th>\n",
       "      <td>1044.3872</td>\n",
       "      <td>0.0000</td>\n",
       "      <td>1044.3872</td>\n",
       "    </tr>\n",
       "    <tr>\n",
       "      <th>comb3bm</th>\n",
       "      <td>0.0000</td>\n",
       "      <td>974.0640</td>\n",
       "      <td>974.0640</td>\n",
       "    </tr>\n",
       "    <tr>\n",
       "      <th>comb4bm</th>\n",
       "      <td>0.0000</td>\n",
       "      <td>688.8700</td>\n",
       "      <td>688.8700</td>\n",
       "    </tr>\n",
       "  </tbody>\n",
       "</table>\n",
       "</div>"
      ],
      "text/plain": [
       "                RL        RR        Sum\n",
       "comb1sf   248.4008  462.9352   711.3360\n",
       "comb2sf   496.8016  925.8704  1422.6720\n",
       "comb3sf   234.4760  927.1240  1161.6000\n",
       "comb4sf   350.0660  354.6160   704.6820\n",
       "comb1bm   522.1936    0.0000   522.1936\n",
       "comb2bm  1044.3872    0.0000  1044.3872\n",
       "comb3bm     0.0000  974.0640   974.0640\n",
       "comb4bm     0.0000  688.8700   688.8700"
      ]
     },
     "execution_count": 18,
     "metadata": {},
     "output_type": "execute_result"
    }
   ],
   "source": [
    "comb_arr = np.array(list_combinations)\n",
    "data = np.vstack([comb_arr.dot(msf), comb_arr.dot(mbm)])\n",
    "LL_cases = pd.DataFrame(\n",
    "    index = ['comb1sf', 'comb2sf', 'comb3sf', 'comb4sf', 'comb1bm', 'comb2bm', 'comb3bm', 'comb4bm'], \n",
    "    columns= ['RL', 'RR', 'Sum'], \n",
    "    data = data\n",
    ") #pull df1 to lookup combinations\n",
    "LL_cases"
   ]
  },
  {
   "cell_type": "markdown",
   "id": "19cee8e2",
   "metadata": {},
   "source": [
    "### dead loads and pedestal loads"
   ]
  },
  {
   "cell_type": "markdown",
   "id": "a6a4da69",
   "metadata": {},
   "source": [
    "importing dead load"
   ]
  },
  {
   "cell_type": "code",
   "execution_count": 19,
   "id": "6ff1f421",
   "metadata": {
    "scrolled": true
   },
   "outputs": [
    {
     "data": {
      "text/html": [
       "<div>\n",
       "<style scoped>\n",
       "    .dataframe tbody tr th:only-of-type {\n",
       "        vertical-align: middle;\n",
       "    }\n",
       "\n",
       "    .dataframe tbody tr th {\n",
       "        vertical-align: top;\n",
       "    }\n",
       "\n",
       "    .dataframe thead th {\n",
       "        text-align: right;\n",
       "    }\n",
       "</style>\n",
       "<table border=\"1\" class=\"dataframe\">\n",
       "  <thead>\n",
       "    <tr style=\"text-align: right;\">\n",
       "      <th></th>\n",
       "      <th>RL</th>\n",
       "      <th>RR</th>\n",
       "      <th>Sum</th>\n",
       "    </tr>\n",
       "  </thead>\n",
       "  <tbody>\n",
       "    <tr>\n",
       "      <th>Dead Load</th>\n",
       "      <td>4895.625</td>\n",
       "      <td>4895.625</td>\n",
       "      <td>9791.25</td>\n",
       "    </tr>\n",
       "    <tr>\n",
       "      <th>Other Load</th>\n",
       "      <td>325.000</td>\n",
       "      <td>325.000</td>\n",
       "      <td>650.00</td>\n",
       "    </tr>\n",
       "    <tr>\n",
       "      <th>Surface Load</th>\n",
       "      <td>214.500</td>\n",
       "      <td>214.500</td>\n",
       "      <td>429.00</td>\n",
       "    </tr>\n",
       "    <tr>\n",
       "      <th>Pedestrian load</th>\n",
       "      <td>150.000</td>\n",
       "      <td>150.000</td>\n",
       "      <td>300.00</td>\n",
       "    </tr>\n",
       "  </tbody>\n",
       "</table>\n",
       "</div>"
      ],
      "text/plain": [
       "                       RL        RR      Sum\n",
       "Dead Load        4895.625  4895.625  9791.25\n",
       "Other Load        325.000   325.000   650.00\n",
       "Surface Load      214.500   214.500   429.00\n",
       "Pedestrian load   150.000   150.000   300.00"
      ]
     },
     "execution_count": 19,
     "metadata": {},
     "output_type": "execute_result"
    }
   ],
   "source": [
    "dead=pd.read_csv('outputs/DL_for_Seismic.csv', index_col=0)\n",
    "dead"
   ]
  },
  {
   "cell_type": "markdown",
   "id": "461c2912",
   "metadata": {},
   "source": [
    "**loads**"
   ]
  },
  {
   "cell_type": "code",
   "execution_count": 20,
   "id": "f91e762f",
   "metadata": {},
   "outputs": [],
   "source": [
    "all_dl = dead[:-1]\n",
    "DL = sum(all_dl.Sum)\n",
    "\n",
    "all_pedl = dead.iloc[3]\n",
    "PedL = all_pedl.Sum\n",
    "\n",
    "la_span_ll = fdnpd_width/2 - c_c/2 #lever arm at left bearing for loads from span in longitudinal dir\n",
    "la_span_lr = fdnpd_width/2 + c_c/2 #lever arm at right bearing for loads from span in longitudinal dir\n",
    "\n",
    "la_span_t = fdnpd_length/2 #la when load in mid span (in transverse dir)"
   ]
  },
  {
   "cell_type": "markdown",
   "id": "f116b322",
   "metadata": {},
   "source": [
    "max live load as per vehicle possible combinations"
   ]
  },
  {
   "cell_type": "code",
   "execution_count": 21,
   "id": "25a19821",
   "metadata": {},
   "outputs": [],
   "source": [
    "LL = max(LL_cases['Sum'])"
   ]
  },
  {
   "cell_type": "code",
   "execution_count": 22,
   "id": "aaf508d8",
   "metadata": {},
   "outputs": [
    {
     "data": {
      "text/plain": [
       "(10870.250000000002, 1422.672, 300.0)"
      ]
     },
     "execution_count": 22,
     "metadata": {},
     "output_type": "execute_result"
    }
   ],
   "source": [
    "DL, LL, PedL"
   ]
  },
  {
   "cell_type": "markdown",
   "id": "0521aaeb",
   "metadata": {},
   "source": [
    "**Moments**"
   ]
  },
  {
   "cell_type": "markdown",
   "id": "d83c540d",
   "metadata": {},
   "source": [
    "dead load moments"
   ]
  },
  {
   "cell_type": "code",
   "execution_count": 23,
   "id": "8074cbf1",
   "metadata": {},
   "outputs": [],
   "source": [
    "mom_dead_l = dead['RL']*la_span_ll + dead['RR']*la_span_lr\n",
    "mom_dead_t = dead['Sum']*la_span_t\n",
    "dead = dead.assign(MomL = mom_dead_l, MomT = mom_dead_t)"
   ]
  },
  {
   "cell_type": "markdown",
   "id": "ec753cec",
   "metadata": {},
   "source": [
    "live load moments"
   ]
  },
  {
   "cell_type": "code",
   "execution_count": 24,
   "id": "69dc7d12",
   "metadata": {},
   "outputs": [
    {
     "data": {
      "text/html": [
       "<div>\n",
       "<style scoped>\n",
       "    .dataframe tbody tr th:only-of-type {\n",
       "        vertical-align: middle;\n",
       "    }\n",
       "\n",
       "    .dataframe tbody tr th {\n",
       "        vertical-align: top;\n",
       "    }\n",
       "\n",
       "    .dataframe thead th {\n",
       "        text-align: right;\n",
       "    }\n",
       "</style>\n",
       "<table border=\"1\" class=\"dataframe\">\n",
       "  <thead>\n",
       "    <tr style=\"text-align: right;\">\n",
       "      <th></th>\n",
       "      <th>RL</th>\n",
       "      <th>RR</th>\n",
       "      <th>Sum</th>\n",
       "      <th>MomL</th>\n",
       "      <th>MomT</th>\n",
       "    </tr>\n",
       "  </thead>\n",
       "  <tbody>\n",
       "    <tr>\n",
       "      <th>Dead Load</th>\n",
       "      <td>4895.6250</td>\n",
       "      <td>4895.6250</td>\n",
       "      <td>9791.2500</td>\n",
       "      <td>51404.0625</td>\n",
       "      <td>51404.06250</td>\n",
       "    </tr>\n",
       "    <tr>\n",
       "      <th>Other Load</th>\n",
       "      <td>325.0000</td>\n",
       "      <td>325.0000</td>\n",
       "      <td>650.0000</td>\n",
       "      <td>3412.5000</td>\n",
       "      <td>3412.50000</td>\n",
       "    </tr>\n",
       "    <tr>\n",
       "      <th>Surface Load</th>\n",
       "      <td>214.5000</td>\n",
       "      <td>214.5000</td>\n",
       "      <td>429.0000</td>\n",
       "      <td>2252.2500</td>\n",
       "      <td>2252.25000</td>\n",
       "    </tr>\n",
       "    <tr>\n",
       "      <th>Pedestrian load</th>\n",
       "      <td>150.0000</td>\n",
       "      <td>150.0000</td>\n",
       "      <td>300.0000</td>\n",
       "      <td>1575.0000</td>\n",
       "      <td>1575.00000</td>\n",
       "    </tr>\n",
       "    <tr>\n",
       "      <th>comb1sf</th>\n",
       "      <td>248.4008</td>\n",
       "      <td>462.9352</td>\n",
       "      <td>711.3360</td>\n",
       "      <td>4056.3156</td>\n",
       "      <td>1209.27120</td>\n",
       "    </tr>\n",
       "    <tr>\n",
       "      <th>comb2sf</th>\n",
       "      <td>496.8016</td>\n",
       "      <td>925.8704</td>\n",
       "      <td>1422.6720</td>\n",
       "      <td>8112.6312</td>\n",
       "      <td>0.00000</td>\n",
       "    </tr>\n",
       "    <tr>\n",
       "      <th>comb3sf</th>\n",
       "      <td>234.4760</td>\n",
       "      <td>927.1240</td>\n",
       "      <td>1161.6000</td>\n",
       "      <td>7137.3720</td>\n",
       "      <td>470.44800</td>\n",
       "    </tr>\n",
       "    <tr>\n",
       "      <th>comb4sf</th>\n",
       "      <td>350.0660</td>\n",
       "      <td>354.6160</td>\n",
       "      <td>704.6820</td>\n",
       "      <td>3706.4055</td>\n",
       "      <td>246.63870</td>\n",
       "    </tr>\n",
       "    <tr>\n",
       "      <th>comb1bm</th>\n",
       "      <td>522.1936</td>\n",
       "      <td>0.0000</td>\n",
       "      <td>522.1936</td>\n",
       "      <td>1958.2260</td>\n",
       "      <td>887.72912</td>\n",
       "    </tr>\n",
       "    <tr>\n",
       "      <th>comb2bm</th>\n",
       "      <td>1044.3872</td>\n",
       "      <td>0.0000</td>\n",
       "      <td>1044.3872</td>\n",
       "      <td>3916.4520</td>\n",
       "      <td>0.00000</td>\n",
       "    </tr>\n",
       "    <tr>\n",
       "      <th>comb3bm</th>\n",
       "      <td>0.0000</td>\n",
       "      <td>974.0640</td>\n",
       "      <td>974.0640</td>\n",
       "      <td>6574.9320</td>\n",
       "      <td>394.49592</td>\n",
       "    </tr>\n",
       "    <tr>\n",
       "      <th>comb4bm</th>\n",
       "      <td>0.0000</td>\n",
       "      <td>688.8700</td>\n",
       "      <td>688.8700</td>\n",
       "      <td>4649.8725</td>\n",
       "      <td>241.10450</td>\n",
       "    </tr>\n",
       "  </tbody>\n",
       "</table>\n",
       "</div>"
      ],
      "text/plain": [
       "                        RL         RR        Sum        MomL         MomT\n",
       "Dead Load        4895.6250  4895.6250  9791.2500  51404.0625  51404.06250\n",
       "Other Load        325.0000   325.0000   650.0000   3412.5000   3412.50000\n",
       "Surface Load      214.5000   214.5000   429.0000   2252.2500   2252.25000\n",
       "Pedestrian load   150.0000   150.0000   300.0000   1575.0000   1575.00000\n",
       "comb1sf           248.4008   462.9352   711.3360   4056.3156   1209.27120\n",
       "comb2sf           496.8016   925.8704  1422.6720   8112.6312      0.00000\n",
       "comb3sf           234.4760   927.1240  1161.6000   7137.3720    470.44800\n",
       "comb4sf           350.0660   354.6160   704.6820   3706.4055    246.63870\n",
       "comb1bm           522.1936     0.0000   522.1936   1958.2260    887.72912\n",
       "comb2bm          1044.3872     0.0000  1044.3872   3916.4520      0.00000\n",
       "comb3bm             0.0000   974.0640   974.0640   6574.9320    394.49592\n",
       "comb4bm             0.0000   688.8700   688.8700   4649.8725    241.10450"
      ]
     },
     "execution_count": 24,
     "metadata": {},
     "output_type": "execute_result"
    }
   ],
   "source": [
    "mom_live_l = LL_cases['RL']*la_span_ll + LL_cases['RR']*la_span_lr\n",
    "mom_live_t = LL_cases['Sum']*(list_max_e*2)\n",
    "LL_cases =LL_cases.assign(MomL = mom_live_l, MomT = mom_live_t)\n",
    "\n",
    "pd.concat([dead, LL_cases])"
   ]
  },
  {
   "cell_type": "markdown",
   "id": "6c9dc198",
   "metadata": {},
   "source": [
    "### Total load of piers"
   ]
  },
  {
   "cell_type": "code",
   "execution_count": 25,
   "id": "8a8551f9",
   "metadata": {},
   "outputs": [],
   "source": [
    "## pier stem area (a1, a2, a3) = (semi circle, rect, semi circle)\n",
    "a1 = 0.5*math.pi*(diameter**2)/4\n",
    "a2 = pier_length_rect*pier_width_rect\n",
    "a3 = 0.5*math.pi*(diameter**2)/4\n",
    "stem_area = a1+a2+a3"
   ]
  },
  {
   "cell_type": "markdown",
   "id": "bad7d2e8",
   "metadata": {},
   "source": [
    "weight of pier components"
   ]
  },
  {
   "cell_type": "code",
   "execution_count": 26,
   "id": "5d2c994e",
   "metadata": {},
   "outputs": [],
   "source": [
    "wt_piercap = piercap_height*piercap_length*piercap_width*un_wt\n",
    "wt_pierstem = (stem_area)*pier_height*un_wt\n",
    "wt_fdnpd = fdnpd_height*fdnpd_length*fdnpd_width*un_wt"
   ]
  },
  {
   "cell_type": "markdown",
   "id": "fb0dc3b2",
   "metadata": {},
   "source": [
    "**Moments**"
   ]
  },
  {
   "cell_type": "markdown",
   "id": "52459861",
   "metadata": {},
   "source": [
    "lever arm"
   ]
  },
  {
   "cell_type": "code",
   "execution_count": 27,
   "id": "f2998040",
   "metadata": {},
   "outputs": [],
   "source": [
    "la_pier_l = fdnpd_width/2\n",
    "la_pier_t = fdnpd_length/2"
   ]
  },
  {
   "cell_type": "code",
   "execution_count": 28,
   "id": "c2294ae3",
   "metadata": {},
   "outputs": [],
   "source": [
    "mom_piercap_l = wt_piercap*la_pier_l\n",
    "mom_piercap_t = wt_piercap*la_pier_t\n",
    "\n",
    "mom_pierstem_l = wt_pierstem*la_pier_l\n",
    "mom_pierstem_t = wt_pierstem*la_pier_t\n",
    "\n",
    "mom_fdnpd_l = wt_fdnpd*la_pier_l\n",
    "mom_fdnpd_t = wt_fdnpd*la_pier_t"
   ]
  },
  {
   "cell_type": "markdown",
   "id": "e0db6523",
   "metadata": {},
   "source": [
    "making dataframe"
   ]
  },
  {
   "cell_type": "code",
   "execution_count": 29,
   "id": "a01e4a01",
   "metadata": {},
   "outputs": [
    {
     "data": {
      "text/html": [
       "<div>\n",
       "<style scoped>\n",
       "    .dataframe tbody tr th:only-of-type {\n",
       "        vertical-align: middle;\n",
       "    }\n",
       "\n",
       "    .dataframe tbody tr th {\n",
       "        vertical-align: top;\n",
       "    }\n",
       "\n",
       "    .dataframe thead th {\n",
       "        text-align: right;\n",
       "    }\n",
       "</style>\n",
       "<table border=\"1\" class=\"dataframe\">\n",
       "  <thead>\n",
       "    <tr style=\"text-align: right;\">\n",
       "      <th></th>\n",
       "      <th>weight</th>\n",
       "      <th>MomL</th>\n",
       "      <th>MomT</th>\n",
       "    </tr>\n",
       "  </thead>\n",
       "  <tbody>\n",
       "    <tr>\n",
       "      <th>piercap</th>\n",
       "      <td>1470.000000</td>\n",
       "      <td>7717.500000</td>\n",
       "      <td>7717.500000</td>\n",
       "    </tr>\n",
       "    <tr>\n",
       "      <th>pierstem</th>\n",
       "      <td>1082.402637</td>\n",
       "      <td>5682.613846</td>\n",
       "      <td>5682.613846</td>\n",
       "    </tr>\n",
       "    <tr>\n",
       "      <th>fdnpd</th>\n",
       "      <td>5512.500000</td>\n",
       "      <td>28940.625000</td>\n",
       "      <td>28940.625000</td>\n",
       "    </tr>\n",
       "  </tbody>\n",
       "</table>\n",
       "</div>"
      ],
      "text/plain": [
       "               weight          MomL          MomT\n",
       "piercap   1470.000000   7717.500000   7717.500000\n",
       "pierstem  1082.402637   5682.613846   5682.613846\n",
       "fdnpd     5512.500000  28940.625000  28940.625000"
      ]
     },
     "execution_count": 29,
     "metadata": {},
     "output_type": "execute_result"
    }
   ],
   "source": [
    "all_rows = [\n",
    "    [wt_piercap, mom_piercap_l, mom_piercap_t], \n",
    "    [wt_pierstem, mom_pierstem_l, mom_pierstem_t],\n",
    "    [wt_fdnpd, mom_fdnpd_l, mom_fdnpd_t]\n",
    "]\n",
    "\n",
    "pier_load = pd.DataFrame(all_rows, columns= ['weight', 'MomL', 'MomT'], index=['piercap', 'pierstem', 'fdnpd'])\n",
    "pier_load"
   ]
  },
  {
   "cell_type": "markdown",
   "id": "381c0745",
   "metadata": {},
   "source": [
    "### Buoyancy"
   ]
  },
  {
   "cell_type": "markdown",
   "id": "dd68409b",
   "metadata": {},
   "source": [
    "To allow for full buoyancy, a reduction shall be made in the gross weight of\n",
    "the member affected by reducing its density by the density of the displaced water.\n",
    "*The density of water may be taken as 1.0 t/m$^{3}$*"
   ]
  },
  {
   "cell_type": "code",
   "execution_count": 30,
   "id": "2051ed56",
   "metadata": {},
   "outputs": [],
   "source": [
    "volume = stem_area*pier_height_hfl\n",
    "upthrust = 10*volume # kn"
   ]
  },
  {
   "cell_type": "markdown",
   "id": "c3526c91",
   "metadata": {},
   "source": [
    "**Moments**"
   ]
  },
  {
   "cell_type": "code",
   "execution_count": 31,
   "id": "3488eced",
   "metadata": {},
   "outputs": [],
   "source": [
    "mom_buoy_l = upthrust*la_pier_l\n",
    "mom_buoy_t = upthrust*la_pier_t"
   ]
  },
  {
   "cell_type": "markdown",
   "id": "58849640",
   "metadata": {},
   "source": [
    "making dataframe"
   ]
  },
  {
   "cell_type": "code",
   "execution_count": 32,
   "id": "58222369",
   "metadata": {},
   "outputs": [
    {
     "data": {
      "text/html": [
       "<div>\n",
       "<style scoped>\n",
       "    .dataframe tbody tr th:only-of-type {\n",
       "        vertical-align: middle;\n",
       "    }\n",
       "\n",
       "    .dataframe tbody tr th {\n",
       "        vertical-align: top;\n",
       "    }\n",
       "\n",
       "    .dataframe thead th {\n",
       "        text-align: right;\n",
       "    }\n",
       "</style>\n",
       "<table border=\"1\" class=\"dataframe\">\n",
       "  <thead>\n",
       "    <tr style=\"text-align: right;\">\n",
       "      <th></th>\n",
       "      <th>weight_reduction</th>\n",
       "      <th>MomL</th>\n",
       "      <th>MomT</th>\n",
       "    </tr>\n",
       "  </thead>\n",
       "  <tbody>\n",
       "    <tr>\n",
       "      <th>buoyancy</th>\n",
       "      <td>432.961055</td>\n",
       "      <td>2273.045538</td>\n",
       "      <td>2273.045538</td>\n",
       "    </tr>\n",
       "  </tbody>\n",
       "</table>\n",
       "</div>"
      ],
      "text/plain": [
       "          weight_reduction         MomL         MomT\n",
       "buoyancy        432.961055  2273.045538  2273.045538"
      ]
     },
     "execution_count": 32,
     "metadata": {},
     "output_type": "execute_result"
    }
   ],
   "source": [
    "buoyancy = pd.DataFrame(\n",
    "    [\n",
    "        [upthrust, mom_buoy_l, \n",
    "         mom_buoy_t]\n",
    "    ],\n",
    "    index=['buoyancy'], \n",
    "    columns=['weight_reduction','MomL', 'MomT']\n",
    ")\n",
    "buoyancy"
   ]
  },
  {
   "cell_type": "markdown",
   "id": "245e496f",
   "metadata": {},
   "source": [
    "### Horizontal forces due to water currents"
   ]
  },
  {
   "cell_type": "code",
   "execution_count": 33,
   "id": "9a2415d0",
   "metadata": {},
   "outputs": [],
   "source": [
    "velocity = 1.77 # input"
   ]
  },
  {
   "cell_type": "markdown",
   "id": "af79c94d",
   "metadata": {},
   "source": [
    "normal current - current parallel to pier (transverse to bridge alignment)"
   ]
  },
  {
   "cell_type": "code",
   "execution_count": 34,
   "id": "29e67947",
   "metadata": {},
   "outputs": [
    {
     "data": {
      "text/plain": [
       "(1.075, 1.2, 7.3, 9.416999999999998)"
      ]
     },
     "execution_count": 34,
     "metadata": {},
     "output_type": "execute_result"
    }
   ],
   "source": [
    "P_norm = f_watercurrent(velocity)[0]\n",
    "F_norm = P_norm*pier_width*pier_height_hfl\n",
    "P_norm,pier_width,pier_height_hfl, F_norm"
   ]
  },
  {
   "cell_type": "markdown",
   "id": "22c67965",
   "metadata": {},
   "source": [
    "current at 20 degrees to normal flow direction"
   ]
  },
  {
   "cell_type": "code",
   "execution_count": 35,
   "id": "30137fde",
   "metadata": {},
   "outputs": [],
   "source": [
    "P20_norm, P20_trans = f_watercurrent(velocity, 20)\n",
    "F20_norm, F20_trans = P20_norm*pier_width*pier_height_hfl, P20_trans*pier_width*pier_height_hfl\n",
    "# calculate moments here"
   ]
  },
  {
   "cell_type": "markdown",
   "id": "96d5a4c9",
   "metadata": {},
   "source": [
    "### **Seismic**"
   ]
  },
  {
   "cell_type": "markdown",
   "id": "93d54014",
   "metadata": {},
   "source": [
    "**load combination:** [DL, LL, PedL] as per IRC:6-2017 219.5.2"
   ]
  },
  {
   "cell_type": "code",
   "execution_count": 36,
   "id": "343594bc",
   "metadata": {},
   "outputs": [],
   "source": [
    "comb_l = np.array([1, 0, 0])\n",
    "comb_t = np.array([1, 0.2, 0.2])"
   ]
  },
  {
   "cell_type": "markdown",
   "id": "0e582b8b",
   "metadata": {},
   "source": [
    "total loads in L and T directions after applying load combinations"
   ]
  },
  {
   "cell_type": "code",
   "execution_count": 37,
   "id": "69908e5e",
   "metadata": {},
   "outputs": [],
   "source": [
    "load_comp = np.array([DL, LL, PedL])\n",
    "load_long = load_comp.dot(comb_l) #longitudinal direction\n",
    "load_trans = load_comp.dot(comb_t) #transverse direction"
   ]
  },
  {
   "cell_type": "markdown",
   "id": "6ccaf0eb",
   "metadata": {},
   "source": [
    "**MoI Calculations**"
   ]
  },
  {
   "cell_type": "code",
   "execution_count": 38,
   "id": "0fd02710",
   "metadata": {},
   "outputs": [],
   "source": [
    "moi = lambda i, a, h : i + a*h**2"
   ]
  },
  {
   "attachments": {
    "image.png": {
     "image/png": "iVBORw0KGgoAAAANSUhEUgAAA2cAAAE1CAYAAABjkpiwAAAAAXNSR0IArs4c6QAAAARnQU1BAACxjwv8YQUAAAAJcEhZcwAADsMAAA7DAcdvqGQAAERYSURBVHhe7d1ntB/FYffxsWkSKghJCCEBQkgC0YyowhRTbQwOtjHux7F9YjuOc5K8yIu8ST85ycu8y0nyOHGL7dhxXAB3MM0UYQimCCwJFYoESAjUkCjCfh5/J/zuM/77Skige7X/e7+fc+bs7uzsbPv/d3d2Z2ff8H9/rUiSJEmS9qo3vtKVJEmSJO1FFs4kSZIkqQMsnEmSJElSB1g4kyRJkqQOsHAmSZIkSR1g4UySJEmSOsDCmSRJkiR1gIUzSZIkSeoAC2eSJEmS1AEWziRJkiSpAyycSZIkSVIHWDiTJEmSpA6wcCZJkiRJHWDhTJIkSZI6wMKZJEmSJHWAhTNJkiRJ6gALZ5IkSZLUARbOJEmSJKkDLJxJkiRJUgdYOJMkSZKkDrBwJkmSJEkdYOFMkiRJkjrAwpkkSZIkdYCFM0mSJEnqAAtnkiRJktQBFs4kSZIkqQMsnEmSJElSB1g4kyRJkqQOsHAmSZIkSR1g4UySJEmSOsDCmSRJkiR1gIUzSZIkSeoAC2eSJEmS1AEWziRJkiSpAyycSZIkSVIHWDiTJEmSpA6wcCZJkiRJHWDhTJIkSZI6wMKZJEmSJHWAhTNJkiRJ6gALZ5IkSZLUARbOJEmSJKkDLJxJkiRJUgdYOJMkSZKkDrBwJkmSJEkdYOFMkiRJkjrAwpkkSZIkdYCFM0mSJEnqAAtnkiRJktQBFs4kSZIkqQMsnEmSJElSB1g4kyRJkqQOsHAmSZIkSR1g4UySJEmSOsDCmSRJkiR1gIUzSZIkSeoAC2eSJEmS1AEWziRJkiSpAyycSZIkSVIHWDiTJEmSpA6wcCZJkiRJHWDhTJIkSZI6wMKZJEmSJHWAhTNJkiRJ6gALZ5IkSZLUARbOJEmSJKkDLJxJkiRJUgdYOJMkSZKkDrBwJkmSJEkdYOFMkiRJkjrAwpkkSZIkdYCFM0mSJEnqAAtnkiRJktQBFs4kSZIkqQMsnEmSJElSB1g4kyRJkqQOeMP//bVX+iVJfa73kP6GN7zhlb7ftqPDP9Ps6qlhd9J2yWvZTru7Ldv07fjXMu9emWZH41uk2dk8MFg+TNPG9w632nE7SrMreufXerV8f/WrX73S97/TvvGNbyz77LNP7UpSv7BwphFnqH/S5N970TCYdjl2lH5Hy9qmb9PsSp7Y3XwHk7Svlg6kea3L045rh3dlvrtiZ/n0LjNp2/TpH2w50Zt30iW0eueFHU3fynC6vfm06dPPRWp7Qdrmm+kZJt0vf/nLmnaw/InLMGkZ5mK3jc90GT8Y0hLatIRIfO9FdNIwLcuJdh70t8uRftL2LieIJy750s086WaYNAT05tsb3w6jnR/9We52nu18E89wO23y2759e3n55Zd/K992OZNH5pdpM+9MS3zWE+mnS1rmEwwnnm0JxqewQ17Jt03L8iaevNOPzJdp991334H1YhqmDeIynHlnHgSmo4vM96WXXqrD6TLdwQcfXE488cRy+OGH1/lJUj+wcKa+x0+Yk/ULL7xQh1988cWBE3suPEA6+ukyPj99ulwMpJuLiYyPdph8c7HQO49cWCQfZFrS0t+bN9o4pk2+mRey3Mk7822XmfTRzq+dLvkTFxkHxrUXRekSmCfbOxc7mSfxWV4kfcYnvywHcYxPPvSThnjGM4/EE0fIBR0yHfHZDvQjF2ikJa92HskneYL5Mi7afLK8dLMOxNPfbjOQBoxvL1KRZUDmlTyTX9YNWT7ySBdZnvQnL6Yl7L///rWb+ZE3/b35MB39zz//fB1OfLogffInj8wv+UUurrP+rXb69LN8WS7mkenYBvl9IemzzqRt09PPNAy38yY+vwmmy7Iyz+TBdCz3fvvtV8clX+LRO2+6pEk86RhmXOKQ5WD+mQ7Mq513lolp0083y016ZL4EMJ7AdJlHtheII21+U8iyJq+sM/NI+lbSZlyWL+sC4trhLFOmDeIZJn22U5aBePoJvZgOyYs0iaM/y5TlSB6ZB3GTJ08ul112WfngBz9Y+0Ee2f4JSFeS9jYLZ+pbnIyfe+658uSTT5b77ruvLF++vMZv2rSpXnDy087FAnJSzoVk4lvEc3ELLnhI3/sXSb7ptid1+pO+nY540ma6dlwuXhiXZcrFE/HE5UKtvWBp591ebDEuF2VgPYhj2uRPlzRZHvozLvNA5pP+rB8h6Zk28cRlmbLObVokbSQ9cVlG4jIN3eTRLhsYznR0s6xMz3oTn/yRvJJP5tGmSxqkG22a9JMm/W1cb5rME23+pGnzaJFH1i3adG08GG7ng50tB5JH0uwsPfGMTz+yjNEuU9LTTXq08+xNH22+bfrB0rR5DCbTkD7/6TYODBOfeWZ8flOZT/5bySPzznRJ3zsfEMd45jlYobBNm/jE5bhEXPs7b9Mkf/LmWJB5EJ/82nmncEY83cSDPMmLcUwPpm23D8PI9AxT4CaA6YlP2qTPujJMP9MfcMABdRz9BGTZ0LvdEs+xfsuWLXVdtm7dOlBQJe24cePKcccdV44//vgyadKkGj9t2rRy0EEHlalTp5YJEybUgAMPPLDmzbJnHZFtK0nD5f8fgSRJkiRJe41PztS3Nm/eXJYtW1YWL15c7rzzzrJq1aoaz11UqvRwpzV3fkE3d2/pzx1Rutwp5c507uiCdLmDSn97B5X4Ni7zYLiNa+PR3pFFhrNs7fjkT1zicycaTJM72u08SZPhdFm3Np68wfSZTzsNd6GTd9aBO8q5y53lRbZZ4tp8wN3oNp7lT57Et+tGmswjd8iJR+YTTEu6bJ+2alfugDOeaTJd5os8NUC7DsTlzj9xWcZ22qRNvm3+pGWYPKM3Xbpt1TPi2E+96003+aLtEjI93aRjmsS3277d3plf1iNp0gXpsxzZngzT36Ynz97fGEjPchDXxtOf+OQX9DPfwZabcUyXdaDLPNoA0vF7yHyTHiwnw4xnW/M7AHFZLpYp02QbZL8wPUiX+dHNspIWGZ91o9suL+PBctCf6VtZb54q0Q/SttuGvLKs7bbMvkVv2uSV/ixX1jHLlnQt8trRshLPtFkeusS180CGg2kyzx1p14Xp+e+A4z+1JlavXl1rUWzcuLHGb9u2rW4P8mWaTM+2HDNmTN0+vJN22GGH1XjeS5s5c2Y54ogjyqGHHjpQDXLs2LF1u2R5B1t3SdqTLJypb/BTJeTih3fLBqvW+NRTT5Vnn322Vm/kPTTSgS4n9faiDZx0J06cWI466qhyzDHHlOnTpw/EE0jXXviDkzt5cSHUe7JmGYnLciIXCJzk22naCzn6cwFAl3nS5SIi6ZknefRe0KXbu41ygZaLu6QD8eRPWvJiPEiTdcjyIMudZctFIGmZlnhC8iGefBN6MZ7QK/m00zBf8s1yJS4BWQ4wbfLJ+MiytvNu09CfdaM/y9lOQ5d59OZFeuIYR3/yTTcynOXNcJa7RRrGJ23Gt9OA4fY310oaljPTZZnRzjPj0aZn/lnvNj7Ig7gsJ3rXJUhHGCyfdrhdRmRc7zS7g2kzfZs/cb3zQxufdUfie6dL3sj41yPT9+Y7mCxL7zx3dzmSz44Mln/r1ebVpu9Nm+Edzb83PYU0qjNyvF+7dm1Zs2ZNjV+/fn0tqHGzjvEbNmyo8QxTcMtNvBzbyZeCGFUhqfp49NFH13jOCXPnzq2FOApzHPvBb4FpepdHkl4vC2fqJH6W+WlywclJlILY008/PXDypTBG/2OPPVbWrVs3UAijQJa7qu3FIYUaTqh0KazkDjjvHMyYMaOccsopZcGCBWXWrFk1Phe06P2b5KRMGGwc2vjEpdtq43rzwmDT7I6dTc+4zDPpBlsG7Cwfpnm15ewdv6P5YLC8etO/2vxau5Jf7CjfNv2uzHtXtklXsdw72z+t3nXc3e0k7Qn87rgxkBsUdCl48WSUbhq+4TxCwYzCGueTRx99tMY/8cQT5ZlnnqmFOgp6uclAYYz31XiyRkHtpJNOqvH0T5kypb6rNthNOkl6rSycqTPyU+REyp1NTpSg6iIFsYcffrg8/vjjA/FttRXueI4fP77Gc8LkhW/ufvJEjH5wgiUNaSmc0QVd0pCWgpsnWUkaGXovcVKIo8u5Jjfy8vSNm32ca1auXFnjqS7JzT8KdUzDeQLcxKOhkVNPPbUW1GhghPMK8hRZkl4LC2faq3J3ki6FLU6CvDv285//vL5LAApknBhJw13MtK5FNZO8J0CVRE6O4F0B7mbmvYI8PeuthtJ2PZFK0ujTXgLRzw0/nrZxzgE3Ax955JGydOnS8sADD/xGtUnSczNwzpw55fTTT68BvLfGeconapJei8FfCJAkSZIkDSufnGnY8ZMjUJ2EhjuwYsWKcscdd9SnZTwpoyXGPPHiDiRPyI499tj6Yvbs2bNr/CGHHFKrI1ItkTuUSd8+CfOupSRpd+XSiC5P03iXmfNVqjvec8895cEHH6zvrPH+GrU0eHcZZ511VjnvvPPKvHnz6jmqbWBIkl6NhTMNi/zMUn2RqiH33ntvbQIfS5YsqS9nk453w6imeOKJJ9ZxJ598cjnyyCNrtcUUxJBCmCc8SdJQ4txESFV8GhjhnMW566677qqFNRoVCVr9pYGpCy64oL6bBqpA+l6zpFdj4UxDKicznoSB98luu+228rOf/az2pwUtGuqgAJYWE3k6xpMx8JK1zRZLkroil05pSZgnatT+AIU1aoPQgjA3FWk0BJdeemktqNEkv++jSdoRC2caEvysqApCk8UUwm666aYaf+utt9bWrxhH4etNb3pTjT/zzDNrPx//TNPE4QlMktRVuQlJrRDQ4uPdd99dbr755trSMC1BgvMbjYZcfvnltZp+Wn60dUdJLQtn2mNyggJPxDgpcXIipIUr0tC6InXyzz777NoEMaiXT3UPT1KSpH6UyynOg7yjRjVHaolwDgTvqPGkjXPgJZdcUi666KIaT00RWhf23CcJttYoSZIkSR3gkzPtEfyMuFOYJ2Q//elPy3XXXVefnnE3kA924txzzy3nnHNOvVOY78DAO4aSpJGCc2L7BA233357PS/SiAg1RajaCKo50rojVf3zfrWk0cvCmV4Xfj68P0arVbxP9pOf/KTG87FOXoam+sbFF19cTzw4+uija+MfVl+UJI10KaSB6v4PP/xwLaDdcsstA4U2qvVfeOGF5Z3vfGet6k+rxPAcKY1OFs70muRnw8lm2bJl5ZprrqmNfmzcuLHGT5s2rSxcuLC8/e1vL8cdd1x9SgYLZZKk0Sg3M2m9+L777qvnTfBeGu+i8SSNAlpuZvokTRqdLJxpt+TkwpMyUH2RE8zSpUtrNQ1aogLVNGg+2CaDJUn6/3iS9vLLLw+8BsCTtB/84Af1g9Y8RaOxEFx55ZW1tgmfk/EcKo0eFs60y/ippFrG1VdfXeNuvPHGsmnTpvpO2WWXXVbe+ta31vjDDjus7L///vVJmSRJ+k2p7sgnZ3iS9u1vf7s+Rdu+fXuN5wbn+973vvqpmXHjxnk+lUYJ/+mSJEmS1AE+OdMuoSrjs88+WxYtWlS+/vWv12qM4OkY75ZR/YKPSLfvlkmSpJ3jMoxqjqtXr66vCfzoRz+q8U899VQ56qijygc+8IHaYMiUKVNqPO+hSRq5LJxph3LCAHXjv/Od79R68evWrRtoGp93y6jKePjhh/tumSRJr1EaC6HJffz3f/93/XD1xIkTa+Na733ve2s8rSDzjrekkcnCmQbFz4Km8PkeC772ta/Vxj8orJ122mkDJwnqxHPi8EmZJEmvD+de3u3GQw89VM+9t912Wz3HXnTRRTX+Qx/6UJkzZ06tueINUWnksXCm38JLypwc7r777vLVr361xt177731hWS+Wfae97yntiAFTw6SJO05uSzjZugjjzxSvvWtb9VaKym0cYP0E5/4RDnhhBNsyVEagSyc6Tfwc6BaBU/JvvSlL5Xly5fX+BkzZpT3v//9tYlfvmFGFUZJkjR0KKCtXbu2fO973yvf/OY3a9wzzzxTC2i/93u/V9/1HjNmTI23kCaNDNZFkyRJkqQO8MmZqnxvZePGjfWDmP/5n/9ZP4iZ6ovcoTv77LPrBzJ9v0ySpOFBQyEbNmwo119/fR3+8pe/XJ588smyYMGC8qlPfao+PcPYsWN9eiaNABbOVAtmNJOPH//4x/XA//TTT9cD/4c//OEaz0cwOfBbMJMkaXhxqcbNU9xwww3l85//fC2gnXzyyeWjH/1ojc952gKa1N8snI1yuSPHt1VAy1AU1M4666zykY98pB74QZ12D/iSJO0duVzjvfAbb7yxFtAef/zxcuKJJ9b4T37yk+WMM87wfC31OQtnoxhPzNavX18LZt/4xjdqHMNvfvOb60H++OOPH/iWigd6SZL2Ps7dW7ZsqQW0L37xi+Wxxx6r8RTS/uiP/qhWc7QlZal/7fM3v/ZKv0YRDu48Mbv22mvr+2VUl6CZXr6j8rGPfWygYMbB3QO8JEndwDmZJvSPOOKIMmnSpLJy5cr6PjitK3Mu5yPVU6dOLfvss88rU0jqJ75AJEmSJEkdYLXGUaats85TM6pEcKftvPPOq/Ef//jHy/z582uVCEmS1E2czzl/84FqcD7nG2gXXHBB+fSnP11mz55d4/0uqdRfLJyNIuzqbdu21X5ae/rsZz9b1qxZU84999zaVD6ozsiB3KqMkiR1G68obNq0qfZ/5zvfqa0t84rCu971rtqoF6ZPn24VR6mPWDgbJdjNL774Ylm0aFEd/pd/+ZeybNmy2hojd9hOOeWUGu9LxJIk9Q8KaOATOF/5ylfKt7/97Xoez6dw3v/+95eDDz7Yc7vUJyycjRLbt28v999/f/nnf/7nOnzfffeVuXPnlj/4gz8oCxcurC8Xw4O3JEn9h0/jUBuGJva/+93vlkMOOaTG//Ef/3Gt6mgT+1J/sEGQUYADNk3t8g2ze++9t4Zp06aVD37wg+X000+vBTMO2B60JUnqT1RdPOyww8p73vOeWivmqaeeqoEWmbk5+/LLL7+SUlKXWTgb4XgwygvCV199dbn11lvLhAkTanjve99bzj///HLggQdaKJMkaQTgnfF58+bVqow0tU948MEH6/toTzzxxEAVSEndZeFMkiRJkjrAj1CPUHmVkNYZr7vuulql8aWXXipXXHFFfdfsqquuKlOmTClvfKPlc0mSRgJqwlC9kVcX6NIC80MPPVQeffTR+s4Z53+6SSupe7wyH6GoW0544IEHyje/+c1atZGGP6688soaOHBbMJMkaWSh0DV+/PhyySWX1HDRRRfV5vW///3vl3vuuafeqCVI6iavzkcg6pTnReBrrrmmrFy5shx77LG1DvpRRx1Vg988kSRpZOLm69SpU2vgm2cnnXRSbcmRawIaCCPQWJik7rFwNsJQnXHz5s21KiPh5ptvLhMnTqzVGWm9ab/99qtBkiSNXDQOkgZCKKDRtP7dd99dfvKTn9SwZcuWgVcgJHWHhbMRhqqMv/jFL8q1115bA1UXzj333HLhhRcOtMxoPXNJkka2nO/5XM6b3/zmeh1AYezHP/5xDXzv1Ob1pe6xcCZJkiRJHWDhbAThXbO1a9fWJ2apU37MMceUd77znbU6gw2ASJI0unDunzx5cvmd3/mdMmfOnPLII4/UcP3115f169f77TOpY7xaHyGoqkBrTHxomjBu3LgaLr/88jJ//vxa71ySJI0+NAI2e/bscumll9aWHAmLFi0qd955Z3nxxRdfSSWpCyycjRDc+Vq1alVtKpeXfM8888wa3vKWt5SxY8f6npkkSaMU1wBcC3BNsGDBghp4asY1A604+vRM6g4LZyNAWmikisKSJUvKrFmzalVGwvTp063OKEnSKMe1ANcEl112WQ1TpkypDYj97Gc/q0/PbLlR6gav2kcAvlWydOnSctNNN9Xh888/v37ThGB1RkmShP3337+ccsopNdCC47Zt2+pnd3hH3adnUjdYOJMkSZKkDrBw1seogkDYsGFDufHGG8vjjz9eX/i94IILyoQJE2rwXTNJkgSuCWi5kXDRRReVadOm1dchbr/99vLCCy+8kkrS3mThrI/x8UjCsmXL6oGV6gp8ZHLu3Lm1ZSaCJElS7LfffjWccMIJ5ZxzzqnXEbfcckut2shrEgRJe4+Fsz6VRkAIN9xwQ3niiSfqN8143+zAAw+sd8d8aiZJklq5PuDp2bnnnlsbBuG99bvvvrs+PfMJmrR3WTjrU9zZWr58eQ20tDRmzJjaRC4tNdo6oyRJ2hlq1/D07LTTTqsFsttuu62sW7euBhsHkfYer+L7EE/NNm3aVG6++eYannzyyXLEEUeUM844oxxwwAE+MZMkSTvFtcKkSZPqe+ppVv/++++vYfv27a+kkjTcLJxJkiRJUgdYOOtDVDegZcY777yzBqoxUm+clhqt0ihJknYF30I97rjj6jvrzz33XFm0aFEN1M7xo9TS3uGVfJ/hYMmX/O+6666yevXqGg4//PD6Mck0BCJJkvRq0jDIWWedVV+LeOCBB2rgfXbfO5P2DgtnfYbC2dq1a8s999wz0JT+qaee6lMzSZK02yiULViwoBx22GEDDYLw/pmtNkp7h1fzfYZWGhcvXlweeuihMnXq1BoWLlzoB6clSdJu48YuNXC40ZvvnFE755lnnrFqo7QXWDjrI2ml8ec//3mtG87TMgJ1xf3gtCRJ2l3c2B0/fnwtnE2cOLGGFStWlJUrV9baOZKGl4UzSZIkSeoAC2d9hJdzn3jiiXLfffeV/fbbr344kkDVRqs0SpKk14LaN/Pnzx+okZNaOtu2bbNqozTMLJz1ET4KSStKTz31VJk2bVqtgkAYM2aMhTNJkvSacA3Bjd6TTz65hrzf7ntn0vCzcNYHODASNm/eXJ+abd26tb5nxgu8BFtplCRJrxWFM270cm1BOOigg8pjjz1Wg03qS8PLq/o+wIExVRqXLVtWv2dGs7d5cdenZpIk6fWgauPcuXNrmDFjRtmyZUu95njppZdeSSFpOFg46wNUZyTQfD7fH6HqAV/033///WuQJEl6PbjRywepCfPmzavfOeO6g0JaavBIGnoWziRJkiSpAyycdRx3qp5//vkaHn744Vq9gDtaRxxxRH3XzPfNJEnS68WTs3HjxtXAe2e8QrFq1ar6SoVPzqTh45V9x3Ew3LhxYw18EJKD55w5c+oHI+n3fTNJkrQn8JkeAu+d0SjIs88+W9asWVNbbyRIGnoWzjqOwhkHRsKTTz5ZJkyYUI499th68JQkSdpTUiPn0EMPLTNnzqzvna1YsaLW2rFhEGl4WDjrOA6GVCsg8FLu9OnTa5VGWlWSJEna02gJ+sgjj6wtRT/66KP1Ez4EqzZKQ8/CWYdxEHzxxRdrdUYCBTUKZgcffLDVGSVJ0h6V1yX45hmFM2rprF27tt4cTquNkoaWhTNJkiRJ6gALZx23adOmgWqN1APnThYtKPnkTJIkDYV99923zJo1q77n/swzz5Snn366Bp+cSUPPwlmHcRCkpaQcFA844IBy+OGH++FpSZI0ZLgZPG3atNoyNNUZaZCMwDtokoaWhbMOo9nap556aqCuN98emTFjht82kyRJQ4pGQXjHnXffUzjbvn37K2MlDRWv8jsshTMOjISpU6eWSZMmWTiTJElDhlcneIXikEMOqbV41q9fXwPXIlZtlIaWV/kdxcHv5ZdfrgfDfPyRKgZ8FFKSJGmoUDjjVQpuCnNDOIUzv3UmDT0LZ5IkSZLUARbOOuz555+vDYEET87Gjh37ypAkSdLQoMXG3idn27Zte2WspKFi4ayjqNbIQZDWGmPy5Mn1YGkz+pIkaSjts88+tXDGdQef9SFs3rzZd86kIWbhrMNSOKPpfAIHSQ6WkiRJQ4knZrznzrtnvGtG2Lp1q4UzaYhZOOsoDn4cBAkpnPHkzJYaJUnScKDFxv322682UEZ44YUXLJxJQ8wr/Y7i4Ldx48Z6p2rMmDE18DFIqzRKkqShlhYbuTmcT/rwLryFM2loWTjrKA5+zz33XD0YpnDGHSwLZ5IkaahxvUEjZOPGjXslpvidM2kYWDiTJEmSpA6wcNZRv/rVrwaqD/DEjED1AkmSpOFAI2SEvHPmkzNp6Fk46ygOfhwEf/nLXw4cHHkp12qNkiRpONAIGYFrEoLvnElDz8JZR3Hw2759e+3niRnBZvQlSdJw4bqDBkGCG8YWzqShZeGsozj40VIjeGKWIEmSNBx4xYIQ1t7pH1xHvt7Avqer4fWGX290t3oH8QHqz33uc+WLX/xiOfvss2vcn//5n5dDDjnEg6MkdVzvqbU9bu/qaZdpXs8pejSeK3a0vdr4tn+wbbSzbd6bflf2T6ah20/7hHV74oknyl/91V+V+++/v8Z98pOfLB/96EdrK47DIds3hYTebq82jm3NTe19992377Z7pJ8uIQXl9CfwRBNtHOuc6RnunR7ZLm1+GSakWmta7Jw4caIPCoaBT84kSZIkqQN8ctZRW7duLf/+7/9evvSlL5Uzzjijxv31X/91OfTQQ/vqDpCGRu/fNnfI2rtgw83f5W/q3QcMt/so9uS+2ln++Y3syGtdDvLN3dWRJNuDbu46px+9d5gJaLczadrtknG5yx3Jn/d72nyCuDbPFumStk1HXnwfE7yzPBL2T9aNbrYhXQKvAdCaYF4HII5tle2Vd7h747Ndknfv+Fa7rRmfabMMBLT7jv68s0XNF87h/dLyMttk9erV5S//8i/Lgw8+WOM+9alPld/93d/dI0/OyD/bOtubfci+IuSj11i3bl155pln6nBCpsl2B3HZ/vwHTj755HLaaafVFq/3NtY3Db216478flh/ak5lvem+8MILA9+9pQt+58S3AWlVk8A8CEjezK+NJ47fZ9JnW9LN75vf69FHH1373/72t5c3velN9Wmkho6Fs9fh1TbdjsbnwNEewHtROPvsZz9bvvzlL5fTTz+9xv3N3/xNJwtn7XoO1t+7HXa0XXq16Vjn3umI4+DRTw2lsA6EHJBzoOw9YPZ2o90OTNNeHAxmsLTBOAJ5Zv5of1/0Zzjpk45pggM11R44iLfTjwbtNmE/EHJy5WQKuqTJ+GyjbPfE0c3vmWHGE4jPPIinn/3JuPY3kGk40UbSEEfeSc8w+428uBDKNElPt/e/RRzpiU/6CRMm1BP39OnTf6PhgH6R7cr6sB246GF/bd68ucbT5cKQi5/2oilpmT4FAmT754Inss9JT/7ZD/S32znp0gV5sn/B9PRnfzPc5k2+BC6ejz/++Bp//vnnl2nTpv1Gnl3HtuY8mPVmG7PtiWOfPPvsszV+w4YNZePGjfWilfj24pVp2SaE7CP2W37f7XYF+yH7NPuE8UlPl3Ggy/bMNiXfdhzp+X8RUg2M/fGxj32sHHvssTWvrmM9Hn300VqtccmSJTXuT/7kT8r73ve+PVLAZL89/vjjdb9mv7EPCYzbtGnTwH6mYEYcaflfsZ/Yxsi+zD7JfuA/8Ja3vKX84R/+YZkxY8Ze//3zm8768rtiPVKoYn3o53jAbzzbg/78FxhPF6TjN0eXkHXO7znHngy32yjbDdlmxPGbTz7BOPb14YcfXoc/9KEPlUsvvbQvj/X9xMJZDzZHNgldftj5Ubc/dv5I/DEI+aFn2nZ65GDBdByQqbOLgw8+eId3n/gDfuELX6ghhTPuXh122GF75QDD8rOedNkO2RYcFNqDZQ40bBf6mYb+pGfZSUe3dz2SP9uoPdgQn7R0s705OMyePbvMnTt32Oq/7652O23ZsqWeaDjhcKIBcfwu2N+kZVuBdWc7gfXNiZz4BCSefUB/4oP82ovEjCdP5pvfJPGvNg/SIvsgeTKPKVOmlEsuuaQsXLiws/tiT+P3vX79+roPsz+5UORC/pFHHqkXElxkgP3D9mQbZh8H8WxLumzbbPf24pDtnXiGM4702S/gIpDfTfubAdNm+sj8sj8Jic848qAbLCfpmE/yGz9+fH0vlvdQjjrqqBrXT7jwwYoVKwbuzj/99NNl7dq1NT7D/Ef5H2c7ZVuw/QnZHtl++V9Fux2Zrv2/oR0P0iQu+QXxWY62P2mI439/4okn1mGedpx66qm/NY+uYn3ZFxwv83/hP8QFa46j7BPkmJr9Q0COT/l/tMfTBMa124z+bKN2e7M87b4Ew6RtQ6ZhHPmPhMIZ/4u/+Iu/qMc0/Omf/ml517vetUcKZ+xb9hv7Ifst58rs7xTO2N8ppJCGabNP2ZbZ3+yH7HOOTZyTLrzwwjJp0qQ6bm9ie+ZYn5D/bn6PBNJkHVhHhjnf0J9CG+tPGobpz2+s/W0j2wjJn7ikz3KwDdt9mji6nNO5uQN+w1OnTt3r23Kks3D2a/ywObjzx88dG3AQyAUWfwCGE09a/iwEpgebMpuTP1N+vMTl4EE3j4evuuqqesLMn6TFgYmCGVUbeSyPv/3bvy0zZ84clj8Fy8xFSXtxyQGT7cQFaE6M9BM4WLKNSAfWlQNADgbtNqKfdcgfHwyTjoMK24P+yMErmA5U2TnzzDPLZz7zmXLkkUd27mDBNli+fHntX7VqVQ3cNeOij20GfkesK2nbdaY/24OQdY52u4E09Gc44+n2budW8s54tGnaeZMm+aGd10EHHVQuv/zyeuFBQW004L9BlR/+JxTSQJf9+9hjj9X/Sn73dNmW2df0g22Y/c52ZVy2KwUwxvF/IC77iLidFc7yW+CiENmH6SYfuqRL2nY5GOb/S7ctJGbeTJN1YN9zAcTxjJtH/SbrwXG9twAAzgE0ikA8xznWHUyXfUk32K4EtmOOdWA425v9lP3Dds42RtKni+wzpKpi5pF8E0dgmajGNW/evBpP4Zmbgf0k6xJZLwLbNRfzHEPpz/k4v2PSpT+/XTAt+4ttTj/bD3SJy75IPPnQn2kSzzD7MMvIPsi06YL4PGXot2qNrPuyZctqY2Rr1qypcX/2Z39WrrjiivobHirZptnfyD7Mf47+jAumY3tnevYVNTr4z2S/9aOsD9Lfdtvx2FF6tg3bLP2t3mFkW9LN8ar9bWvoWDj7NS6iuHDmZJzCBrjQ4gKMEzWBkwA4gXOA4ODAiTWbsPeA0R7c88PnoMzTHnzkIx8p55133qCPhznJfO1rXyv/9E//VO+y4e///u+HrRDCOnHRyQUJOIlx8cIw8blwYVvRz8mx3UZsnxSymLZ3GzGe7ZN1IZ7AH5+49mDAtMTTJWQa7uZQOOOisKvVPbM9+B3xe+Iij4Jtth+/PbYHy076/HbYZoP9lpB0dHOCZFsNdrIkn/bJWfJh2zFP8qGbZYj0M4/2YJx58ztOGubNXUluNPBbHcqTdtdkP2T7sr35L/C/yHECbF/isz/bLoH9Qhq2NV1ku7M9e/cN82SaTIvsQ6bLf6cX45NXO22mQ5tv0oL+dnlZBvD74k4qv4H2t9LPWLesH9uV/Ug3+wYZ36aNNl2L7ZNt2m5btil5MD55teOJy76K3uFeTJ//IvuozW+kyTbr3Q9tfPqzHXrTRsb3pmP41abZkTbPV0vbJfyOFy9eXGvt5JzFU7SLL764E8f5He2PVj9tbyl2fnSXJEmSJA0Ln5y9IndFufNNQFtVgpCnIMRzJ5V0uZOM9OcuaO7YMMydbIapakLVBvAEjSpBg93Z4Ync1VdfXf7xH/9x4EXMf/iHf6jvV+2NO0H5mbTrCJaT7cD2YLswDNLn7johd5JJm3FIPknLMP3cQU6aHa0vaXh/j+o6O3pS0CVZv/zWwHYjjnXMtkDGMw3j2m2QcUg83cGeWjA9sl2Tvk1LXJYtsu13pF0e+knP3fnBlmE0ynZPF/S3w72yH7Jt059p2m2+M+00g+nNp3c+2Nm8evMmbcJos7PtvCe0+yXbd3f202jcJ9pzONfcdddd9WlZfne0Gk012X4450r9ysLZLmATtZupt793uD2hoj1B0t8WOnZ08qQQ86Mf/agWyPIi5t/93d+VE0444VUvnPeGdn179Y7LNhpM0vZus1Zvmh3l1Y92th13RbbFruSzo+0aI2m7SpJ2D9chN9xwQ70OSUNP9PMevDfipKHTvav8DuIilQJRAgelBO4eUfc6gacH6Sa040mffHZ28ct4WhrigMgTKQLvsLzei/ehwrrsKGR9E9huvXEJ2a5t3I7yy/BI0q7nawkx2Lje0OvVxkuSRg+enOW9aK5HCDSw4flBGloWzjqMKnsUziiUEWhUoquFM0mSNHJwvUEjVlx/8PoAgQKahTNpaFk46yieDOWjvimc0VpS+16QJEnSnkbBjBo7uSlMa6yEfvkMgNTPLJxJkiRJUgdYOOswWnbkThVPywh8XyzfTZIkSRoqtFK9bt26Wo2RD8wT+KCz1RqloWXhrMN434yPuwaFszRVL0mSNBSoyvjcc8/V1ylo2Gz69Ok10LCZpKFl4ayjuDNF3W5ewM2Ts6eeeqoWzmwURJIkDRWuM9avX19vClOLJ4UzWlOWNLQsnHUYd6hmzpw50Lz8008/bYuNkiRpSHFDmCqNW7durbV4pkyZUoNVGqWhZ+Gsw/gmGnW8OTAStmzZUu9iWTiTJElDhVo6K1eurC028sRs8uTJNdCStKSh5b9MkiRJkjrAwlmHUX3gkEMOGfi+CFUa165dW7/WL0mStCdRM4dAYyCPPfZYvd448sgjy4QJE2qQNPQsnHUYhTNaazz00ENroHrB8uXLbbFRkiTtcWmAjFYaKZzRdP7RRx9duzajLw0PC2cdxkFw/PjxZdasWTVwwKQOuI2CSJKkPS1PziiY8Y47T8vmzp1b34EnSBp6Fs46jMIZzekfd9xxNdD/+OOP16qNFNQkSZL2FGroEJYtW1arNh5++OG15k5ajZY09CycdRzN6XNwJNBS0oYNG8rq1at970ySJO0xPDHbuHFjDYsXL67XGXPmzKnXHpKGj4UzSZIkSeoAC2cdxzdF+NYZgaoFzz//fH3vzEZBJEnSnsLrErw6QVizZk058MADy/z582uX1yxsDEQaHhbOOo6D4cSJE2vgIAlabEyjIDYMIkmSXi/eNePmL2H9+vVl2rRptaVGPzwtDS//cX2Au1YEGgWhu2LFitqS0ssvv1yDJEnSa8WN3i1btpS77767Bmrn0ErjzJkzLZxJw8x/XB9IK0mzZ88uM2bMqM3b3nfffWX79u01SJIkvVZUaaQq48MPP1wD3zQ7/fTT6+d8rM4oDS8LZ30gdb1574yqjTwte/DBB2vLjQSb1ZckSa8VT8ruv//+evOXkOsNPuEjaXhZOJMkSZKkDrBw1gfy5GzcuHHlpJNOKmPHjq0fiHzkkUdqsFEQSZL0WlD75tlnn63vmuUj1Mcff3x9jcIqjdLws3DWR/ggNQdMPkjNgZSPRBJeeOGFV1JIkiTtOj42vXTp0vquGTeBCaeeemptJdrCmTT8LJz1EQ6SfOtswYIF9WnZPffcU8PatWt970ySJO0WriWee+65cscdd9R3zWbNmlXDiSeeWBsikzT8LJz1EQpntJy0cOHCMnny5LJkyZIaeInXVhslSdLu4MYun+a59957a2Hs3HPPrYEGQWxCX9o7/Of1mX333bfMmzevNqu/adOmGm6//fayceNG3z2TJEm7hGuG559/vixatKisXr26Fsiozkjg3XarNEp7h4UzSZIkSeoAC2d9hjtZVGk855xzyoEHHljDQw89VFauXFlf6pUkSXo1VGl8/PHHa+0bvnN25plnljlz5tRglUZp7/Hf14f4KOQZZ5xRjj766BrWrVtXqyXwUq9VGyVJ0o5wnZAqjRTM+DQPVRrPPvvsMmHChBqs0ijtPRbO+hB3tPj+CE/PCBxEKZzxzTNbbZQkSTvCdUKemt188831czzc8OVTPbzXTpC091g460MUxqjOSBUEAgU1CmYcZDdv3uzTM0mS9FvyxCxPzfi2GZ/oOf/888vBBx9cry98aibtXRbO+hRN3qZa43nnnVffN6Nwtnz58vLyyy+/kkqSJOl/8cSMd9QJN9xwQ71eoDoj3zXziZnUDRbO+hR3tvh6P+GCCy6ohTSqKNx4440D7575BE2SJIFrAmrXUCgj8NTsiCOOKBdffHE56KCDfGImdYSFM0mSJEnqAAtnfYyGQQg0e3vhhRfWqo633XZb+cUvflGrKli9UZIkgWuCJUuWDDw5A++azZ8/3yqNUodYOOtjeXF3/Pjx5dxzz61VG9esWVO+973vlWeeeaYGqzZKkjS6cS3w9NNPlx/84AflySefrOHYY4+tN3YnTZpklUapQyycjQA8PZs9e3Z5+9vfXsaMGVOb1b/zzjtroIlcSZI0OlEwo3VGatbQcNjYsWNr4JrBD05L3eM/cgTgjhdN69Nq44IFC8qGDRvq3THCY489VltylCRJow/XAHxo+pprrqkNgpx66qk1cM1AIc2nZlK3WDgbIbjzxRf+r7jiijJ16tRy33331XD99df77TNJkkYZzvsEXnG49tpr6/vos2bNKu9+97tr4PtmPjWTusd/pSRJkiR1gIWzEeSAAw4op5xySn3Bl2oMhJ/85Cf1CdpLL730SipJkjSS8cRs69atNdx00021Fs3+++9f3vGOd9TXHwgMS+oeC2cjCPXGDz744HrwpWlcwqOPPlq++93vltWrV/vumSRJo8D27dvLgw8+WMN3vvOd+nrDGWecUS655JIyYcKEGnzXTOomC2cjDN8qmTt3brnyyitroLB2xx131MZBNm3aNFAHXZIkjTzciOWzOt/85jdrWL58eZk3b1656qqryowZM+o3UQmSusnC2QjDnTCa0z/nnHNquOiii+qHJ7///e+X22+/vTanS7CAJknSyMK5nRabv/Wtb5Vbb721hokTJ9YGQGih0aqMUvdZOBuBaH2JJ2YEDsinnXZaWbduXfn2t79dli5dWgMFNkmSNDJQMHvuuefqu+Y/+tGPBmrKXHrppfVddD65Y1VGqfssnEmSJElSB+zzN7/2Sr9GEJ6eEajOMG7cuLJkyZLy8MMP15abFi9eXN9LO+igg/zGiSRJfSyvKfDKwqJFi8rnP//5WluGj0wfeeSR5SMf+UiZOXOm75lJfcLC2QhF1QUCB2M+Sk3/Qw89VFasWFFbcORgTgGNgpvVHCRJ6j+cy1988cXaCAjn+H/7t3+rN2NPOumk8rGPfawcf/zxNey3336vTCGp63xsMsJR8KLJ3Le97W21if344Q9/WAPN6+aumyRJ6h+8P75s2bIavvSlL9Wm84866qjywQ9+sLzpTW+qgVacJfWPN/z6wtwr81GAu2qPPPJI+Zd/+Zc6zEcpp02bVn7/93+/XHzxxfUJGnyKJklS9/EtM15XoBojbr755jJp0qTyqU99qt6Q5bUGeF6X+ouFs1GEA/kDDzxQ+//1X/+13HPPPWX27NnlM5/5TFm4cGGNHzt2rAdySZI6jPP5qlWryhe/+MVy3XXX1bjx48eXD3/4w+U973lPLaT5TrnUn/znSpIkSVIH2CDIKMJdtClTptTqjDQSwl03qkSsXr26HHrooWXNmjVl+vTptX66T88kSeoe3jOjYa+vfvWr9akZNV5o8IMnZldddVWZPHmyT82kPma1xlEmu/uFF14ot9xyS/k//+f/1HfReGkYn/jEJ8rpp59eDjjgAAtokiR1BFUZsXLlyvKFL3yhvmO2//77l/e+9701nu4hhxxik/lSn7NwNkqx2/nm2U9/+tPy2c9+thbQQCHt05/+dFmwYEEZM2aMBTRJkvYiztcvvfRSWbp0aR3+8pe/XAtmBx54YLnyyivL+9///hpvwUwaGSycjWLs+ueee67ccMMNA609PfbYY+Xkk0+u30c544wz6sEfFtIkSRpenKf5uDSNeX3uc5+rcTTmReMfVGPkaRmvKsCCmTQyWDgb5dj9fOuMAhr+4z/+o76LNn/+/PLxj3+8nH322TWeE4EFNEmShkduoC5atKh85StfKYsXL67xvBvOu2WXXXaZT8ukEcg3RiVJkiSpA3xypoGnZ+AdNJ6e0Yrj0UcfXT70oQ/V+AsvvNDvpkiSNMR++ctf1u6zzz5bG+76+te/XpYtW1ZmzZpV4z/60Y/Wc/JBBx3kUzNpBLJwpio/g23bttUqFBTQ7r333nLYYYfVeOq1U4WCuu00tS9JkvYczsM0k8+73/je975XrrnmmrJhw4Zy3HHHlQ984AM1/oILLvBVA2kEs3Cm38DPgWb2KZjRSAgvHmPixInlrW99a3n3u99dZs+eXZvahycHSZJen1/96le14Y8HH3ywfO1rX6txt99+e32K9uY3v7l8+MMfHvjkDd8189wrjVwWzvRb+EnQbO+SJUvKf/3Xf9U4qlbwjZUzzzyz3r2jRUfQmqNVHSVJ2j25/KIA9vTTT9fXCq6++up67sWECRPK5ZdfXq644ooyZ86c+qFpWDCTRjYLZxoUPwuqVzzxxBN1+Nprr60njWeeeaYcc8wx9QkaqF5ha1GSJO26PCkD73h///vfLzfeeGN9z4zaKeB1gvPPP7++TuA5Vho9fOQhSZIkSR3gkzPtVNtq1E033VSrOa5cubK2EoW8h3bUUUeVMWPGWN1CkqQdSK2UVGMENVN4erb//vvX98tSM+XEE0+sVRs9r0qji4Uz7RJ+Jlu3bi33339/+cY3vlHuuOOOgfhTTjmlvOMd7yhnnXVWmTx5co3nPTRPKJIk/S8KZXxUmkY/qMaY8+imTZtqy8i8X0aYOXNmjadlZM+j0uhj4Uy7jJ9KmvnlTh+uv/76+l4a751dfPHF5W1ve1uNnzt3ro2FSJJGLc6ZvFtGC8ig1snNN99c3y1btWpVPUeCG5vvfOc7y0knnVRrpXjelEY3C2fabVR15E4f7r777tpQCE3uE0+hDFR3pLEQ7gZSVcOTjSRpNOCyivDiiy+WNWvWDFRf5GbmihUraoHt6KOPHriZeckll5Tp06fX1hh9UibJwplek/xsuCP4+OOPl+uuu66GfDyT98/4Jgsfrj7jjDMGqjvyfTRPPpKkkYRzIoUucF5cvXp1vXnJu9oPPfRQjad1RqosvuUtb6kFMwpoGDdunDcwJQ3waCBJkiRJHeCTM71u3C3cvHlzvTv4wx/+sMYtWrSorF+/vj4xO+2002oVR9B4CHFW35Ak9TsuoXgXmwazUnPkZz/7Wa3KuHz58lq1ke+UgVokVPk//vjjf+PdMs+FkloWzrRH5ATFR6rxP//zP+XHP/5xbd1x48aNA9UaKajRcAhNBBPH+2jgJOUJSpLUZblk4qbkSy+9VM95S5cuLXfddVf5+c9/XsdRSGPcoYceWhYuXFg/JI3jjjuunvdshVHSzlg40x6VnxMnprVr19Y7iLyLRtPBoM79wQcfXN9H43sutE4F6uGPHTu27LPPPp60JEmd0FsY27JlSx3mXetf/OIXtVBGrRG+BUqNENB6MTciL7zwwjJ//vyBm5MWyiTtCgtnGjKczHgxmtaqKKTh1ltvrSc0vvVCYWz27Nk1nuoep59+eh2mukfbwqMnM0nScOCSiEDrw6BaIgUvPhnDE7IHHnigxvPRaD4kzTlu/PjxZd68eeXUU0+t4zif0dgH5zILZJJ2l4UzDbkU0sDTNJ6iUR+fKiCpBsnJi3r5J5xwQlmwYEGtk58PcU6YMKHekeSpGjzRSdLI0l6KDPUxPvOiy/kJFMa2b99e3x3jvMSTMXC+WrJkSS2c8R41hTXQwiK1QDhnUQuELs3hg9aKrQUi6bWycKZhlaohvIfGCS9P1Cio8YSNEyMnNqqBzJkzp46jEZFjjz22HHHEEWXixIm1OX60dyQ9CUpS/+EShAIPVd5BjQmO7RRu6E8NCnCc7z3Wt8Pt5Uz66RLyJIwuNwuZJ9/r3LBhQ42nMMY56NFHH60FsXXr1tV4qjGyDNT04AbiMcccU+NPPvnkel7iJiJPyNpGrjwfSXo9bEpfkiRJkjrAJ2faK3iCRsjL1U8++eTAkzS6VH/kCRu4Izlp0qRy1FFHlblz59YAnqRNnTq1Pk3jaVtexuauZXu3NbybKQ2P9rSys//dzk4/TDcaTk9Zx1c7Pu3KNt3d7bUreWJH+bbT7GzeO9uXPDG75ZZbasMa4MnWlClTauBdLqq1I8d4unmyhnTJn2lpNRg8HSNs27atdnOu4T0xqifyZIwaHASwHKQF8zjwwANr/4wZM2o1exr24NxDYx/gvMPycK55tX0nSbvDwpn2qvz86FIYo6EQqpcsXry4NhyCVatWDVR55ESYao1UJeFESSMiFNxS35+TOuN4J4CGRVJoy4m092RKP2GwAl2/a//eO7qA2NEhYLD0u3u4SPrdnTfaaXZlvqTZ0XyiN5/eeTDcptmV+e6qNv/Mt+0Hw3kHptWbBr3LGoPFvVbk1Zsfw+3ytOuS0K7Dq/2vuJjOPEjbmz8Sx8U33TbPdl6putYrF/DBNEmb6TPv5J1lYn6koUtc0ie+V5Y107f5ETLfdEmLTJfh5M/0WW/Qn+GMb5FP4tvlS3/GR+ZL+swjkjbL2pvfYNu1F3nyLhf7OcuaZSNfjvl8H/OOO+6o41KIyvJQEAPzInD8Z1ybF/HkxzxSOKPaIvkTz3okn8w7cSn8cQOQcwfnEhrzmDVrVo2ncJbzCfPJNurdVpK0p1g4U6fkYiAvZuOpp54qy5Ytq61jERgG7wpwAiY9hbB8M42TKHc1OaFywuVdAfAeG3diObm36TlZc5eU9wko4OWCg3xzAcBy5WScE3t7cm5P2IznoqA3TYbbOJA+XdKgTZs4ZJj8Wc6MIz7T50IqiM96BMNZxnSzHIzrXcbonR/Szbh02/m2/UybC/LMu1fv8pKOuPZCnrhsj97lzfIxTTtvpmc64pgu8cSxPTMfusiFHrK84KKOfuaTPCLLyG8zy5p91bucLAeBGwfkR5rMk+EsE/HJi3nz/2Bc1h9Z7vbdHWQ5e5c124CQ+SDL2G6rIK69yAXj6Wc61pllizb/LEPimS75Z53pkrZdTiSfyLKyLMwTbZqsG9uV/sw3XZYxT+YZny7zzb5op2mH07gRabO87bKBtOTHdDnOZJmYd5s+/ZmG/DLMOOIyDkxPyE0nZNmSJtNmXzDM8vbOP/sFrEu2O/HklfzafNt0QX4EpmOdM57piKebZUo8wwT6OdbnCRb7k3mwnHQz7zafxL0a0rJMPAnLu2I8AeP7Y3k6R+EL3OijgQ/OEXk6hywnQZKGg4UzdVZ+mnQ5UachEaqlgCdsfOyTQDXIxPOSNxdQnNgJuZDjhE5eudDKyZYuJ3DulvKSdy6mcnHN+PaCA8S1eQX5MM9cwDEcpGUaLqpy0UQ/65X55IIxeaabdcjFKPHknWVietYv68wwcqFJWuaZ/MiH9ATm2a5bpgXp23kkLfklXS72iGNezB9sx/Qzv/QzfZaV/Olv45NPljVdMD7bgnlm3bKcyYtu8mbe2a5Z7iwLwyBtlod8Mj7zzrwyTBrWm24u4kA65pn0kfkmJB+6Gaa7o3VIeiQObXr6o51377TB/KLt39GyJk2bB5h/5p3+Nr82fbusSdObnjS982zXrTfvdv6RNBmf/Np8CTtb1jaPtj/ob+eddUuajO8dJn3ikGVp45DhjG/nk99c8m/Xn7SZD/3gONDml99H4kif/xHoJu90QZ5Jx+8//5/MJ8uR4Ta+/Z8kTwJpCO3xAQwTT1rQn/9xGx/JK/Ohy3qTHwWwd73rXTX+7LPPrk/L8gQu65D1IkjS3mThTH2Fn2t+slxg8BRt5cqVtdCWJ2q0tEU/7xUQT2ENVJ/hqQIXFUybCxTy44TM0zbunubigPGD/T0Sl4uB9AdxBPJpp+9Ng9482v42fS5EyDP9g6XhAoM8kg/pky/jk54uw1zAtOORadr5pJt07brRnwuiNh/6M23bn2lzURSMT5rkAeLYF7nATBoQn4sq8s10dImjy7Kxz0EeDBPPdL3pe5eL9CC+7WY7Z/6ZhuEsK8sT9GfZMw0y/8w76ZCbBKQnrp0HabMsmU+6baEYmS7zjzYP8gymJ11+G8k3y8FwtieSf7q96w7mk22cYdIQx3zadSWfwabPsiLLm6fiTN+mSZe8uaCnC/LNMtBlXu0yMcwytfPPPmKbMp/evNJttzl5kS7bDNk+xGc6ZF0Yz3RtesYRxzJkGyEFC+ZJN3mnQJNpE88+aX/LBJCG5WE60mbe6N0O4IkS8aRrl5Vu0rfTkS/zTd6JT7p23SPLRhwhw8iyM33i6ZIPccwjy5TfIetHzYi8K0bNijadJHXNbx55JUmSJEl7hU/O1Ne4Y5oqjKnyQpeXyonnadnmzZtrPNUeiedpGlUD864KeXAXl7vCaYEL5MPd1dy9zV+F9LnrShx3ZwnI3dvcXWe5griMTzxxzJt8Ml/krjFpGUeaYJhxbVzuEBOYJuPokm+q4LXLyTjSkxfSbe9mZ52RaQiMSzru6Ld39ROf9GjzYvkImSbpsy0yXZaV6QgMM10ahCFNtg/dFsOD5YWsc/INloN4pk1+uftOOvKJNt+M75V9EfRnWQdLHywDkne7Hq3kFaRhONP37sc2bSQ+6w6GCeSXYTD/wfLojcv0vdp45ttug8TvaFnb5aTbLlsb2jyz3cA4ZHzSo41ru9HmiXZ829+bLnrzY3iw6YgbLI+kbdO10/cabBzT7myaXZV572xd23HtPHd3GXY2H/TmPZikobs785akvcnCmUY0ft65qE0/F3iExO/oIoALuzY+J/c2z1z8tV7tQqCdX++82+l2lsdgBpu2N+92OFiH3nkNtkztMreI743bFZlmsPwHW07sbD67sxw7m0erN7/eaXZ1fhgs7WDL8Gp5ZprdmXc/Yv12ZR+hd1u004307SRJGlksnEmvgRd/kiRJ2tMsnEmSJElSB/x2nSxJkiRJ0rCzcCZJkiRJHWDhTJIkSZI6wMKZJEmSJHWAhTNJkiRJ6gALZ5IkSZLUARbOJEmSJKkDLJxJkiRJUgdYOJMkSZKkDrBwJkmSJEkdYOFMkiRJkjrAwpkkSZIkdYCFM0mSJEnqAAtnkiRJktQBFs4kSZIkqQMsnEmSJElSB1g4kyRJkqQOsHAmSZIkSR1g4UySJEmSOsDCmSRJkiR1gIUzSZIkSeoAC2eSJEmS1AEWziRJkiSpAyycSZIkSVIHWDiTJEmSpA6wcCZJkiRJHWDhTJIkSZI6wMKZJEmSJHWAhTNJkiRJ6gALZ5IkSZLUARbOJEmSJKkDLJxJkiRJUgdYOJMkSZKkDrBwJkmSJEkdYOFMkiRJkjrAwpkkSZIkdYCFM0mSJEnqAAtnkiRJktQBFs4kSZIkaa8r5f8BjH2SJHKJkGIAAAAASUVORK5CYII="
    }
   },
   "cell_type": "markdown",
   "id": "92c42d61",
   "metadata": {},
   "source": [
    "longitudinal direction![image.png](attachment:image.png)"
   ]
  },
  {
   "cell_type": "code",
   "execution_count": 39,
   "id": "b93297f1",
   "metadata": {},
   "outputs": [],
   "source": [
    "\n",
    "i1_l = (math.pi*(diameter/2)**4)/8\n",
    "\n",
    "i2_l = (pier_length_rect*pier_width_rect**3)/12\n",
    "\n",
    "i3_l = (math.pi*(diameter/2)**4)/8\n",
    "\n",
    "moi_l = moi(i1_l, a1, 0) + moi(i2_l, a2, 0) + moi(i3_l, a3, 0)"
   ]
  },
  {
   "attachments": {
    "image.png": {
     "image/png": "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"
    }
   },
   "cell_type": "markdown",
   "id": "d228f844",
   "metadata": {},
   "source": [
    "transverse direction![image.png](attachment:image.png)"
   ]
  },
  {
   "cell_type": "code",
   "execution_count": 40,
   "id": "d2d8deb9",
   "metadata": {},
   "outputs": [],
   "source": [
    "i1_t = (math.pi*(diameter/2)**4)/8-8/9/math.pi*(diameter/2)**4\n",
    "h1 = pier_length_rect/2 + 4/3/math.pi*(diameter/2)\n",
    "\n",
    "i2_t = (pier_length_rect**3*pier_width_rect)/12\n",
    "h2 = 0\n",
    "\n",
    "i3_t = (math.pi*(diameter/2)**4)/8-8/9/math.pi*(diameter/2)**4\n",
    "h3 = -pier_length_rect/2 - 4/3/math.pi*(diameter/2)\n",
    "\n",
    "moi_t = moi(i1_t, a1, h1) + moi(i2_t, a2, h2) + moi(i3_t, a3, h3)"
   ]
  },
  {
   "cell_type": "markdown",
   "id": "70b8167d",
   "metadata": {},
   "source": [
    "**Seismic force calculations** - as per SP: 114 2018 cl. 5.2.1 elastic seismic acceleration"
   ]
  },
  {
   "cell_type": "code",
   "execution_count": 41,
   "id": "b5457465",
   "metadata": {},
   "outputs": [],
   "source": [
    "zone = 0.36\n",
    "RR_fact = (3, 1)\n",
    "impF = 1.2\n",
    "soil_type = 'soft'"
   ]
  },
  {
   "cell_type": "code",
   "execution_count": 42,
   "id": "8d6493c7",
   "metadata": {},
   "outputs": [],
   "source": [
    "f = lambda E, i, x, l : 6*E*i/x**2/(3*l-x)/1000 \n",
    "\n",
    "e_conc = 31.1866*10**6\n",
    "\n",
    "f_l = f(e_conc, moi_l, pier_height_CT, pier_height_CT)\n",
    "t_l = vib_period(load_long, f_l)\n",
    "sag_l = sag(t_l, soil_type)\n",
    "\n",
    "f_t = f(e_conc, moi_t, pier_height_CG, pier_height_CT)\n",
    "t_t = vib_period(load_trans, f_t)\n",
    "sag_t = sag(t_t, soil_type)"
   ]
  },
  {
   "cell_type": "code",
   "execution_count": 43,
   "id": "6d031812",
   "metadata": {},
   "outputs": [],
   "source": [
    "ah_l = ah(zone, sag_l, RR_fact[0], impF)\n",
    "ah_t = ah(zone, sag_t, RR_fact[1], impF)\n",
    "\n",
    "av = 2/3*ah_l"
   ]
  },
  {
   "cell_type": "code",
   "execution_count": 44,
   "id": "f5dadcaf",
   "metadata": {},
   "outputs": [],
   "source": [
    "arr_default = np.array([ah_l, ah_t, av])\n",
    "DL_sup = DL*arr_default #IRC:6-2017 219.5.2\n",
    "LL_sup = LL*np.array([0, 0.2*ah_t, 0.2*av])\n",
    "\n",
    "L_piercap = wt_piercap*arr_default #volume * unit weight * [ahl, aht, av]\n",
    "\n",
    "L_pierstem = wt_pierstem*arr_default\n",
    "\n",
    "L_fdnpd = wt_fdnpd*arr_default"
   ]
  },
  {
   "cell_type": "code",
   "execution_count": 45,
   "id": "0d233563",
   "metadata": {
    "scrolled": true
   },
   "outputs": [
    {
     "data": {
      "text/html": [
       "<div>\n",
       "<style scoped>\n",
       "    .dataframe tbody tr th:only-of-type {\n",
       "        vertical-align: middle;\n",
       "    }\n",
       "\n",
       "    .dataframe tbody tr th {\n",
       "        vertical-align: top;\n",
       "    }\n",
       "\n",
       "    .dataframe thead th {\n",
       "        text-align: right;\n",
       "    }\n",
       "</style>\n",
       "<table border=\"1\" class=\"dataframe\">\n",
       "  <thead>\n",
       "    <tr style=\"text-align: right;\">\n",
       "      <th></th>\n",
       "      <th>Load</th>\n",
       "      <th>Long</th>\n",
       "      <th>Trans</th>\n",
       "      <th>Vert</th>\n",
       "    </tr>\n",
       "  </thead>\n",
       "  <tbody>\n",
       "    <tr>\n",
       "      <th>SUP DL</th>\n",
       "      <td>10870.250000</td>\n",
       "      <td>1731.962204</td>\n",
       "      <td>5869.935000</td>\n",
       "      <td>1154.641469</td>\n",
       "    </tr>\n",
       "    <tr>\n",
       "      <th>SUP LL</th>\n",
       "      <td>1422.672000</td>\n",
       "      <td>0.000000</td>\n",
       "      <td>153.648576</td>\n",
       "      <td>30.223336</td>\n",
       "    </tr>\n",
       "    <tr>\n",
       "      <th>PierCap</th>\n",
       "      <td>1470.000000</td>\n",
       "      <td>234.215813</td>\n",
       "      <td>793.800000</td>\n",
       "      <td>156.143875</td>\n",
       "    </tr>\n",
       "    <tr>\n",
       "      <th>PierStem</th>\n",
       "      <td>1082.402637</td>\n",
       "      <td>172.459737</td>\n",
       "      <td>584.497424</td>\n",
       "      <td>114.973158</td>\n",
       "    </tr>\n",
       "    <tr>\n",
       "      <th>FdnPad</th>\n",
       "      <td>5512.500000</td>\n",
       "      <td>878.309298</td>\n",
       "      <td>2976.750000</td>\n",
       "      <td>585.539532</td>\n",
       "    </tr>\n",
       "  </tbody>\n",
       "</table>\n",
       "</div>"
      ],
      "text/plain": [
       "                  Load         Long        Trans         Vert\n",
       "SUP DL    10870.250000  1731.962204  5869.935000  1154.641469\n",
       "SUP LL     1422.672000     0.000000   153.648576    30.223336\n",
       "PierCap    1470.000000   234.215813   793.800000   156.143875\n",
       "PierStem   1082.402637   172.459737   584.497424   114.973158\n",
       "FdnPad     5512.500000   878.309298  2976.750000   585.539532"
      ]
     },
     "metadata": {},
     "output_type": "display_data"
    }
   ],
   "source": [
    "seismic = pd.DataFrame([DL_sup, LL_sup, L_piercap, L_pierstem, L_fdnpd],\n",
    "             index= ['SUP DL', 'SUP LL', 'PierCap', 'PierStem', 'FdnPad'],\n",
    "             columns=['Long', 'Trans', 'Vert'])\n",
    "seismic.insert(0, column = 'Load', value = [DL,LL,wt_piercap,wt_pierstem,wt_fdnpd])\n",
    "display(seismic)\n",
    "# seismic.to_csv('outputs/SeismicForce.csv')\n"
   ]
  },
  {
   "cell_type": "code",
   "execution_count": 46,
   "id": "b797f3b8",
   "metadata": {},
   "outputs": [
    {
     "data": {
      "text/plain": [
       "SUP DL      1731.962204\n",
       "SUP LL         0.000000\n",
       "PierCap      234.215813\n",
       "PierStem     172.459737\n",
       "FdnPad       878.309298\n",
       "Name: Long, dtype: float64"
      ]
     },
     "execution_count": 46,
     "metadata": {},
     "output_type": "execute_result"
    }
   ],
   "source": [
    "seismic.Long"
   ]
  },
  {
   "cell_type": "markdown",
   "id": "fc2090be",
   "metadata": {},
   "source": [
    "**Moments**"
   ]
  },
  {
   "cell_type": "code",
   "execution_count": 50,
   "id": "efc027de",
   "metadata": {},
   "outputs": [
    {
     "name": "stdout",
     "output_type": "stream",
     "text": [
      "SUP DL      20783.546447\n",
      "SUP LL          0.000000\n",
      "PierCap      2424.133663\n",
      "PierStem      974.397515\n",
      "FdnPad        878.309298\n",
      "Name: Long, dtype: float64\n"
     ]
    }
   ],
   "source": [
    "larm_seismic = [(fdnpd_height+pier_height_CT+0.6), (fdnpd_height+pier_height_CT+0.6), (fdnpd_height+pier_height+piercap_height/2), (fdnpd_height+pier_height/2), fdnpd_height/2]\n",
    "a = np.multiply(np.array(larm_seismic),seismic.Long)\n",
    "print(a)"
   ]
  },
  {
   "cell_type": "code",
   "execution_count": 52,
   "id": "5d8dea6c",
   "metadata": {},
   "outputs": [
    {
     "data": {
      "text/plain": [
       "[12.0, 12.0, 10.350000000000001, 5.65, 1.0]"
      ]
     },
     "execution_count": 52,
     "metadata": {},
     "output_type": "execute_result"
    }
   ],
   "source": [
    "larm_seismic"
   ]
  },
  {
   "cell_type": "markdown",
   "id": "429af89f",
   "metadata": {},
   "source": [
    "**Longitudinal forces**"
   ]
  },
  {
   "cell_type": "markdown",
   "id": "dd290692",
   "metadata": {},
   "source": [
    "**In the case of a single lane or a two lane bridge** : twenty percent of the\n",
    "first train load plus ten percent of the load of the succeeding trains or part\n",
    "thereof, the train loads in one lane only being considered for the purpose of\n",
    "this sub- clause. Where the entire first train is not on the full span, the\n",
    "braking force shall be taken as equal to twenty percent of the loads actually\n",
    "on the span or continuous unit of spans.\n",
    "\n",
    "*longitudinal force acts along an line parallel to roadway and 1.2 m above it*"
   ]
  },
  {
   "cell_type": "code",
   "execution_count": null,
   "id": "3495173d",
   "metadata": {},
   "outputs": [],
   "source": [
    "veh_for_long = ll_A.reduced(to=0.2)\n",
    "for i in range(veh_no[0]-1):\n",
    "    veh_for_long+=ll_A.reduced(to=0.1)\n",
    "    \n",
    "f_long = sum([i[1] for i in veh_for_long.loadpair if i[0]<span*2])\n",
    "\n",
    "# calculate moment here"
   ]
  },
  {
   "cell_type": "markdown",
   "id": "3533673f",
   "metadata": {},
   "source": [
    "**Temperature and shrinkage**"
   ]
  },
  {
   "cell_type": "code",
   "execution_count": null,
   "id": "18811554",
   "metadata": {},
   "outputs": [],
   "source": [
    "temp_diff = 30 #degree celcius\n",
    "alpha = 0.000012 # coeff of thermal exp\n",
    "elongation_therm = round(alpha*temp_diff*span, 5)\n",
    "\n",
    "shrink_strain = 0.0002\n",
    "elongation_shrink = round(shrink_strain*50)"
   ]
  },
  {
   "cell_type": "markdown",
   "id": "732628ee",
   "metadata": {},
   "source": []
  }
 ],
 "metadata": {
  "kernelspec": {
   "display_name": "Python 3 (ipykernel)",
   "language": "python",
   "name": "python3"
  },
  "language_info": {
   "codemirror_mode": {
    "name": "ipython",
    "version": 3
   },
   "file_extension": ".py",
   "mimetype": "text/x-python",
   "name": "python",
   "nbconvert_exporter": "python",
   "pygments_lexer": "ipython3",
   "version": "3.9.7"
  }
 },
 "nbformat": 4,
 "nbformat_minor": 5
}
