{
 "cells": [
  {
   "cell_type": "code",
   "execution_count": 1,
   "id": "be4275b9",
   "metadata": {},
   "outputs": [],
   "source": [
    "import pandas as pd\n",
    "import numpy as np\n",
    "import math\n",
    "from bridge_specs import box\n",
    "from Cross import calc_centroid as cg\n",
    "from irc6_2007 import *"
   ]
  },
  {
   "cell_type": "code",
   "execution_count": 2,
   "id": "06c53779",
   "metadata": {},
   "outputs": [
    {
     "data": {
      "text/html": [
       "<div>\n",
       "<style scoped>\n",
       "    .dataframe tbody tr th:only-of-type {\n",
       "        vertical-align: middle;\n",
       "    }\n",
       "\n",
       "    .dataframe tbody tr th {\n",
       "        vertical-align: top;\n",
       "    }\n",
       "\n",
       "    .dataframe thead th {\n",
       "        text-align: right;\n",
       "    }\n",
       "</style>\n",
       "<table border=\"1\" class=\"dataframe\">\n",
       "  <thead>\n",
       "    <tr style=\"text-align: right;\">\n",
       "      <th></th>\n",
       "      <th></th>\n",
       "      <th>0.00</th>\n",
       "      <th>6.25</th>\n",
       "      <th>12.50</th>\n",
       "      <th>18.75</th>\n",
       "      <th>25.00</th>\n",
       "      <th>31.25</th>\n",
       "      <th>37.50</th>\n",
       "      <th>43.75</th>\n",
       "      <th>50.00</th>\n",
       "    </tr>\n",
       "  </thead>\n",
       "  <tbody>\n",
       "    <tr>\n",
       "      <th rowspan=\"3\" valign=\"top\">MaxBM</th>\n",
       "      <th>ClassA</th>\n",
       "      <td>0.000</td>\n",
       "      <td>2361.037</td>\n",
       "      <td>4068.075</td>\n",
       "      <td>5120.737</td>\n",
       "      <td>5526.150</td>\n",
       "      <td>5340.038</td>\n",
       "      <td>4327.675</td>\n",
       "      <td>2494.638</td>\n",
       "      <td>0.000</td>\n",
       "    </tr>\n",
       "    <tr>\n",
       "      <th>Class70RW</th>\n",
       "      <td>0.000</td>\n",
       "      <td>4826.025</td>\n",
       "      <td>8200.950</td>\n",
       "      <td>10182.475</td>\n",
       "      <td>10877.400</td>\n",
       "      <td>10163.225</td>\n",
       "      <td>8053.750</td>\n",
       "      <td>4611.975</td>\n",
       "      <td>0.000</td>\n",
       "    </tr>\n",
       "    <tr>\n",
       "      <th>Class70RT</th>\n",
       "      <td>0.000</td>\n",
       "      <td>3651.438</td>\n",
       "      <td>6259.675</td>\n",
       "      <td>7823.212</td>\n",
       "      <td>8342.050</td>\n",
       "      <td>7823.588</td>\n",
       "      <td>6260.425</td>\n",
       "      <td>3652.563</td>\n",
       "      <td>0.000</td>\n",
       "    </tr>\n",
       "    <tr>\n",
       "      <th rowspan=\"3\" valign=\"top\">MaxSF+</th>\n",
       "      <th>ClassA</th>\n",
       "      <td>445.318</td>\n",
       "      <td>376.622</td>\n",
       "      <td>307.926</td>\n",
       "      <td>238.122</td>\n",
       "      <td>169.426</td>\n",
       "      <td>99.676</td>\n",
       "      <td>43.520</td>\n",
       "      <td>13.056</td>\n",
       "      <td>0.000</td>\n",
       "    </tr>\n",
       "    <tr>\n",
       "      <th>Class70RW</th>\n",
       "      <td>895.524</td>\n",
       "      <td>771.524</td>\n",
       "      <td>647.524</td>\n",
       "      <td>521.524</td>\n",
       "      <td>397.524</td>\n",
       "      <td>271.524</td>\n",
       "      <td>148.964</td>\n",
       "      <td>44.948</td>\n",
       "      <td>0.000</td>\n",
       "    </tr>\n",
       "    <tr>\n",
       "      <th>Class70RT</th>\n",
       "      <td>667.590</td>\n",
       "      <td>579.390</td>\n",
       "      <td>492.590</td>\n",
       "      <td>404.390</td>\n",
       "      <td>317.590</td>\n",
       "      <td>229.390</td>\n",
       "      <td>142.590</td>\n",
       "      <td>54.390</td>\n",
       "      <td>0.000</td>\n",
       "    </tr>\n",
       "    <tr>\n",
       "      <th rowspan=\"3\" valign=\"top\">MaxSF-</th>\n",
       "      <th>ClassA</th>\n",
       "      <td>0.000</td>\n",
       "      <td>-12.030</td>\n",
       "      <td>-51.234</td>\n",
       "      <td>-106.602</td>\n",
       "      <td>-175.162</td>\n",
       "      <td>-244.966</td>\n",
       "      <td>-313.662</td>\n",
       "      <td>-383.466</td>\n",
       "      <td>-452.162</td>\n",
       "    </tr>\n",
       "    <tr>\n",
       "      <th>Class70RW</th>\n",
       "      <td>0.000</td>\n",
       "      <td>-17.024</td>\n",
       "      <td>-87.536</td>\n",
       "      <td>-208.476</td>\n",
       "      <td>-332.476</td>\n",
       "      <td>-458.476</td>\n",
       "      <td>-582.476</td>\n",
       "      <td>-708.476</td>\n",
       "      <td>-832.476</td>\n",
       "    </tr>\n",
       "    <tr>\n",
       "      <th>Class70RT</th>\n",
       "      <td>0.000</td>\n",
       "      <td>-54.810</td>\n",
       "      <td>-143.010</td>\n",
       "      <td>-229.810</td>\n",
       "      <td>-316.610</td>\n",
       "      <td>-404.810</td>\n",
       "      <td>-491.610</td>\n",
       "      <td>-579.810</td>\n",
       "      <td>-666.610</td>\n",
       "    </tr>\n",
       "    <tr>\n",
       "      <th rowspan=\"3\" valign=\"top\">MaxSF</th>\n",
       "      <th>ClassA</th>\n",
       "      <td>445.318</td>\n",
       "      <td>376.622</td>\n",
       "      <td>307.926</td>\n",
       "      <td>238.122</td>\n",
       "      <td>175.162</td>\n",
       "      <td>244.966</td>\n",
       "      <td>313.662</td>\n",
       "      <td>383.466</td>\n",
       "      <td>452.162</td>\n",
       "    </tr>\n",
       "    <tr>\n",
       "      <th>Class70RW</th>\n",
       "      <td>895.524</td>\n",
       "      <td>771.524</td>\n",
       "      <td>647.524</td>\n",
       "      <td>521.524</td>\n",
       "      <td>397.524</td>\n",
       "      <td>458.476</td>\n",
       "      <td>582.476</td>\n",
       "      <td>708.476</td>\n",
       "      <td>832.476</td>\n",
       "    </tr>\n",
       "    <tr>\n",
       "      <th>Class70RT</th>\n",
       "      <td>667.590</td>\n",
       "      <td>579.390</td>\n",
       "      <td>492.590</td>\n",
       "      <td>404.390</td>\n",
       "      <td>317.590</td>\n",
       "      <td>404.810</td>\n",
       "      <td>491.610</td>\n",
       "      <td>579.810</td>\n",
       "      <td>666.610</td>\n",
       "    </tr>\n",
       "  </tbody>\n",
       "</table>\n",
       "</div>"
      ],

      "text/plain": [
       "                    0.00      6.25      12.50      18.75      25.00  \\\n",
       "MaxBM  ClassA       0.000  2361.037  4068.075   5120.737   5526.150   \n",
       "       Class70RW    0.000  4826.025  8200.950  10182.475  10877.400   \n",
       "       Class70RT    0.000  3651.438  6259.675   7823.212   8342.050   \n",
       "MaxSF+ ClassA     445.318   376.622   307.926    238.122    169.426   \n",
       "       Class70RW  895.524   771.524   647.524    521.524    397.524   \n",
       "       Class70RT  667.590   579.390   492.590    404.390    317.590   \n",
       "MaxSF- ClassA       0.000   -12.030   -51.234   -106.602   -175.162   \n",
       "       Class70RW    0.000   -17.024   -87.536   -208.476   -332.476   \n",
       "       Class70RT    0.000   -54.810  -143.010   -229.810   -316.610   \n",
       "MaxSF  ClassA     445.318   376.622   307.926    238.122    175.162   \n",
       "       Class70RW  895.524   771.524   647.524    521.524    397.524   \n",
       "       Class70RT  667.590   579.390   492.590    404.390    317.590   \n",
       "\n",
       "                      31.25     37.50     43.75    50.00  \n",
       "MaxBM  ClassA      5340.038  4327.675  2494.638    0.000  \n",
       "       Class70RW  10163.225  8053.750  4611.975    0.000  \n",
       "       Class70RT   7823.588  6260.425  3652.563    0.000  \n",
       "MaxSF+ ClassA        99.676    43.520    13.056    0.000  \n",
       "       Class70RW    271.524   148.964    44.948    0.000  \n",
       "       Class70RT    229.390   142.590    54.390    0.000  \n",
       "MaxSF- ClassA      -244.966  -313.662  -383.466 -452.162  \n",
       "       Class70RW   -458.476  -582.476  -708.476 -832.476  \n",
       "       Class70RT   -404.810  -491.610  -579.810 -666.610  \n",
       "MaxSF  ClassA       244.966   313.662   383.466  452.162  \n",
       "       Class70RW    458.476   582.476   708.476  832.476  \n",
       "       Class70RT    404.810   491.610   579.810  666.610  "
      ]
     },
     "metadata": {},
     "output_type": "display_data"
    },
    {
     "data": {
      "text/plain": [
       "452.162"
      ]
     },
     "metadata": {},
     "output_type": "display_data"
    }
   ],
   "source": [
    "#inputs\n",
    "\n",
    "df = pd.read_excel('outputs/loads.xlsx', index_col=[0, 1])\n",
    "display(df)\n",
    "www = df.loc[[('MaxSF','ClassA')]]\n",
    "display(www.max().max())"
   ]
  },
  {
   "cell_type": "code",
   "execution_count": 3,
   "id": "2bf4b55f",
   "metadata": {},
   "outputs": [],
   "source": [
    "def loader(unit_wt, length, width, height, type):\n",
    "    if type == 'r':\n",
    "        load = unit_wt*length*width*height\n",
    "    elif type == 't':\n",
    "        load = unit_wt*length*width*height*0.5\n",
    "    \n",
    "    return load\n",
    "def z(base, clr, dim, x, type):\n",
    "    \"\"\"base = width of base along with taper\n",
    "       clr = overhang part from where centroid is calculated\n",
    "        dim = width of object whose lever arm is required\n",
    "        type = shape of object\n",
    "    \"\"\"\n",
    "    y = []\n",
    "    if type == 'r':\n",
    "        y.append(cg('rectangle',[dim,0],[x,0]))\n",
    "        return (-(clr+base/2)+y[0][0])\n",
    "    y = []\n",
    "    if type == 't1':\n",
    "        y.append(cg('triangle_2',[dim,0],[x,0]))\n",
    "        return (-(clr+base/2)+y[0][0])\n",
    "    y = []\n",
    "    if type == 't2':\n",
    "        y.append(cg('triangle_1',[dim,0],[x,0]))\n",
    "        return (-(clr+base/2)+y[0][0])\n",
    "\n",
    "def na(x,s,cf,dm): \n",
    "    mor = (s*cf)/1000\n",
    "    while dm>=mor:\n",
    "        x = int(input(\"Enter a new trial depth:\"))\n",
    "        cs = d-0.416*xu\n",
    "        cf = (0.446*fck*beta1*(1000*abut['width_of_abut'])*xu)/1000 \n",
    "        mor = (s*cf)/1000\n",
    "    return x"
   ]
  },
  {
   "cell_type": "markdown",
   "id": "60c74063",
   "metadata": {},
   "source": [
    "Abutment details"
   ]
  },
  {
   "cell_type": "code",
   "execution_count": 4,
   "id": "cadf1e4a",
   "metadata": {},
   "outputs": [
    {
     "name": "stdout",
     "output_type": "stream",
     "text": [
      "3.575\n"
     ]
    }
   ],
   "source": [
    "#inputs\n",
    "\n",
    "bearing_ht = 0.3 #assumed including pedestal\n",
    "abut = {\n",
    "    'total_ht' : 7.0,\n",
    "    'wc' : 0.075,\n",
    "    'backw_ht' : box['pillar_hei']+bearing_ht+0.075, #including wearing cource\n",
    "    'cap':0.5,\n",
    "    'stem_ht': 7-box['pillar_hei']+bearing_ht+0.075-0.5,\n",
    "    'bw_width':0.3,\n",
    "    'edge_to_bearing_c':0.6,\n",
    "    'bw_to_bearing_c': 0.6,\n",
    "    'cap_width':0.3+0.6+0.6,\n",
    "    'stem_width':1.25,\n",
    "    'be_taperwidth':0.10,\n",
    "    'width_of_abut':8.4,\n",
    "    'ttl_stembase_width':1.25+0.10,\n",
    "    'approach_slab_dep':0.3,\n",
    "    'approach_slab_len':3.5,\n",
    "    'haunch':{'stem_haunch':[0.2,0.25],'approach_slab_haunch_rec':[0.25,0.25], 'approach_slab_haunch_tri':[0.25,0.25]} #list of width and height.\n",
    "}\n",
    "fdn = {\n",
    "    'heel' : 4,\n",
    "    'toe' : 2.5,\n",
    "    'th' : 1.5,\n",
    "    'wid' : 9,\n",
    "    'len' : 7.85\n",
    "}\n",
    "print(abut['backw_ht'])"
   ]
  },
  {
   "cell_type": "markdown",
   "id": "da40c877",
   "metadata": {},
   "source": [
    "Inputs: Live Loads, Dead loads and Pedestrian loads"
   ]
  },
  {
   "cell_type": "code",
   "execution_count": 5,
   "id": "94029f3d",
   "metadata": {},
   "outputs": [],
   "source": [
    "#dummy loads\n",
    "dl = 3000 #dead loads\n",
    "ll = 1000 #live loads including impact\n",
    "pdl = 200 #pedestrian loads\n",
    "sdl=250 #Surface Loads"
   ]
  },
  {
   "cell_type": "markdown",
   "id": "68af3bdf",
   "metadata": {},
   "source": [
    "Input: Material properties"
   ]
  },
  {
   "cell_type": "code",
   "execution_count": 6,
   "id": "19d0004a",
   "metadata": {},
   "outputs": [],
   "source": [
    "#Inputs\n",
    "\n",
    "E = 200000 #Elasticity of steel\n",
    "fck = 30 #grade of concrete = M30\n",
    "fy = 500 #grade of steel = Fe500\n",
    "unitwt_conc = 25 #unit weight of concrete = 25KN/m^3\n",
    "unitwt_bfill = 20 #unit weight of backfill = 20KN/m^3"
   ]
  },
  {
   "cell_type": "markdown",
   "id": "ed1b9b8e",
   "metadata": {},
   "source": [
    "Self weight loads of abutment"
   ]
  },
  {
   "cell_type": "code",
   "execution_count": 7,
   "id": "26a60d40",
   "metadata": {},
   "outputs": [
    {
     "data": {
      "text/html": [
       "<div>\n",
       "<style scoped>\n",
       "    .dataframe tbody tr th:only-of-type {\n",
       "        vertical-align: middle;\n",
       "    }\n",
       "\n",
       "    .dataframe tbody tr th {\n",
       "        vertical-align: top;\n",
       "    }\n",
       "\n",
       "    .dataframe thead th {\n",
       "        text-align: right;\n",
       "    }\n",
       "</style>\n",
       "<table border=\"1\" class=\"dataframe\">\n",
       "  <thead>\n",
       "    <tr style=\"text-align: right;\">\n",
       "      <th></th>\n",
       "      <th>Load</th>\n",
       "      <th>Lever arm</th>\n",
       "      <th>Moment</th>\n",
       "    </tr>\n",
       "  </thead>\n",
       "  <tbody>\n",
       "    <tr>\n",
       "      <th>Stem(rectangle)</th>\n",
       "      <td>964.6875</td>\n",
       "      <td>-0.05000</td>\n",
       "      <td>-48.234375</td>\n",
       "    </tr>\n",
       "    <tr>\n",
       "      <th>Stem(triangle)</th>\n",
       "      <td>38.5875</td>\n",
       "      <td>0.60833</td>\n",
       "      <td>23.473934</td>\n",
       "    </tr>\n",
       "    <tr>\n",
       "      <th>Cap</th>\n",
       "      <td>157.5000</td>\n",
       "      <td>-0.12500</td>\n",
       "      <td>-19.687500</td>\n",
       "    </tr>\n",
       "    <tr>\n",
       "      <th>Backwall</th>\n",
       "      <td>225.2250</td>\n",
       "      <td>-0.72500</td>\n",
       "      <td>-163.288125</td>\n",
       "    </tr>\n",
       "    <tr>\n",
       "      <th>Stem haunch</th>\n",
       "      <td>10.5000</td>\n",
       "      <td>-0.74167</td>\n",
       "      <td>-7.787535</td>\n",
       "    </tr>\n",
       "    <tr>\n",
       "      <th>Approach slab haunch(rec)</th>\n",
       "      <td>13.1250</td>\n",
       "      <td>-1.00000</td>\n",
       "      <td>-13.125000</td>\n",
       "    </tr>\n",
       "    <tr>\n",
       "      <th>Approach slab haunch(tri)</th>\n",
       "      <td>6.5625</td>\n",
       "      <td>-1.04167</td>\n",
       "      <td>-6.835959</td>\n",
       "    </tr>\n",
       "    <tr>\n",
       "      <th>Total</th>\n",
       "      <td>1416.1875</td>\n",
       "      <td>NaN</td>\n",
       "      <td>-235.484560</td>\n",
       "    </tr>\n",
       "  </tbody>\n",
       "</table>\n",
       "</div>"
      ],
      "text/plain": [
       "                                Load  Lever arm      Moment\n",
       "Stem(rectangle)             964.6875   -0.05000  -48.234375\n",
       "Stem(triangle)               38.5875    0.60833   23.473934\n",
       "Cap                         157.5000   -0.12500  -19.687500\n",
       "Backwall                    225.2250   -0.72500 -163.288125\n",
       "Stem haunch                  10.5000   -0.74167   -7.787535\n",
       "Approach slab haunch(rec)    13.1250   -1.00000  -13.125000\n",
       "Approach slab haunch(tri)     6.5625   -1.04167   -6.835959\n",
       "Total                      1416.1875        NaN -235.484560"
      ]
     },
     "metadata": {},
     "output_type": "display_data"
    }
   ],
   "source": [
    "# comp = ['stem_rect','stem_tri','cap','backwall','stem_haunch','approach_slab_haunch']\n",
    "loads = [loader(unitwt_conc,abut['stem_ht'],abut['width_of_abut'],abut['stem_width'],'r'),\n",
    "         loader(unitwt_conc,abut['stem_ht'],abut['width_of_abut'],abut['be_taperwidth'],'t'),\n",
    "         loader(unitwt_conc,abut['cap'],abut['width_of_abut'],abut['cap_width'],'r'),\n",
    "         loader(unitwt_conc,abut['backw_ht'],abut['width_of_abut'],abut['bw_width'],'r'),\n",
    "         loader(unitwt_conc,abut['haunch']['stem_haunch'][0],abut['width_of_abut'],abut['haunch']['stem_haunch'][1],'r'),\n",
    "         loader(unitwt_conc,abut['haunch']['approach_slab_haunch_rec'][0],abut['width_of_abut'],abut['haunch']['approach_slab_haunch_rec'][1],'r'),\n",
    "          loader(unitwt_conc,abut['haunch']['approach_slab_haunch_tri'][0],abut['width_of_abut'],abut['haunch']['approach_slab_haunch_tri'][1],'t')]\n",
    "lever_arm = [round(z(abut['ttl_stembase_width'],abut['haunch']['stem_haunch'][0],abut['stem_width'],abut['haunch']['stem_haunch'][0],'r'),5),\n",
    "            round(z(abut['ttl_stembase_width'],abut['haunch']['stem_haunch'][0],abut['be_taperwidth'],abut['haunch']['stem_haunch'][0]+abut['stem_width'],'t1'),5),\n",
    "            round(z(abut['ttl_stembase_width'],abut['haunch']['stem_haunch'][0],abut['cap_width'],0,'r'),5),\n",
    "            round(z(abut['ttl_stembase_width'],abut['haunch']['stem_haunch'][0],abut['bw_width'],0,'r'),5),\n",
    "            round(z(abut['ttl_stembase_width'],abut['haunch']['stem_haunch'][0],abut['haunch']['stem_haunch'][0],0,'t2'),5),\n",
    "            round(z(abut['ttl_stembase_width'],abut['haunch']['stem_haunch'][0],-abut['haunch']['approach_slab_haunch_rec'][0],0,'r'),5),\n",
    "            round(z(abut['ttl_stembase_width'],abut['haunch']['stem_haunch'][0],-abut['haunch']['approach_slab_haunch_tri'][0],0,'t2'),5)]\n",
    "moments = []\n",
    "for index,i in enumerate(loads):\n",
    "    moments.append(loads[index]*lever_arm[index])\n",
    "A1 = pd.DataFrame({\"Load\":loads,\"Lever arm\":lever_arm,\"Moment\":moments},index = ['Stem(rectangle)','Stem(triangle)','Cap','Backwall','Stem haunch','Approach slab haunch(rec)','Approach slab haunch(tri)'])\n",
    "A1.loc[len(A1.index)] = [A1['Load'].sum(),None,A1['Moment'].sum()]\n",
    "display(A1.rename(index={7:'Total'}))\n",
    "# display(A1.loc[7,'Load'])"
   ]
  },
  {
   "cell_type": "markdown",
   "id": "4e66066b",
   "metadata": {},
   "source": [
    "Loads from superstructure"
   ]
  },
  {
   "cell_type": "code",
   "execution_count": 8,
   "id": "0b21359c",
   "metadata": {},
   "outputs": [
    {
     "data": {
      "text/html": [
       "<div>\n",
       "<style scoped>\n",
       "    .dataframe tbody tr th:only-of-type {\n",
       "        vertical-align: middle;\n",
       "    }\n",
       "\n",
       "    .dataframe tbody tr th {\n",
       "        vertical-align: top;\n",
       "    }\n",
       "\n",
       "    .dataframe thead th {\n",
       "        text-align: right;\n",
       "    }\n",
       "</style>\n",
       "<table border=\"1\" class=\"dataframe\">\n",
       "  <thead>\n",
       "    <tr style=\"text-align: right;\">\n",
       "      <th></th>\n",
       "      <th>Load</th>\n",
       "      <th>Lever arm</th>\n",
       "      <th>Moment</th>\n",
       "    </tr>\n",
       "  </thead>\n",
       "  <tbody>\n",
       "    <tr>\n",
       "      <th>Dead load</th>\n",
       "      <td>3000</td>\n",
       "      <td>0.025</td>\n",
       "      <td>75.00</td>\n",
       "    </tr>\n",
       "    <tr>\n",
       "      <th>Live load</th>\n",
       "      <td>1200</td>\n",
       "      <td>0.025</td>\n",
       "      <td>30.00</td>\n",
       "    </tr>\n",
       "    <tr>\n",
       "      <th>Surface load</th>\n",
       "      <td>250</td>\n",
       "      <td>0.025</td>\n",
       "      <td>6.25</td>\n",
       "    </tr>\n",
       "  </tbody>\n",
       "</table>\n",
       "</div>"
      ],
      "text/plain": [
       "              Load  Lever arm  Moment\n",
       "Dead load     3000      0.025   75.00\n",
       "Live load     1200      0.025   30.00\n",
       "Surface load   250      0.025    6.25"
      ]
     },
     "metadata": {},
     "output_type": "display_data"
    }
   ],
   "source": [
    "load = [dl,ll+pdl,sdl]\n",
    "arm = [round(z(abut['ttl_stembase_width'],abut['haunch']['stem_haunch'][0],abut['edge_to_bearing_c']+abut['bw_to_bearing_c'],abut['bw_width'],'r'),5),\n",
    "      round(z(abut['ttl_stembase_width'],abut['haunch']['stem_haunch'][0],abut['edge_to_bearing_c']+abut['bw_to_bearing_c'],abut['bw_width'],'r'),5),\n",
    "      round(z(abut['ttl_stembase_width'],abut['haunch']['stem_haunch'][0],abut['edge_to_bearing_c']+abut['bw_to_bearing_c'],abut['bw_width'],'r'),5)]\n",
    "moment = []\n",
    "for index,i in enumerate(load):\n",
    "    moment.append(load[index]*arm[index])\n",
    "A2 = pd.DataFrame({'Load':load, 'Lever arm':arm,'Moment':moment}, index = ['Dead load','Live load','Surface load'])\n",
    "display(A2)\n",
    "# display(A2.iloc[1,0])"
   ]
  },
  {
   "cell_type": "markdown",
   "id": "5772d76b",
   "metadata": {},
   "source": [
    "Earth Pressure as per clause 214 of IRC:6"
   ]
  },
  {
   "cell_type": "code",
   "execution_count": 9,
   "id": "a813f44c",
   "metadata": {},
   "outputs": [],
   "source": [
    "#Inputs\n",
    "\n",
    "phi = 33 #Angle of internal friction of soil\n",
    "alpha = 0 #Angle which earth face of the wal makes with the vertical of the wall\n",
    "beta = 0 #Slope of earth fill\n",
    "delta = 2/3*phi if 2/3*phi<22.5 else 22.5 #Angle of friction between earth and earth fill\n",
    "h = abut['total_ht']-abut['approach_slab_dep'] #Height of earthfill"
   ]
  },
  {
   "cell_type": "code",
   "execution_count": 10,
   "id": "b742f781",
   "metadata": {},
   "outputs": [],
   "source": [
    "ep = unitwt_bfill*h*ka(alpha, beta, delta, phi) #Earth pressure in KN/m^2.\n",
    "force = 0.5*ep*abut['width_of_abut']*h #Force due to earth pressure in KN.\n",
    "forc = [force*math.cos(math.radians(delta)),force*math.cos(math.radians(delta)),force*math.sin(math.radians(delta))] #Horizontal and vertical components.\n",
    "larm = [0.42*h, 0.33*h, -(abut['stem_width']+abut['be_taperwidth'])/2 ] #0.42 times height of wall above base for dry soil and 0.33 for wet.\n",
    "momen = []\n",
    "for index,i in enumerate(forc):\n",
    "    momen.append(forc[index]*larm[index])\n",
    "A3 = pd.DataFrame({'Force(KN)':forc, 'Lever arm(m)':larm,'Moment(KNm)':momen}, index = ['Earth pressure Hz(dry)','Earth pressure Hz(wet)','Earth pressure Ver'])\n",
    "# display(A3)"
   ]
  },
  {
   "cell_type": "markdown",
   "id": "f12dfbbd",
   "metadata": {},
   "source": [
    "Braking Forces"
   ]
  },
  {
   "cell_type": "code",
   "execution_count": 11,
   "id": "34d5d0a5",
   "metadata": {},
   "outputs": [],
   "source": [
    "#Inputs\n",
    "\n",
    "wt_70r = 1000 #Weight of 70R vehicle in KN.\n",
    "classa_wt = 554 #Weight of Class A in KN.\n",
    "pt = 1.2 #Point of application of load above the deck in m.\n",
    "factor = 0.2 #Lane fact as per clause 211.2 of IRC 6"
   ]
  },
  {
   "cell_type": "code",
   "execution_count": 12,
   "id": "a616f598",
   "metadata": {},
   "outputs": [],
   "source": [
    "F = [1*wt_70r*factor, 2*classa_wt*factor]\n",
    "la = pt+abut['total_ht']\n",
    "m = max(F)*la\n",
    "A4 = pd.DataFrame({'Force(KN)':max(F), 'Lever arm(m)':la,'Moment(KNm)':m}, index = ['Braking load'])\n",
    "# display(A4)"
   ]
  },
  {
   "cell_type": "markdown",
   "id": "34a7edc2",
   "metadata": {},
   "source": [
    "Temperature Forces"
   ]
  },
  {
   "cell_type": "code",
   "execution_count": 13,
   "id": "5b980bcf",
   "metadata": {},
   "outputs": [],
   "source": [
    "temp_var = 30 #Temperature variation in degree celsius\n",
    "alp = 0.000012 #Coefficient of thermal expansion in m/deg. c/m\n",
    "l = box['span'] #span of bridge\n",
    "shr_str = 0.0002 #Strain due to shrinkage.\n",
    "th_el = temp_var*alp*l #Thermal elongation in m.\n",
    "shr_el = l*shr_str #Shrinkage elongation in m.\n",
    "tot = (th_el+shr_el)/2 #Total elongation in m.\n",
    "shr_rt = 1000 #Shear rating of elastomer bearing in KN/m/m^2\n",
    "arb = 0.235644 #Area of bearing in m^2.\n",
    "htb = 0.0340 #Height of bearing in m.\n",
    "no = 3 #Number of bearings.\n",
    "f = 1.1*tot*(shr_rt*arb)/htb"
   ]
  },
  {
   "cell_type": "code",
   "execution_count": 14,
   "id": "60524c17",
   "metadata": {
    "scrolled": true
   },
   "outputs": [],
   "source": [
    "frc = 3*f\n",
    "La = abut['stem_ht']+abut['cap']+bearing_ht\n",
    "A5 = pd.DataFrame({'Force(KN)':frc, 'Lever arm(m)':La,'Moment(KNm)': (frc*La)}, index = ['Temperature force'])\n",
    "# display(A5)"
   ]
  },
  {
   "cell_type": "markdown",
   "id": "d3d12c53",
   "metadata": {},
   "source": [
    "Live Load Surcharge as per clause 214.1.1.3 of IRC 6"
   ]
  },
  {
   "cell_type": "code",
   "execution_count": 15,
   "id": "2ba5dad0",
   "metadata": {},
   "outputs": [
    {
     "name": "stdout",
     "output_type": "stream",
     "text": [
      "6.34704\n"
     ]
    }
   ],
   "source": [
    "hl = 1.2 \n",
    "Pr = ka(alpha, beta, delta, phi)*hl*unitwt_bfill #Horizontal pressure \n",
    "print(Pr)\n",
    "A6 = pd.DataFrame({'Force(KN)':(Pr*abut['width_of_abut']*(abut['total_ht']-abut['approach_slab_dep'])), 'Lever arm(m)':abut['total_ht']/3,'Moment(KNm)':((Pr*abut['width_of_abut']*(abut['total_ht']-abut['approach_slab_dep']))*abut['total_ht']/3)}, index = ['Force due to LL surcharge'])\n",
    "# display(A6)\n"
   ]
  },
  {
   "cell_type": "markdown",
   "id": "2e2079cd",
   "metadata": {},
   "source": [
    "Seismic loads as per clause 218 of IRC 6"
   ]
  },
  {
   "cell_type": "code",
   "execution_count": 16,
   "id": "269b3e10",
   "metadata": {},
   "outputs": [
    {
     "name": "stdout",
     "output_type": "stream",
     "text": [
      "11.560130794217766\n"
     ]
    }
   ],
   "source": [
    "\"\"\"Inputs\"\"\"\n",
    "zf = zone_factor(5) \n",
    "d = 1000 #Seismic importance factor as per table 19 of IRC 6\n",
    "i = 1.2\n",
    "f = 250 # Average response acceleration coefficient (see clause 218.5.1)\n",
    "rrf = 3.0 #Response reduction factor as per table 20 of IRC 6 \n",
    "ahh = ah(zf,sag(vib_period(d,f),'I'),rrf,1.2)\n",
    "av = ahh*2/3\n",
    "lam = max(math.degrees(math.atan(ahh/(1+av))),math.degrees(math.atan(ahh/(1-av))))\n",
    "print(lam)"
   ]
  },
  {
   "cell_type": "markdown",
   "id": "8c429fc3",
   "metadata": {},
   "source": [
    "Due to superstructure"
   ]
  },
  {
   "cell_type": "code",
   "execution_count": 17,
   "id": "3145628c",
   "metadata": {},
   "outputs": [],
   "source": [
    "H_force = []\n",
    "for index, i in enumerate(loads):\n",
    "    H_force.append(round(loads[index]*ahh,5))\n",
    "ht = [cg('rectangle', [abut['stem_width'],abut['stem_ht']], [0,0])[1], \n",
    "      cg('triangle_2', [abut['be_taperwidth'],abut['stem_ht']], [0,0])[1],\n",
    "      cg('rectangle', [abut['cap_width'],abut['cap']], [0,abut['stem_ht']])[1],\n",
    "      cg('rectangle', [abut['bw_width'],abut['backw_ht']], [0,abut['stem_ht']+abut['cap']])[1],\n",
    "      cg('triangle_1', [abut['haunch']['stem_haunch'][0],-abut['haunch']['stem_haunch'][1]], [0,abut['stem_ht']])[1],\n",
    "      cg('rectangle', [abut['haunch']['approach_slab_haunch_rec'][0],-abut['haunch']['approach_slab_haunch_rec'][1]], [0,abut['total_ht']-abut['approach_slab_dep']])[1],\n",
    "      cg('triangle_1', [abut['haunch']['approach_slab_haunch_tri'][0],-abut['haunch']['approach_slab_haunch_tri'][1]], [0,abut['total_ht']-abut['approach_slab_dep']-abut['haunch']['approach_slab_haunch_rec'][1]])[1]]\n",
    "mmt = []\n",
    "for index, i in enumerate(H_force):\n",
    "    mmt.append(round(H_force[index]*ht[index],5))\n",
    "A7 = pd.DataFrame({\"Weight\":loads, 'Hz force(KN)':H_force,\"Lever arm\":ht,\"Moment\":mmt},index = ['Stem(rectangle)','Stem(triangle)','Cap','Backwall','Stem haunch','Approach slab haunch(rec)','Approach slab haunch(tri)'])\n",
    "# display(A7)\n",
    "A7.loc[len(A7.index)] = [None, A7['Hz force(KN)'].sum(),None,A7['Moment'].sum()]\n",
    "A7.loc[len(A7.index)] = [dl, dl*ahh, abut['total_ht']-box['pillar_hei']/3-abut['wc'],(dl*ahh)*(abut['total_ht']-box['pillar_hei']/3-abut['wc'])]\n",
    "# display(A7.rename(index={7:'Total',8:'Superstructure DL'}))"
   ]
  },
  {
   "cell_type": "markdown",
   "id": "38fbda40",
   "metadata": {},
   "source": [
    "Due to Earth pressure"
   ]
  },
  {
   "cell_type": "code",
   "execution_count": 18,
   "id": "69d29381",
   "metadata": {},
   "outputs": [],
   "source": [
    "C = ca(alpha, beta, delta, phi, lam, av)\n",
    "k = ka(alpha, beta, delta, phi)\n",
    "ep = (C-k)*h*unitwt_bfill \n",
    "A8 = pd.DataFrame({\"Force\":.5*ep*h*abut['width_of_abut'],\"Lever arm\":h/3,\"Moment\":(ep*h*abut['width_of_abut'])*h/3},index = ['Seismic force due to backfill'])\n",
    "# display(A8)"
   ]
  },
  {
   "cell_type": "markdown",
   "id": "f1f0e732",
   "metadata": {},
   "source": [
    "Dynamic Surcharge "
   ]
  },
  {
   "cell_type": "code",
   "execution_count": 19,
   "id": "0645cac9",
   "metadata": {},
   "outputs": [],
   "source": [
    "A9 = pd.DataFrame({\"Force\":(unitwt_bfill*(C-k)*hl*abut['width_of_abut']*h),\"Lever arm\":(0.66*abut['total_ht']),\"Moment\":((unitwt_bfill*(C-k)*hl*abut['width_of_abut']*h)*(0.66*abut['total_ht']))},index = ['Dynamic Surcharge'])\n",
    "# display(A9)"
   ]
  },
  {
   "cell_type": "markdown",
   "id": "6bc8c409",
   "metadata": {},
   "source": [
    "Summary of loads"
   ]
  },
  {
   "cell_type": "code",
   "execution_count": 20,
   "id": "4d2e09e0",
   "metadata": {},
   "outputs": [],
   "source": [
    "#inputs\n",
    "#Unfactored Forces and their moments\n",
    "\n",
    "force_ver = [A1.loc[7,'Load'],A2.iloc[0,0],A2.iloc[1,0],A2.iloc[2,0],0,0,A3.iloc[2,0],0,0,0,0,0,0,0]\n",
    "force_hz = [0,0,0,0,A3.iloc[0,0],A3.iloc[1,0],0,A6.iloc[0,0],A4.iloc[0,0],A5.iloc[0,0],A7.iloc[0,0],A7.iloc[7,1],A8.iloc[0,0],A9.iloc[0,0]]\n",
    "moment_unf = [A1.iloc[7,2],A2.iloc[0,2],A2.iloc[1,2],A2.iloc[2,2],A3.iloc[0,2],A3.iloc[1,2],A3.iloc[2,2],A6.iloc[0,2],A4.iloc[0,2],A5.iloc[0,2],A7.iloc[8,3],A7.iloc[7,3],A8.iloc[0,2],A9.iloc[0,2]]\n",
    "\n",
    "#Safety Factors \n",
    "\n",
    "non_ses = [1.35,1.35,1.5,1.75,1.5,0,1,1.2,1.5,0.9,0,0,0,0]\n",
    "ses = [1.35,1.35,0,1.75,1,0,0,0.2,0.2,0.5,1.5,1.5,1.5,1]"
   ]
  },
  {
   "cell_type": "code",
   "execution_count": 21,
   "id": "cf4fc4f4",
   "metadata": {},
   "outputs": [
    {
     "data": {
      "text/html": [
       "<div>\n",
       "<style scoped>\n",
       "    .dataframe tbody tr th:only-of-type {\n",
       "        vertical-align: middle;\n",
       "    }\n",
       "\n",
       "    .dataframe tbody tr th {\n",
       "        vertical-align: top;\n",
       "    }\n",
       "\n",
       "    .dataframe thead th {\n",
       "        text-align: right;\n",
       "    }\n",
       "</style>\n",
       "<table border=\"1\" class=\"dataframe\">\n",
       "  <thead>\n",
       "    <tr style=\"text-align: right;\">\n",
       "      <th></th>\n",
       "      <th>Vertical Forces</th>\n",
       "      <th>Horizontal forces</th>\n",
       "      <th>Moment</th>\n",
       "    </tr>\n",
       "  </thead>\n",
       "  <tbody>\n",
       "    <tr>\n",
       "      <th>Abutment self</th>\n",
       "      <td>1911.85312</td>\n",
       "      <td>0.00000</td>\n",
       "      <td>-317.90416</td>\n",
       "    </tr>\n",
       "    <tr>\n",
       "      <th>SS DL</th>\n",
       "      <td>4050.00000</td>\n",
       "      <td>0.00000</td>\n",
       "      <td>101.25000</td>\n",
       "    </tr>\n",
       "    <tr>\n",
       "      <th>SS Live load</th>\n",
       "      <td>1800.00000</td>\n",
       "      <td>0.00000</td>\n",
       "      <td>45.00000</td>\n",
       "    </tr>\n",
       "    <tr>\n",
       "      <th>Surface DL</th>\n",
       "      <td>437.50000</td>\n",
       "      <td>0.00000</td>\n",
       "      <td>10.93750</td>\n",
       "    </tr>\n",
       "    <tr>\n",
       "      <th>Earth Hz (dry)</th>\n",
       "      <td>0.00000</td>\n",
       "      <td>1386.90273</td>\n",
       "      <td>3902.74430</td>\n",
       "    </tr>\n",
       "    <tr>\n",
       "      <th>Earth Hz (wet)</th>\n",
       "      <td>0.00000</td>\n",
       "      <td>0.00000</td>\n",
       "      <td>0.00000</td>\n",
       "    </tr>\n",
       "    <tr>\n",
       "      <th>Earth ver</th>\n",
       "      <td>373.56339</td>\n",
       "      <td>0.00000</td>\n",
       "      <td>-252.15528</td>\n",
       "    </tr>\n",
       "    <tr>\n",
       "      <th>Live load Surcharge</th>\n",
       "      <td>0.00000</td>\n",
       "      <td>428.65369</td>\n",
       "      <td>1000.19195</td>\n",
       "    </tr>\n",
       "    <tr>\n",
       "      <th>Braking</th>\n",
       "      <td>0.00000</td>\n",
       "      <td>332.40000</td>\n",
       "      <td>2725.68000</td>\n",
       "    </tr>\n",
       "    <tr>\n",
       "      <th>Temperature</th>\n",
       "      <td>0.00000</td>\n",
       "      <td>288.17875</td>\n",
       "      <td>1289.59991</td>\n",
       "    </tr>\n",
       "    <tr>\n",
       "      <th>SS DL(seismic)</th>\n",
       "      <td>0.00000</td>\n",
       "      <td>0.00000</td>\n",
       "      <td>0.00000</td>\n",
       "    </tr>\n",
       "    <tr>\n",
       "      <th>Abutment DL(seismic)</th>\n",
       "      <td>0.00000</td>\n",
       "      <td>0.00000</td>\n",
       "      <td>0.00000</td>\n",
       "    </tr>\n",
       "    <tr>\n",
       "      <th>Earth p (seismic)</th>\n",
       "      <td>0.00000</td>\n",
       "      <td>0.00000</td>\n",
       "      <td>0.00000</td>\n",
       "    </tr>\n",
       "    <tr>\n",
       "      <th>Dyn surcharge(Seismic)</th>\n",
       "      <td>0.00000</td>\n",
       "      <td>0.00000</td>\n",
       "      <td>0.00000</td>\n",
       "    </tr>\n",
       "    <tr>\n",
       "      <th>Total</th>\n",
       "      <td>8572.91651</td>\n",
       "      <td>2436.13517</td>\n",
       "      <td>8505.34422</td>\n",
       "    </tr>\n",
       "  </tbody>\n",
       "</table>\n",
       "</div>"
      ],
      "text/plain": [
       "                        Vertical Forces  Horizontal forces      Moment\n",
       "Abutment self                1911.85312            0.00000  -317.90416\n",
       "SS DL                        4050.00000            0.00000   101.25000\n",
       "SS Live load                 1800.00000            0.00000    45.00000\n",
       "Surface DL                    437.50000            0.00000    10.93750\n",
       "Earth Hz (dry)                  0.00000         1386.90273  3902.74430\n",
       "Earth Hz (wet)                  0.00000            0.00000     0.00000\n",
       "Earth ver                     373.56339            0.00000  -252.15528\n",
       "Live load Surcharge             0.00000          428.65369  1000.19195\n",
       "Braking                         0.00000          332.40000  2725.68000\n",
       "Temperature                     0.00000          288.17875  1289.59991\n",
       "SS DL(seismic)                  0.00000            0.00000     0.00000\n",
       "Abutment DL(seismic)            0.00000            0.00000     0.00000\n",
       "Earth p (seismic)               0.00000            0.00000     0.00000\n",
       "Dyn surcharge(Seismic)          0.00000            0.00000     0.00000\n",
       "Total                        8572.91651         2436.13517  8505.34422"
      ]
     },
     "metadata": {},
     "output_type": "display_data"
    }
   ],
   "source": [
    "#Factored responses (Non Seismic)\n",
    "\n",
    "ns_force_ver = []\n",
    "ns_force_hz = []\n",
    "ns_moment = []\n",
    "for index, i in enumerate(force_ver):\n",
    "    ns_force_ver.append(round(force_ver[index]*non_ses[index],5))\n",
    "for index, i in enumerate(force_hz):\n",
    "    ns_force_hz.append(round(force_hz[index]*non_ses[index],5))\n",
    "for index, i in enumerate(moment_unf):\n",
    "    ns_moment.append(round(moment_unf[index]*non_ses[index],5))\n",
    "A10 = pd.DataFrame({\"Vertical Forces\":ns_force_ver, 'Horizontal forces':ns_force_hz,\"Moment\":ns_moment},index = ['Abutment self','SS DL','SS Live load','Surface DL','Earth Hz (dry)','Earth Hz (wet)','Earth ver','Live load Surcharge','Braking','Temperature','SS DL(seismic)','Abutment DL(seismic)','Earth p (seismic)','Dyn surcharge(Seismic)'])\n",
    "A10.loc[len(A10.index)] = [A10['Vertical Forces'].sum(), A10['Horizontal forces'].sum(),A10['Moment'].sum()]\n",
    "display(A10.rename(index={14:'Total'}))\n",
    "\n",
    "#Factored responses (Seismic)\n",
    "\n",
    "ses_force_ver = []\n",
    "ses_force_hz = []\n",
    "ses_moment = []\n",
    "for index, i in enumerate(force_ver):\n",
    "    ses_force_ver.append(round(force_ver[index]*ses[index],5))\n",
    "for index, i in enumerate(force_hz):\n",
    "    ses_force_hz.append(round(force_hz[index]*ses[index],5))\n",
    "for index, i in enumerate(moment_unf):\n",
    "    ses_moment.append(round(moment_unf[index]*ses[index],5))\n",
    "A11 = pd.DataFrame({\"Vertical Forces\":ses_force_ver, 'Horizontal forces':ses_force_hz,\"Moment\":ses_moment},index = ['Abutment self','SS DL','SS Live load','Surface DL','Earth Hz (dry)','Earth Hz (wet)','Earth ver','Live load Surcharge','Braking','Temperature','SS DL(seismic)','Abutment DL(seismic)','Earth p (seismic)','Dyn surcharge(Seismic)'])\n",
    "A11.loc[len(A11.index)] = [A11['Vertical Forces'].sum(), A11['Horizontal forces'].sum(),A11['Moment'].sum()]\n",
    "# display(A11.rename(index={14:'Total'}))\n"
   ]
  },
  {
   "cell_type": "markdown",
   "id": "d38bd3d6",
   "metadata": {},
   "source": [
    "**Foundation Stability**"
   ]
  },
  {
   "cell_type": "markdown",
   "id": "d3082588",
   "metadata": {},
   "source": [
    "Load from self weight of abutment"
   ]
  },
  {
   "cell_type": "code",
   "execution_count": 22,
   "id": "9cdea243",
   "metadata": {},
   "outputs": [],
   "source": [
    "la_fromtoe = [cg('rectangle',[abut['stem_width'],abut['stem_ht']],[fdn['toe']+abut['be_taperwidth'],0])[0],\n",
    "             cg('triangle_2',[abut['be_taperwidth'],abut['stem_ht']],[fdn['toe'],0])[0],\n",
    "             cg('rectangle',[abut['cap_width'],abut['cap']],[fdn['toe']+abut['be_taperwidth'],abut['stem_ht']])[0],\n",
    "             cg('rectangle',[abut['bw_width'],abut['backw_ht']],[fdn['toe']+abut['ttl_stembase_width']+abut['haunch']['stem_haunch'][0],abut['stem_ht']+abut['cap']])[0],\n",
    "             cg('triangle_1',[abut['haunch']['stem_haunch'][0],abut['haunch']['stem_haunch'][1]],[fdn['toe']+abut['ttl_stembase_width'],abut['stem_ht']-abut['haunch']['stem_haunch'][1]])[0],\n",
    "             cg('rectangle',[abut['haunch']['approach_slab_haunch_rec'][0],abut['haunch']['approach_slab_haunch_rec'][1]],[fdn['toe']+abut['cap_width'],abut['stem_ht']+abut['cap']+abut['backw_ht']-abut['stem_ht']-abut['haunch']['approach_slab_haunch_rec'][1]])[0],\n",
    "             cg('triangle_1',[abut['haunch']['approach_slab_haunch_tri'][0],abut['haunch']['approach_slab_haunch_tri'][1]],[fdn['toe']+abut['cap_width'],abut['stem_ht']+abut['cap']+abut['backw_ht']-abut['stem_ht']-abut['haunch']['approach_slab_haunch_rec'][1]])[0]]\n",
    "mom_abttoe = []\n",
    "for index,i in enumerate(loads):\n",
    "    mom_abttoe.append(loads[index]*la_fromtoe[index])\n",
    "B1 = pd.DataFrame({\"Load\":loads,\"Lever arm\":la_fromtoe,\"Moment\":mom_abttoe},index = ['Stem(rectangle)','Stem(triangle)','Cap','Backwall','Stem haunch','Approach slab haunch(rec)','Approach slab haunch(tri)'])\n",
    "B1.loc[len(B1.index)] = [B1['Load'].sum(),None,B1['Moment'].sum()]\n",
    "B1 = B1.rename(index={7:'Total'})\n",
    "B1.loc[len(B1.index)] = [(unitwt_conc*fdn['len']*fdn['th']*fdn['wid']),fdn['len']/2,(unitwt_conc*fdn['len']*fdn['th']*fdn['wid'])*fdn['len']/2]\n",
    "# display(B1.rename(index={8:'Foundation Pad'}))\n"
   ]
  },
  {
   "cell_type": "markdown",
   "id": "87ba925a",
   "metadata": {},
   "source": [
    "Load from superstructure"
   ]
  },
  {
   "cell_type": "code",
   "execution_count": 23,
   "id": "243f5088",
   "metadata": {},
   "outputs": [],
   "source": [
    "arm_toe = [(fdn['len']-fdn['heel']+abut['haunch']['stem_haunch'][0]-abut['bw_width']-abut['bw_to_bearing_c']),\n",
    "          (fdn['len']-fdn['heel']+abut['haunch']['stem_haunch'][0]-abut['bw_width']-abut['bw_to_bearing_c']),\n",
    "          (fdn['len']-fdn['heel']+abut['haunch']['stem_haunch'][0]-abut['bw_width']-abut['bw_to_bearing_c'])]\n",
    "momentabt_toe = []\n",
    "for index,i in enumerate(load):\n",
    "    momentabt_toe.append(load[index]*arm_toe[index])\n",
    "B2 = pd.DataFrame({\"Load\":load,\"Lever arm\":arm_toe,\"Moment\":momentabt_toe},index = ['Dead load','Live load','Surface Load'])\n",
    "# display(B2)"
   ]
  },
  {
   "cell_type": "markdown",
   "id": "33123b84",
   "metadata": {},
   "source": [
    "Earth Pressure"
   ]
  },
  {
   "cell_type": "code",
   "execution_count": 24,
   "id": "c1346f5a",
   "metadata": {},
   "outputs": [
    {
     "name": "stdout",
     "output_type": "stream",
     "text": [
      "1600.4061359999996\n"
     ]
    }
   ],
   "source": [
    "ht1 = h + fdn['th']\n",
    "ep_new = unitwt_bfill*ht1*ka(alpha, beta, delta, phi) #Earth pressure in KN/m^2.\n",
    "force_new = 0.5*ep_new*(h+fdn['th'])*fdn['wid'] #Force due to earth pressure in KN.\n",
    "forc_new = [force_new*math.cos(math.radians(delta)),force_new*math.cos(math.radians(delta)),force_new*math.sin(math.radians(delta))] #Horizontal and vertical components.\n",
    "larm_abttoe = [-0.42*ht1, -0.33*ht1, (fdn['len']-fdn['heel']) ] #-ve for overturning moments.\n",
    "print(force_new)\n",
    "momen_abt_toe = []\n",
    "for index,i in enumerate(forc_new):\n",
    "    momen_abt_toe.append(forc_new[index]*larm_abttoe[index])\n",
    "B3 = pd.DataFrame({'Force(KN)':forc_new, 'Lever arm(m)':larm_abttoe,'Moment(KNm)':momen_abt_toe}, index = ['Earth pressure Hz(dry)','Earth pressure Hz(wet)','Earth pressure Ver'])\n",
    "# display(B3)"
   ]
  },
  {
   "cell_type": "markdown",
   "id": "7f5de723",
   "metadata": {},
   "source": [
    "Braking"
   ]
  },
  {
   "cell_type": "code",
   "execution_count": 25,
   "id": "b51eaff2",
   "metadata": {},
   "outputs": [],
   "source": [
    "br_forces = [max(F),-1*(max(F)*pt/box['span'])]\n",
    "la_toe = [-(ht1+abut['approach_slab_dep']+pt),(fdn['len']-fdn['heel']+abut['haunch']['stem_haunch'][0]-abut['bw_width']-abut['bw_to_bearing_c'])]\n",
    "m_toe = []\n",
    "for index,i in enumerate(br_forces):\n",
    "    m_toe.append(br_forces[index]*la_toe[index])\n",
    "B4 = pd.DataFrame({'Force(KN)':br_forces, 'Lever arm(m)':la_toe,'Moment(KNm)':m_toe}, index = ['Braking load','Braking vertical reaction'])\n",
    "# display(B4)"
   ]
  },
  {
   "cell_type": "markdown",
   "id": "46568e0c",
   "metadata": {},
   "source": [
    "Temperature Forces"
   ]
  },
  {
   "cell_type": "code",
   "execution_count": 26,
   "id": "f84931d9",
   "metadata": {},
   "outputs": [],
   "source": [
    "La_toe = -(abut['stem_ht']+abut['cap']+bearing_ht+fdn['th'])\n",
    "B5 = pd.DataFrame({'Force(KN)':frc, 'Lever arm(m)':La_toe,'Moment(KNm)': (frc*La_toe)}, index = ['Temperature force'])\n",
    "# display(B5)"
   ]
  },
  {
   "cell_type": "markdown",
   "id": "bffdcc22",
   "metadata": {},
   "source": [
    "Live Load Surcharge"
   ]
  },
  {
   "cell_type": "code",
   "execution_count": 27,
   "id": "1b1f5d49",
   "metadata": {},
   "outputs": [],
   "source": [
    "B6 = pd.DataFrame({'Force(KN)':(Pr*abut['width_of_abut']*abut['total_ht']), 'Lever arm(m)':-(abut['total_ht']+fdn['th'])/2,'Moment(KNm)':-((Pr*abut['width_of_abut']*abut['total_ht'])*(abut['total_ht']+fdn['th'])/2)}, index = ['Force due to LL surcharge'])\n",
    "B6.loc[len(B6.index)] = [(unitwt_bfill*pt*abut['width_of_abut']*fdn['heel']), (fdn['heel']/2+fdn['toe']+abut['ttl_stembase_width']),(unitwt_bfill*pt*abut['width_of_abut']*fdn['heel'])*(fdn['heel']/2+fdn['toe']+abut['ttl_stembase_width'])]\n",
    "# display(B6.rename(index={1:'Vertical Surcharge'}))"
   ]
  },
  {
   "cell_type": "markdown",
   "id": "9a547b42",
   "metadata": {},
   "source": [
    "Backfill"
   ]
  },
  {
   "cell_type": "code",
   "execution_count": 28,
   "id": "a0f0dab4",
   "metadata": {},
   "outputs": [],
   "source": [
    "fbfill = unitwt_bfill*fdn['heel']*fdn['wid']*h\n",
    "la_filltoe = fdn['len']-fdn['heel']/2\n",
    "B7 = pd.DataFrame({'Force(KN)':fbfill, 'Lever arm(m)':la_filltoe,'Moment(KNm)':fbfill*la_filltoe}, index = ['Backfill load'])\n",
    "# display(B7)"
   ]
  },
  {
   "cell_type": "markdown",
   "id": "1b1e0b98",
   "metadata": {},
   "source": [
    "Seismic Forces"
   ]
  },
  {
   "cell_type": "code",
   "execution_count": 29,
   "id": "9558a427",
   "metadata": {},
   "outputs": [],
   "source": [
    "la_abutses = [-cg('rectangle',[abut['stem_width'],abut['stem_ht']],[fdn['toe']+abut['be_taperwidth'],fdn['th']])[1],\n",
    "             -cg('triangle_2',[abut['be_taperwidth'],abut['stem_ht']],[fdn['toe'],fdn['th']])[1],\n",
    "             -cg('rectangle',[abut['cap_width'],abut['cap']],[fdn['toe']+abut['be_taperwidth'],abut['stem_ht']+fdn['th']])[1],\n",
    "             -cg('rectangle',[abut['bw_width'],abut['backw_ht']],[fdn['toe']+abut['ttl_stembase_width']+abut['haunch']['stem_haunch'][0],abut['stem_ht']+abut['cap']+fdn['th']])[1],\n",
    "             -cg('triangle_1',[abut['haunch']['stem_haunch'][0],abut['haunch']['stem_haunch'][1]],[fdn['toe']+abut['ttl_stembase_width'],abut['stem_ht']-abut['haunch']['stem_haunch'][1]+fdn['th']])[1],\n",
    "             -cg('rectangle',[abut['haunch']['approach_slab_haunch_rec'][0],abut['haunch']['approach_slab_haunch_rec'][1]],[fdn['toe']+abut['cap_width'],abut['stem_ht']+abut['cap']+abut['backw_ht']-abut['haunch']['approach_slab_haunch_rec'][1]+fdn['th']])[1],\n",
    "             -cg('triangle_1',[abut['haunch']['approach_slab_haunch_tri'][0],abut['haunch']['approach_slab_haunch_tri'][1]],[fdn['toe']+abut['cap_width'],abut['stem_ht']+abut['cap']+abut['backw_ht']-abut['haunch']['approach_slab_haunch_rec'][1]+fdn['th']])[1]]\n",
    "mmt_toeses = []\n",
    "for index, i in enumerate(H_force):\n",
    "    mmt_toeses.append(round(H_force[index]*la_abutses[index],5))\n",
    "B8 = pd.DataFrame({\"Weight\":loads, 'Hz force(KN)':H_force,\"Lever arm\":la_abutses,\"Moment\":mmt_toeses},index = ['Stem(rectangle)','Stem(triangle)','Cap','Backwall','Stem haunch','Approach slab haunch(rec)','Approach slab haunch(tri)'])\n",
    "# display(A7)\n",
    "B8.loc[len(B8.index)] = [None, B8['Hz force(KN)'].sum(),None,B8['Moment'].sum()]\n",
    "B8 = B8.rename(index={7:'Total'})\n",
    "B8.loc[len(B8.index)] = [B1.iloc[8,0],B1.iloc[8,0]*ahh,-fdn['th']/2,-B1.iloc[8,0]*ahh*fdn['th']/2]\n",
    "B8 = B8.rename(index={8:'Foundation Pad'})\n",
    "# display(B8)"
   ]
  },
  {
   "cell_type": "markdown",
   "id": "ee416fee",
   "metadata": {},
   "source": [
    "Superstructure DL"
   ]
  },
  {
   "cell_type": "code",
   "execution_count": 30,
   "id": "819603b3",
   "metadata": {},
   "outputs": [],
   "source": [
    "B9 = pd.DataFrame({\"Weight\":dl, \"Hz Force(KN)\":dl*ahh, \"Lever arm\":-(abut['total_ht']-box['pillar_hei']/3-abut['wc']+fdn['th']),\"Moment\":-(dl*ahh)*(abut['total_ht']-box['pillar_hei']/3-abut['wc']+fdn['th'])}, index = ['Superstructure DL'])\n",
    "# display(B9)"
   ]
  },
  {
   "cell_type": "markdown",
   "id": "f52e3dd8",
   "metadata": {},
   "source": [
    "Earth Pressure"
   ]
  },
  {
   "cell_type": "code",
   "execution_count": 31,
   "id": "32f852f2",
   "metadata": {},
   "outputs": [],
   "source": [
    "ep_fdn = (C-k)*ht1*unitwt_bfill\n",
    "forc_ep = .5*ep_fdn*ht1*fdn['wid']\n",
    "la_eptoe = -0.66*ht1\n",
    "B10 = pd.DataFrame({\"Force(KN)\":forc_ep, \"Lever arm\":la_eptoe,\"Moment\":forc_ep*la_eptoe}, index = ['Seismic force due to backfill'])\n",
    "# display(B10)"
   ]
  },
  {
   "cell_type": "markdown",
   "id": "94b26fe9",
   "metadata": {},
   "source": [
    "Dynamic Surcharge"
   ]
  },
  {
   "cell_type": "code",
   "execution_count": 32,
   "id": "8551e79c",
   "metadata": {},
   "outputs": [],
   "source": [
    "B11 = pd.DataFrame({\"Force\":(unitwt_bfill*(C-k)*hl*fdn['wid']*abut['total_ht']),\"Lever arm\":la_eptoe,\"Moment\":((unitwt_bfill*(C-k)*hl*fdn['wid']*abut['total_ht'])*la_eptoe)},index = ['Dynamic Surcharge'])\n",
    "# display(B11)"
   ]
  },
  {
   "cell_type": "code",
   "execution_count": 33,
   "id": "55a216ad",
   "metadata": {},
   "outputs": [
    {
     "name": "stdout",
     "output_type": "stream",
     "text": [
      "[1416.1875, 3000, 1200, 250, 2649.375, 0, 0, 599.5226906888827, 0, 806.4000000000001, 0, 0, 4824.0, -5.3184000000000005, 0, 0, 0, 0, 0]\n"
     ]
    }
   ],
   "source": [
    "#inputs\n",
    "#Unfactored Forces and their moments\n",
    "\n",
    "ver_force = [B1.iloc[7,0],B2.iloc[0,0],B2.iloc[1,0],B2.iloc[2,0],B1.iloc[8,0],0,0,B3.iloc[2,0],0,B6.iloc[1,0],0,0,B7.iloc[0,0],B4.iloc[1,0],0,0,0,0,0]\n",
    "h_forc = [0,0,0,0,0,0,B3.iloc[1,0],0,B6.iloc[0,0],0,B4.iloc[0,0],B5.iloc[0,0],0,0,B8.iloc[7,1],B8.iloc[8,1],B9.iloc[0,1],B10.iloc[0,0],B11.iloc[0,0]]\n",
    "unf_moment_res = [B1.iloc[7,2],B2.iloc[0,2],B2.iloc[1,2],B2.iloc[2,2],B1.iloc[8,2],0,0,B3.iloc[2,2],0,B6.iloc[1,2],0,0,B7.iloc[0,2],0,0,0,0,0,0]\n",
    "unf_moment_over = [0,0,0,0,0,0,B3.iloc[1,2],0,B6.iloc[0,2],0,B4.iloc[0,2],B5.iloc[0,2],0,B4.iloc[1,2],B8.iloc[7,3],B8.iloc[8,3],B9.iloc[0,3],B10.iloc[0,2],B11.iloc[0,2]]\n",
    "fr_coeff = 0.65\n",
    "print(ver_force)\n",
    "##Safety Factors (Basic)\n",
    "\n",
    "bas_R = [0.9,0.9,0,1,0.9,1,0,1,0,0,0,0,0.9,0,0,0,0,0,0]\n",
    "bas_O = [1.1,1.1,1.5,1.35,1.1,1.5,0,1.5,1.2,1.2,1.15,1.5,1.1,1.15,0,0,0,0,0]\n",
    "\n",
    "##Safety Factors (Seismic)\n",
    "\n",
    "ses_R = [0.9,0.9,0,1,0.9,0,1,1,0,0,0,0,0.9,0,0,0,0,0,0]\n",
    "ses_O = [1.1,1.1,0,1.35,1.1,0,1,1,0,0,0.2,0,1.1,0.2,1.5,1.5,1.5,1.5,1.5]"
   ]
  },
  {
   "cell_type": "code",
   "execution_count": 34,
   "id": "22308878",
   "metadata": {
    "scrolled": true
   },
   "outputs": [],
   "source": [
    "#Factored Responses (Basic)\n",
    "bas_force_ver = []\n",
    "bas_force_hz = []\n",
    "bas_momentR = []\n",
    "bas_momentO = []\n",
    "for index, i in enumerate(ver_force):\n",
    "     bas_force_ver.append(round(ver_force[index]*bas_R[index],5))\n",
    "     bas_momentR.append(round(unf_moment_res[index]*bas_R[index],5))\n",
    "bas_force_ver[13] = ver_force[13]*bas_O[13]\n",
    "for index, i in enumerate(h_forc):\n",
    "    bas_force_hz.append(round(h_forc[index]*bas_O[index],5))\n",
    "    bas_momentO.append(round(unf_moment_over[index]*bas_O[index],5))\n",
    "B12 = pd.DataFrame({\"Vertical Forces\":bas_force_ver, 'Horizontal forces':bas_force_hz,'Resisting Moment':bas_momentR,'Overturning moment':bas_momentO},index = ['Abutment self','SS DL','SS Live load','Surface DL','Foundation','Earth Hz (dry)','Earth Hz (wet)','Earth ver','Live load Surcharge(HZ)','Live load surcharge(Ver)','Braking','Temperature','Backfill','Braking uplift','SS DL(seismic)','Seismic Foundation','Abutment DL(seismic)','Earth p (seismic)','Dyn surcharge(Seismic)'])\n",
    "B12.loc[len(B12.index)] = [B12['Vertical Forces'].sum(), B12['Horizontal forces'].sum(),B12['Resisting Moment'].sum(),B12['Overturning moment'].sum()]\n",
    "# display(B12.rename(index={19:'Total'}))\n",
    "\n",
    "#Factored Responses (Seismic)\n",
    "ses_force_ver = []\n",
    "ses_force_hz = []\n",
    "ses_momentR = []\n",
    "ses_momentO = []\n",
    "for index, i in enumerate(ver_force):\n",
    "    ses_force_ver.append(round(ver_force[index]*ses_R[index],5))\n",
    "    ses_momentR.append(round(unf_moment_res[index]*ses_R[index],5))\n",
    "ses_force_ver[13] = ver_force[13]*ses_O[13]\n",
    "for index, i in enumerate(h_forc):\n",
    "    ses_force_hz.append(round(h_forc[index]*ses_O[index],5))\n",
    "    ses_momentO.append(round(unf_moment_over[index]*ses_O[index],5))\n",
    "B13 = pd.DataFrame({\"Vertical Forces\":ses_force_ver, 'Horizontal forces':ses_force_hz,'Resisting Moment':ses_momentR,'Overturning moment':ses_momentO},index = ['Abutment self','SS DL','SS Live load','Surface DL','Foundation','Earth Hz (dry)','Earth Hz (wet)','Earth ver','Live load Surcharge(HZ)','Live load surcharge(Ver)','Braking','Temperature','Backfill','Braking uplift','SS DL(seismic)','Seismic Foundation','Abutment DL(seismic)','Earth p (seismic)','Dyn surcharge(Seismic)'])\n",
    "B13.loc[len(B13.index)] = [B13['Vertical Forces'].sum(), B13['Horizontal forces'].sum(),B13['Resisting Moment'].sum(),B13['Overturning moment'].sum()]\n",
    "# display(B13.rename(index={19:'Total'}))\n",
    "\n",
    "#Overturning and sliding check\n",
    "fact_basic = [B12.iloc[19,2]/-(B12.iloc[19,3]), (fr_coeff*B12.iloc[19,0])/B12.iloc[19,1]]\n",
    "fact_ses = [B13.iloc[19,2]/-(B13.iloc[19,3]), (fr_coeff*B13.iloc[19,0])/B13.iloc[19,1]]\n",
    "F = pd.DataFrame({\"Basic\":fact_basic, \"Seismic\":fact_ses}, index = ['Overturning','Sliding'])\n",
    "# display(F)"
   ]
  },
  {
   "cell_type": "markdown",
   "id": "975685de",
   "metadata": {},
   "source": [
    "Bearing Pressure foundation"
   ]
  },
  {
   "cell_type": "code",
   "execution_count": 35,
   "id": "5e0f3147",
   "metadata": {},
   "outputs": [],
   "source": [
    "#Inputs\n",
    "ex = -fdn['len']/2\n",
    "ey = 0\n",
    "c1 = [1,1,1,1,1,1,0,1,1,1,1,1,1,1,0,0,0,0,0]\n",
    "c2 = [1,1,1,1,1,0,1,1,1,1,1,1,1,1,1,1,1,1,1]\n",
    "c3 = [1,1,0,1,1,0,1,1,0,0,0,1,1,0,1,1,1,1,0]"
   ]
  },
  {
   "cell_type": "code",
   "execution_count": 36,
   "id": "0118111c",
   "metadata": {},
   "outputs": [
    {
     "name": "stdout",
     "output_type": "stream",
     "text": [
      "19\n"
     ]
    }
   ],
   "source": [
    "print(len(unf_moment_over))\n",
    "tot_unf_M = []\n",
    "for i,j in zip(unf_moment_res,unf_moment_over):\n",
    "    if i != 0:\n",
    "        tot_unf_M.append(i)\n",
    "    elif j!=0:\n",
    "        tot_unf_M.append(j)\n",
    "tot_unf_M.insert(5,0)\n",
    "# print(tot_unf_M)\n",
    "\n",
    "C1 = pd.DataFrame({\"Vertical Forces\":ver_force, 'Horizontal forces':h_forc,'Moment':tot_unf_M},index = ['Abutment self','SS DL','SS Live load','Surface DL','Foundation','Earth Hz (dry)','Earth Hz (wet)','Earth ver','Live load surcharge (Hz)','Live load surcharge(Ver)','Braking','Temperature','Backfill','Braking uplift','SS DL(seismic)','Seismic Foundation','Abutment DL(seismic)','Earth p (seismic)','Dyn surcharge(Seismic)'])\n",
    "C1.loc[len(C1.index)] = [C1['Vertical Forces'].sum(), C1['Horizontal forces'].sum(),C1['Moment'].sum()]\n",
    "# display(C1.rename(index={19:'Total'}))\n",
    "\n"
   ]
  },
  {
   "cell_type": "code",
   "execution_count": 37,
   "id": "a0bfe7e3",
   "metadata": {},
   "outputs": [],
   "source": [
    "new_M = []\n",
    "for i,j,k in zip(tot_unf_M,ver_force,h_forc):\n",
    "    new_M.append(i+j*ex+k+ey)\n",
    "# print(new_M)\n",
    "C2 = pd.DataFrame({\"Vertical Forces\":ver_force, 'Horizontal forces':h_forc,'Moment':new_M},index = ['Abutment self','SS DL','SS Live load','Surface DL','Foundation','Earth Hz (dry)','Earth Hz (wet)','Earth ver','Live load surcharge (Hz)','Live load surcharge(Ver)','Braking','Temperature','Backfill','Braking uplift','SS DL(seismic)','Seismic Foundation','Abutment DL(seismic)','Earth p (seismic)','Dyn surcharge(Seismic)'])\n",
    "# display(C2)\n"
   ]
  },
  {
   "cell_type": "code",
   "execution_count": 38,
   "id": "81f5a1aa",
   "metadata": {},
   "outputs": [],
   "source": [
    "# combination 1\n",
    "c1_verf = []\n",
    "c1_hzf = []\n",
    "c1_mom = []\n",
    "for index, i in enumerate(c1):\n",
    "    c1_verf.append(round(c1[index]*ver_force[index],5))\n",
    "    c1_hzf.append(round(c1[index]*h_forc[index],5))\n",
    "    c1_mom.append(round(c1[index]*new_M[index],5))\n",
    "C3 = pd.DataFrame({\"Vertical Forces\":c1_verf, 'Horizontal forces':c1_hzf,'Moment':c1_mom},index = ['Abutment self','SS DL','SS Live load','Surface DL','Foundation','Earth Hz (dry)','Earth Hz (wet)','Earth ver','Live load surcharge (Hz)','Live load surcharge(Ver)','Braking','Temperature','Backfill','Braking uplift','SS DL(seismic)','Seismic Foundation','Abutment DL(seismic)','Earth p (seismic)','Dyn surcharge(Seismic)'])\n",
    "C3.loc[len(C3.index)] = [C3['Vertical Forces'].sum(), C3['Horizontal forces'].sum(),C3['Moment'].sum()]\n",
    "# display(C3.rename(index={19:'Total'}))\n",
    "\n",
    "#Combination 2\n",
    "c2_verf = []\n",
    "c2_hzf = []\n",
    "c2_mom = []\n",
    "for index, i in enumerate(c1):\n",
    "    c2_verf.append(round(c2[index]*ver_force[index],5))\n",
    "    c2_hzf.append(round(c2[index]*h_forc[index],5))\n",
    "    c2_mom.append(round(c2[index]*new_M[index],5))\n",
    "C4 = pd.DataFrame({\"Vertical Forces\":c2_verf, 'Horizontal forces':c2_hzf,'Moment':c2_mom},index = ['Abutment self','SS DL','SS Live load','Surface DL','Foundation','Earth Hz (dry)','Earth Hz (wet)','Earth ver','Live load surcharge (Hz)','Live load surcharge(Ver)','Braking','Temperature','Backfill','Braking uplift','SS DL(seismic)','Seismic Foundation','Abutment DL(seismic)','Earth p (seismic)','Dyn surcharge(Seismic)'])\n",
    "C4.loc[len(C4.index)] = [C4['Vertical Forces'].sum(), C4['Horizontal forces'].sum(),C4['Moment'].sum()]\n",
    "# display(C4.rename(index={19:'Total'}))\n",
    "\n",
    "#Combination 3\n",
    "c3_verf = []\n",
    "c3_hzf = []\n",
    "c3_mom = []\n",
    "for index, i in enumerate(c1):\n",
    "    c3_verf.append(round(c3[index]*ver_force[index],5))\n",
    "    c3_hzf.append(round(c3[index]*h_forc[index],5))\n",
    "    c3_mom.append(round(c3[index]*new_M[index],5))\n",
    "C5 = pd.DataFrame({\"Vertical Forces\":c3_verf, 'Horizontal forces':c3_hzf,'Moment':c3_mom},index = ['Abutment self','SS DL','SS Live load','Surface DL','Foundation','Earth Hz (dry)','Earth Hz (wet)','Earth ver','Live load surcharge (Hz)','Live load surcharge(Ver)','Braking','Temperature','Backfill','Braking uplift','SS DL(seismic)','Seismic Foundation','Abutment DL(seismic)','Earth p (seismic)','Dyn surcharge(Seismic)'])\n",
    "C5.loc[len(C5.index)] = [C5['Vertical Forces'].sum(), C5['Horizontal forces'].sum(),C5['Moment'].sum()]\n",
    "# display(C5.rename(index={19:'Total'}))\n"
   ]
  },
  {
   "cell_type": "markdown",
   "id": "a81abfcf",
   "metadata": {},
   "source": [
    "***Design of abutment stem***"
   ]
  },
  {
   "cell_type": "code",
   "execution_count": 39,
   "id": "0ed4dc0f",
   "metadata": {},
   "outputs": [
    {
     "name": "stdout",
     "output_type": "stream",
     "text": [
      "The member is designed for pure flexure.\n"
     ]
    }
   ],
   "source": [
    "axf_c = 0.446*fck*abut['ttl_stembase_width']*abut['width_of_abut']*0.1*1000\n",
    "res = [A10.iloc[14,0],A11.iloc[14,0]]\n",
    "des_mom = [A10.iloc[14,2],A11.iloc[14,2]]\n",
    "if axf_c > max(res):\n",
    "    print(\"The member is designed for pure flexure.\")"
   ]
  },
  {
   "cell_type": "markdown",
   "id": "f7015b70",
   "metadata": {},
   "source": [
    "Calculation of limiting values"
   ]
  },
  {
   "cell_type": "code",
   "execution_count": 40,
   "id": "0b389f10",
   "metadata": {},
   "outputs": [],
   "source": [
    "#Inputs\n",
    "\n",
    "Ecu = 0.0035 #Limiting strain in concrete.\n",
    "Es = 0.87*fy/E\n",
    "ce = 101 #Effective cover in mm.\n",
    "d = (abut['ttl_stembase_width']*1000) - ce #Effective depth of beam.\n",
    "beta1 = 0.80952\n",
    "beta2 = 0.416\n",
    "fyd = fy/1.15\n",
    "fctm = 0.259*pow(fck,2/3)\n",
    "dia = 20 #Diameter of reinforcement bars in mm."
   ]
  },
  {
   "cell_type": "code",
   "execution_count": 41,
   "id": "3efba183",
   "metadata": {},
   "outputs": [
    {
     "name": "stdout",
     "output_type": "stream",
     "text": [
      "65077.92501112695\n"
     ]
    }
   ],
   "source": [
    "xu_lim = (Ecu*d)/(Ecu+Es) #Limiting depth of neutral axis in mm\n",
    "cg_steel = d-0.416*xu_lim #CG from level of steel in mm.\n",
    "comp_force = (0.446*fck*beta1*(1000*abut['width_of_abut'])*xu_lim)/1000 \n",
    "mu_lim = (comp_force*cg_steel)/1000\n",
    "print(mu_lim)"
   ]
  },
  {
   "cell_type": "markdown",
   "id": "107a7d88",
   "metadata": {},
   "source": [
    "Calculation of Moment of resistance of section"
   ]
  },
  {
   "cell_type": "code",
   "execution_count": 42,
   "id": "9fe49d3c",
   "metadata": {
    "scrolled": true
   },
   "outputs": [
    {
     "name": "stdout",
     "output_type": "stream",
     "text": [
      "Enter a trial value of depth of NA:150\n"
     ]
    }
   ],
   "source": [
    "xu = int(input(\"Enter a trial value of depth of NA:\"))\n",
    "cgs = d-0.416*xu\n",
    "compf = (0.446*fck*beta1*(1000*abut['width_of_abut'])*xu)/1000 \n",
    "mor = (cgs*compf)/1000\n",
    "x = na(xu,cgs,compf,max(des_mom))\n",
    "# print(x)"
   ]
  },
  {
   "cell_type": "markdown",
   "id": "4b7143cf",
   "metadata": {},
   "source": [
    "Calculation of steel required"
   ]
  },
  {
   "cell_type": "code",
   "execution_count": 43,
   "id": "bbe6805c",
   "metadata": {},
   "outputs": [
    {
     "name": "stdout",
     "output_type": "stream",
     "text": [
      "OK\n"
     ]
    }
   ],
   "source": [
    "steel_req = (compf*1000)/fyd #Area of reinforcements required in mm^2.\n",
    "\n",
    "#Minimum steel required\n",
    "ast_minr = round(0.26*fctm/fy,5) if 0.26*fctm/fy>0.0013 else 0.0013\n",
    "ast_min = ast_minr*abut['width_of_abut']*d\n",
    "Check1 = \"OK\" if steel_req>=ast_min else \"Not OK\"\n",
    "if Check1 == \"Not OK\":\n",
    "    x = na(xu,cgs,compf,max(des_mom))\n",
    "\n",
    "#Maximum steel required\n",
    "ast_max = 0.025*(abut['width_of_abut']*abut['ttl_stembase_width'])*pow(10,6)\n",
    "Check2 = \"OK\" if steel_req<=ast_max else \"Not OK\"\n",
    "if Check2 == \"Not OK\":\n",
    "    x = na(xu,cgs,compf,max(des_mom))\n",
    "print(Check2)"
   ]
  },
  {
   "cell_type": "code",
   "execution_count": 44,
   "id": "ff459318",
   "metadata": {},
   "outputs": [
    {
     "name": "stdout",
     "output_type": "stream",
     "text": [
      "Enter lower value of spacing:75\n",
      "75\n",
      "OK\n"
     ]
    }
   ],
   "source": [
    "area_bar = math.pi * pow(dia,2)/4\n",
    "spacing = 120\n",
    "ast_pro = area_bar*abut['width_of_abut']*1000/spacing\n",
    "while ast_pro<=steel_req:\n",
    "    spacing = int(input(\"Enter lower value of spacing:\"))\n",
    "    ast_pro = area_bar*abut['width_of_abut']*1000/spacing\n",
    "print(spacing)\n",
    "print(\"OK\")"
   ]
  },
  {
   "cell_type": "markdown",
   "id": "e90c0823",
   "metadata": {},
   "source": [
    "Shear Check"
   ]
  },
  {
   "cell_type": "code",
   "execution_count": 45,
   "id": "7a37908f",
   "metadata": {},
   "outputs": [
    {
     "name": "stdout",
     "output_type": "stream",
     "text": [
      "0.0033537151359378636\n",
      "4468.181072166789 4432.358380000001\n",
      "OK\n"
     ]
    }
   ],
   "source": [
    "v_min = min(res)*1000\n",
    "ac = abut['width_of_abut']*1000*d\n",
    "sigma_c = v_min/ac\n",
    "k = 1+ pow(200/d,.5) if (1+ pow(200/d,.5))<=2 else 2\n",
    "row_1 = ast_pro/(abut['width_of_abut']*1000*d)\n",
    "print(row_1)\n",
    "t_min = 0.031*pow(k,1.5)*pow(fck,0.5)\n",
    "vrdc_min = (t_min + 0.15*sigma_c)*abut['width_of_abut']*1000*d/1000\n",
    "if (0.12*k*pow(80*row_1*fck,0.33)+0.15*sigma_c)*abut['width_of_abut']*1000*d/1000>=vrdc_min:\n",
    "    vrdc = (0.12*k*pow(80*row_1*fck,0.33)+0.15*sigma_c)*abut['width_of_abut']*1000*d/1000\n",
    "else:\n",
    "    vrdc = vrdc_min\n",
    "    \n",
    "#Check\n",
    "shear_f = max([A10.iloc[14,1],A11.iloc[14,1]])\n",
    "print(vrdc,shear_f)\n",
    "if vrdc >= shear_f:\n",
    "    print(\"OK\")\n",
    "else:\n",
    "    print(\"Not OK\")"
   ]
  },
  {
   "cell_type": "markdown",
   "id": "d837f34f",
   "metadata": {},
   "source": [
    "Calculation of Crack Width"
   ]
  },
  {
   "cell_type": "code",
   "execution_count": 46,
   "id": "07ecb845",
   "metadata": {},
   "outputs": [
    {
     "data": {
      "text/html": [
       "<div>\n",
       "<style scoped>\n",
       "    .dataframe tbody tr th:only-of-type {\n",
       "        vertical-align: middle;\n",
       "    }\n",
       "\n",
       "    .dataframe tbody tr th {\n",
       "        vertical-align: top;\n",
       "    }\n",
       "\n",
       "    .dataframe thead th {\n",
       "        text-align: right;\n",
       "    }\n",
       "</style>\n",
       "<table border=\"1\" class=\"dataframe\">\n",
       "  <thead>\n",
       "    <tr style=\"text-align: right;\">\n",
       "      <th></th>\n",
       "      <th>Vertical Forces</th>\n",
       "      <th>Horizontal forces</th>\n",
       "      <th>Moment</th>\n",
       "    </tr>\n",
       "  </thead>\n",
       "  <tbody>\n",
       "    <tr>\n",
       "      <th>Abutment self</th>\n",
       "      <td>1416.18750</td>\n",
       "      <td>0.00000</td>\n",
       "      <td>-235.48456</td>\n",
       "    </tr>\n",
       "    <tr>\n",
       "      <th>SS DL</th>\n",
       "      <td>3000.00000</td>\n",
       "      <td>0.00000</td>\n",
       "      <td>75.00000</td>\n",
       "    </tr>\n",
       "    <tr>\n",
       "      <th>SS Live load</th>\n",
       "      <td>1200.00000</td>\n",
       "      <td>0.00000</td>\n",
       "      <td>30.00000</td>\n",
       "    </tr>\n",
       "    <tr>\n",
       "      <th>Surface DL</th>\n",
       "      <td>300.00000</td>\n",
       "      <td>0.00000</td>\n",
       "      <td>7.50000</td>\n",
       "    </tr>\n",
       "    <tr>\n",
       "      <th>Earth Hz (dry)</th>\n",
       "      <td>0.00000</td>\n",
       "      <td>924.60182</td>\n",
       "      <td>2601.82953</td>\n",
       "    </tr>\n",
       "    <tr>\n",
       "      <th>Earth Hz (wet)</th>\n",
       "      <td>0.00000</td>\n",
       "      <td>0.00000</td>\n",
       "      <td>0.00000</td>\n",
       "    </tr>\n",
       "    <tr>\n",
       "      <th>Earth ver</th>\n",
       "      <td>373.56339</td>\n",
       "      <td>0.00000</td>\n",
       "      <td>-252.15528</td>\n",
       "    </tr>\n",
       "    <tr>\n",
       "      <th>Live load Surcharge</th>\n",
       "      <td>0.00000</td>\n",
       "      <td>285.76913</td>\n",
       "      <td>666.79463</td>\n",
       "    </tr>\n",
       "    <tr>\n",
       "      <th>Braking</th>\n",
       "      <td>0.00000</td>\n",
       "      <td>166.20000</td>\n",
       "      <td>1362.84000</td>\n",
       "    </tr>\n",
       "    <tr>\n",
       "      <th>Temperature</th>\n",
       "      <td>0.00000</td>\n",
       "      <td>192.11917</td>\n",
       "      <td>859.73327</td>\n",
       "    </tr>\n",
       "    <tr>\n",
       "      <th>SS DL(seismic)</th>\n",
       "      <td>0.00000</td>\n",
       "      <td>0.00000</td>\n",
       "      <td>0.00000</td>\n",
       "    </tr>\n",
       "    <tr>\n",
       "      <th>Abutment DL(seismic)</th>\n",
       "      <td>0.00000</td>\n",
       "      <td>0.00000</td>\n",
       "      <td>0.00000</td>\n",
       "    </tr>\n",
       "    <tr>\n",
       "      <th>Earth p (seismic)</th>\n",
       "      <td>0.00000</td>\n",
       "      <td>0.00000</td>\n",
       "      <td>0.00000</td>\n",
       "    </tr>\n",
       "    <tr>\n",
       "      <th>Dyn surcharge(Seismic)</th>\n",
       "      <td>0.00000</td>\n",
       "      <td>0.00000</td>\n",
       "      <td>0.00000</td>\n",
       "    </tr>\n",
       "    <tr>\n",
       "      <th>Total</th>\n",
       "      <td>6289.75089</td>\n",
       "      <td>1568.69012</td>\n",
       "      <td>5116.05759</td>\n",
       "    </tr>\n",
       "  </tbody>\n",
       "</table>\n",
       "</div>"
      ],
      "text/plain": [
       "                        Vertical Forces  Horizontal forces      Moment\n",
       "Abutment self                1416.18750            0.00000  -235.48456\n",
       "SS DL                        3000.00000            0.00000    75.00000\n",
       "SS Live load                 1200.00000            0.00000    30.00000\n",
       "Surface DL                    300.00000            0.00000     7.50000\n",
       "Earth Hz (dry)                  0.00000          924.60182  2601.82953\n",
       "Earth Hz (wet)                  0.00000            0.00000     0.00000\n",
       "Earth ver                     373.56339            0.00000  -252.15528\n",
       "Live load Surcharge             0.00000          285.76913   666.79463\n",
       "Braking                         0.00000          166.20000  1362.84000\n",
       "Temperature                     0.00000          192.11917   859.73327\n",
       "SS DL(seismic)                  0.00000            0.00000     0.00000\n",
       "Abutment DL(seismic)            0.00000            0.00000     0.00000\n",
       "Earth p (seismic)               0.00000            0.00000     0.00000\n",
       "Dyn surcharge(Seismic)          0.00000            0.00000     0.00000\n",
       "Total                        6289.75089         1568.69012  5116.05759"
      ]
     },
     "metadata": {},
     "output_type": "display_data"
    },
    {
     "data": {
      "text/html": [
       "<div>\n",
       "<style scoped>\n",
       "    .dataframe tbody tr th:only-of-type {\n",
       "        vertical-align: middle;\n",
       "    }\n",
       "\n",
       "    .dataframe tbody tr th {\n",
       "        vertical-align: top;\n",
       "    }\n",
       "\n",
       "    .dataframe thead th {\n",
       "        text-align: right;\n",
       "    }\n",
       "</style>\n",
       "<table border=\"1\" class=\"dataframe\">\n",
       "  <thead>\n",
       "    <tr style=\"text-align: right;\">\n",
       "      <th></th>\n",
       "      <th>Vertical Forces</th>\n",
       "      <th>Horizontal forces</th>\n",
       "      <th>Moment</th>\n",
       "    </tr>\n",
       "  </thead>\n",
       "  <tbody>\n",
       "    <tr>\n",
       "      <th>Abutment self</th>\n",
       "      <td>1416.18750</td>\n",
       "      <td>0.00000</td>\n",
       "      <td>-235.48456</td>\n",
       "    </tr>\n",
       "    <tr>\n",
       "      <th>SS DL</th>\n",
       "      <td>3000.00000</td>\n",
       "      <td>0.00000</td>\n",
       "      <td>75.00000</td>\n",
       "    </tr>\n",
       "    <tr>\n",
       "      <th>SS Live load</th>\n",
       "      <td>900.00000</td>\n",
       "      <td>0.00000</td>\n",
       "      <td>22.50000</td>\n",
       "    </tr>\n",
       "    <tr>\n",
       "      <th>Surface DL</th>\n",
       "      <td>300.00000</td>\n",
       "      <td>0.00000</td>\n",
       "      <td>7.50000</td>\n",
       "    </tr>\n",
       "    <tr>\n",
       "      <th>Earth Hz (dry)</th>\n",
       "      <td>0.00000</td>\n",
       "      <td>924.60182</td>\n",
       "      <td>2601.82953</td>\n",
       "    </tr>\n",
       "    <tr>\n",
       "      <th>Earth Hz (wet)</th>\n",
       "      <td>0.00000</td>\n",
       "      <td>0.00000</td>\n",
       "      <td>0.00000</td>\n",
       "    </tr>\n",
       "    <tr>\n",
       "      <th>Earth ver</th>\n",
       "      <td>373.56339</td>\n",
       "      <td>0.00000</td>\n",
       "      <td>-252.15528</td>\n",
       "    </tr>\n",
       "    <tr>\n",
       "      <th>Live load Surcharge</th>\n",
       "      <td>0.00000</td>\n",
       "      <td>0.00000</td>\n",
       "      <td>0.00000</td>\n",
       "    </tr>\n",
       "    <tr>\n",
       "      <th>Braking</th>\n",
       "      <td>0.00000</td>\n",
       "      <td>44.32000</td>\n",
       "      <td>363.42400</td>\n",
       "    </tr>\n",
       "    <tr>\n",
       "      <th>Temperature</th>\n",
       "      <td>0.00000</td>\n",
       "      <td>160.09931</td>\n",
       "      <td>716.44439</td>\n",
       "    </tr>\n",
       "    <tr>\n",
       "      <th>SS DL(seismic)</th>\n",
       "      <td>0.00000</td>\n",
       "      <td>0.00000</td>\n",
       "      <td>0.00000</td>\n",
       "    </tr>\n",
       "    <tr>\n",
       "      <th>Abutment DL(seismic)</th>\n",
       "      <td>0.00000</td>\n",
       "      <td>0.00000</td>\n",
       "      <td>0.00000</td>\n",
       "    </tr>\n",
       "    <tr>\n",
       "      <th>Earth p (seismic)</th>\n",
       "      <td>0.00000</td>\n",
       "      <td>0.00000</td>\n",
       "      <td>0.00000</td>\n",
       "    </tr>\n",
       "    <tr>\n",
       "      <th>Dyn surcharge(Seismic)</th>\n",
       "      <td>0.00000</td>\n",
       "      <td>0.00000</td>\n",
       "      <td>0.00000</td>\n",
       "    </tr>\n",
       "    <tr>\n",
       "      <th>Total</th>\n",
       "      <td>5989.75089</td>\n",
       "      <td>1129.02113</td>\n",
       "      <td>3299.05808</td>\n",
       "    </tr>\n",
       "  </tbody>\n",
       "</table>\n",
       "</div>"
      ],
      "text/plain": [
       "                        Vertical Forces  Horizontal forces      Moment\n",
       "Abutment self                1416.18750            0.00000  -235.48456\n",
       "SS DL                        3000.00000            0.00000    75.00000\n",
       "SS Live load                  900.00000            0.00000    22.50000\n",
       "Surface DL                    300.00000            0.00000     7.50000\n",
       "Earth Hz (dry)                  0.00000          924.60182  2601.82953\n",
       "Earth Hz (wet)                  0.00000            0.00000     0.00000\n",
       "Earth ver                     373.56339            0.00000  -252.15528\n",
       "Live load Surcharge             0.00000            0.00000     0.00000\n",
       "Braking                         0.00000           44.32000   363.42400\n",
       "Temperature                     0.00000          160.09931   716.44439\n",
       "SS DL(seismic)                  0.00000            0.00000     0.00000\n",
       "Abutment DL(seismic)            0.00000            0.00000     0.00000\n",
       "Earth p (seismic)               0.00000            0.00000     0.00000\n",
       "Dyn surcharge(Seismic)          0.00000            0.00000     0.00000\n",
       "Total                        5989.75089         1129.02113  3299.05808"
      ]
     },
     "metadata": {},
     "output_type": "display_data"
    },
    {
     "data": {
      "text/html": [
       "<div>\n",
       "<style scoped>\n",
       "    .dataframe tbody tr th:only-of-type {\n",
       "        vertical-align: middle;\n",
       "    }\n",
       "\n",
       "    .dataframe tbody tr th {\n",
       "        vertical-align: top;\n",
       "    }\n",
       "\n",
       "    .dataframe thead th {\n",
       "        text-align: right;\n",
       "    }\n",
       "</style>\n",
       "<table border=\"1\" class=\"dataframe\">\n",
       "  <thead>\n",
       "    <tr style=\"text-align: right;\">\n",
       "      <th></th>\n",
       "      <th>Vertical Forces</th>\n",
       "      <th>Horizontal forces</th>\n",
       "      <th>Moment</th>\n",
       "    </tr>\n",
       "  </thead>\n",
       "  <tbody>\n",
       "    <tr>\n",
       "      <th>Abutment self</th>\n",
       "      <td>1416.18750</td>\n",
       "      <td>0.00000</td>\n",
       "      <td>-235.48456</td>\n",
       "    </tr>\n",
       "    <tr>\n",
       "      <th>SS DL</th>\n",
       "      <td>3000.00000</td>\n",
       "      <td>0.00000</td>\n",
       "      <td>75.00000</td>\n",
       "    </tr>\n",
       "    <tr>\n",
       "      <th>SS Live load</th>\n",
       "      <td>0.00000</td>\n",
       "      <td>0.00000</td>\n",
       "      <td>0.00000</td>\n",
       "    </tr>\n",
       "    <tr>\n",
       "      <th>Surface DL</th>\n",
       "      <td>300.00000</td>\n",
       "      <td>0.00000</td>\n",
       "      <td>7.50000</td>\n",
       "    </tr>\n",
       "    <tr>\n",
       "      <th>Earth Hz (dry)</th>\n",
       "      <td>0.00000</td>\n",
       "      <td>924.60182</td>\n",
       "      <td>2601.82953</td>\n",
       "    </tr>\n",
       "    <tr>\n",
       "      <th>Earth Hz (wet)</th>\n",
       "      <td>0.00000</td>\n",
       "      <td>0.00000</td>\n",
       "      <td>0.00000</td>\n",
       "    </tr>\n",
       "    <tr>\n",
       "      <th>Earth ver</th>\n",
       "      <td>373.56339</td>\n",
       "      <td>0.00000</td>\n",
       "      <td>-252.15528</td>\n",
       "    </tr>\n",
       "    <tr>\n",
       "      <th>Live load Surcharge</th>\n",
       "      <td>0.00000</td>\n",
       "      <td>0.00000</td>\n",
       "      <td>0.00000</td>\n",
       "    </tr>\n",
       "    <tr>\n",
       "      <th>Braking</th>\n",
       "      <td>0.00000</td>\n",
       "      <td>0.00000</td>\n",
       "      <td>0.00000</td>\n",
       "    </tr>\n",
       "    <tr>\n",
       "      <th>Temperature</th>\n",
       "      <td>0.00000</td>\n",
       "      <td>160.09931</td>\n",
       "      <td>716.44439</td>\n",
       "    </tr>\n",
       "    <tr>\n",
       "      <th>SS DL(seismic)</th>\n",
       "      <td>0.00000</td>\n",
       "      <td>0.00000</td>\n",
       "      <td>0.00000</td>\n",
       "    </tr>\n",
       "    <tr>\n",
       "      <th>Abutment DL(seismic)</th>\n",
       "      <td>0.00000</td>\n",
       "      <td>0.00000</td>\n",
       "      <td>0.00000</td>\n",
       "    </tr>\n",
       "    <tr>\n",
       "      <th>Earth p (seismic)</th>\n",
       "      <td>0.00000</td>\n",
       "      <td>0.00000</td>\n",
       "      <td>0.00000</td>\n",
       "    </tr>\n",
       "    <tr>\n",
       "      <th>Dyn surcharge(Seismic)</th>\n",
       "      <td>0.00000</td>\n",
       "      <td>0.00000</td>\n",
       "      <td>0.00000</td>\n",
       "    </tr>\n",
       "    <tr>\n",
       "      <th>Total</th>\n",
       "      <td>5089.75089</td>\n",
       "      <td>1084.70113</td>\n",
       "      <td>2913.13408</td>\n",
       "    </tr>\n",
       "  </tbody>\n",
       "</table>\n",
       "</div>"
      ],
      "text/plain": [
       "                        Vertical Forces  Horizontal forces      Moment\n",
       "Abutment self                1416.18750            0.00000  -235.48456\n",
       "SS DL                        3000.00000            0.00000    75.00000\n",
       "SS Live load                    0.00000            0.00000     0.00000\n",
       "Surface DL                    300.00000            0.00000     7.50000\n",
       "Earth Hz (dry)                  0.00000          924.60182  2601.82953\n",
       "Earth Hz (wet)                  0.00000            0.00000     0.00000\n",
       "Earth ver                     373.56339            0.00000  -252.15528\n",
       "Live load Surcharge             0.00000            0.00000     0.00000\n",
       "Braking                         0.00000            0.00000     0.00000\n",
       "Temperature                     0.00000          160.09931   716.44439\n",
       "SS DL(seismic)                  0.00000            0.00000     0.00000\n",
       "Abutment DL(seismic)            0.00000            0.00000     0.00000\n",
       "Earth p (seismic)               0.00000            0.00000     0.00000\n",
       "Dyn surcharge(Seismic)          0.00000            0.00000     0.00000\n",
       "Total                        5089.75089         1084.70113  2913.13408"
      ]
     },
     "metadata": {},
     "output_type": "display_data"
    }
   ],
   "source": [
    "#Inputs\n",
    "hc_eff = min([2.5*(abut['ttl_stembase_width']-d), (abut['ttl_stembase_width']-xu)/3, abut['ttl_stembase_width']/2])\n",
    "ac_eff = abut['width_of_abut']*hc_eff\n",
    "k_t = 0.5\n",
    "f_cm = fck+10\n",
    "c = 75\n",
    "#Factors\n",
    "rare = [1,1,1,1.2,1,0,1,0.8,0.75,0.6,0,0,0,0]\n",
    "freq = [1,1,0.75,1.2,1,0,1,0,0.2,0.5,0,0,0,0]\n",
    "quasi = [1,1,0,1.2,1,0,1,0,0,0.5,0,0,0,0]\n",
    "\n",
    "# Rare combination\n",
    "v_rare = []\n",
    "hz_rare = []\n",
    "mom_rare = []\n",
    "for index,i in enumerate(rare):\n",
    "    v_rare.append(round(rare[index]*force_ver[index],5))\n",
    "    hz_rare.append(round(rare[index]*force_hz[index],5))\n",
    "    mom_rare.append(round(rare[index]*moment_unf[index],5))\n",
    "W1 = pd.DataFrame({\"Vertical Forces\":v_rare, 'Horizontal forces':hz_rare,\"Moment\":mom_rare},index = ['Abutment self','SS DL','SS Live load','Surface DL','Earth Hz (dry)','Earth Hz (wet)','Earth ver','Live load Surcharge','Braking','Temperature','SS DL(seismic)','Abutment DL(seismic)','Earth p (seismic)','Dyn surcharge(Seismic)'])\n",
    "W1.loc[len(W1.index)] = [W1['Vertical Forces'].sum(), W1['Horizontal forces'].sum(), W1['Moment'].sum()]\n",
    "display(W1.rename(index={14:'Total'}))\n",
    "\n",
    "# Frequent combination\n",
    "v_freq = []\n",
    "hz_freq = []\n",
    "mom_freq = []\n",
    "for index,i in enumerate(freq):\n",
    "    v_freq.append(round(freq[index]*force_ver[index],5))\n",
    "    hz_freq.append(round(freq[index]*force_hz[index],5))\n",
    "    mom_freq.append(round(freq[index]*moment_unf[index],5))\n",
    "W2 = pd.DataFrame({\"Vertical Forces\":v_freq, 'Horizontal forces':hz_freq,\"Moment\":mom_freq},index = ['Abutment self','SS DL','SS Live load','Surface DL','Earth Hz (dry)','Earth Hz (wet)','Earth ver','Live load Surcharge','Braking','Temperature','SS DL(seismic)','Abutment DL(seismic)','Earth p (seismic)','Dyn surcharge(Seismic)'])\n",
    "W2.loc[len(W2.index)] = [W2['Vertical Forces'].sum(), W2['Horizontal forces'].sum(), W2['Moment'].sum()]\n",
    "display(W2.rename(index={14:'Total'}))\n",
    "\n",
    "# Quasi-permanent combination\n",
    "v_quasi = []\n",
    "hz_quasi = []\n",
    "mom_quasi = []\n",
    "for index,i in enumerate(quasi):\n",
    "    v_quasi.append(round(quasi[index]*force_ver[index],5))\n",
    "    hz_quasi.append(round(quasi[index]*force_hz[index],5))\n",
    "    mom_quasi.append(round(quasi[index]*moment_unf[index],5))\n",
    "W3 = pd.DataFrame({\"Vertical Forces\":v_quasi, 'Horizontal forces':hz_quasi,\"Moment\":mom_quasi},index = ['Abutment self','SS DL','SS Live load','Surface DL','Earth Hz (dry)','Earth Hz (wet)','Earth ver','Live load Surcharge','Braking','Temperature','SS DL(seismic)','Abutment DL(seismic)','Earth p (seismic)','Dyn surcharge(Seismic)'])\n",
    "W3.loc[len(W3.index)] = [W3['Vertical Forces'].sum(), W3['Horizontal forces'].sum(), W3['Moment'].sum()]\n",
    "display(W3.rename(index={14:'Total'}))"
   ]
  },
  {
   "cell_type": "code",
   "execution_count": 47,
   "id": "eb6a98fc",
   "metadata": {},
   "outputs": [
    {
     "name": "stdout",
     "output_type": "stream",
     "text": [
      "OK\n"
     ]
    }
   ],
   "source": [
    "bm_crack = min([W1.iloc[14,2],W2.iloc[14,2],W3.iloc[14,2]])\n",
    "stress_act = (bm_crack*pow(10,6))/(ast_pro*cgs)\n",
    "fct_eff = 0.259*pow(fck,2/3)\n",
    "e_cm = 22*pow(f_cm/12.5,0.3)*1000\n",
    "ro1_eff = ast_pro/ac_eff\n",
    "alp_e = E/e_cm\n",
    "if (stress_act-(k_t*fct_eff*(1+alp_e*ro1_eff))/ro1_eff)/E >= 0.6*stress_act/E:\n",
    "    diff_e = (stress_act-(k_t*fct_eff*(1+alp_e*ro1_eff))/ro1_eff)/E\n",
    "else:\n",
    "    diff_e = 0.6*stress_act/E\n",
    "sr_max = 3.4*c+(0.17*dia)/ro1_eff\n",
    "\n",
    "#Crack width in mm\n",
    "cr_wid = sr_max*diff_e\n",
    "#Check\n",
    "print(\"OK\") if cr_wid <= 0.3 else print(\"Not OK\")"
   ]
  },
  {
   "cell_type": "markdown",
   "id": "d7404c0f",
   "metadata": {},
   "source": [
    "Horizontal Reinforcements"
   ]
  },
  {
   "cell_type": "code",
   "execution_count": 50,
   "id": "4e7f975a",
   "metadata": {},
   "outputs": [
    {
     "name": "stdout",
     "output_type": "stream",
     "text": [
      "4188.790204786391\n",
      "Enter trial spacing:200\n",
      "Enter a trial diameter:16\n",
      "1005.3096491487338\n"
     ]
    }
   ],
   "source": [
    "check_ar = math.pi*(pow(dia,2)/4)*(1000/spacing)\n",
    "print(check_ar)\n",
    "ar_list = [0.25*check_ar, (0.001*1000*abut['ttl_stembase_width']*1000)/2]\n",
    "spacing_h = int(input(\"Enter trial spacing:\"))\n",
    "dia_h = int(input(\"Enter a trial diameter:\"))\n",
    "while (math.pi*pow(dia_h,2)/4*1000/(spacing))<=max(ar_list):\n",
    "    dia_h = int(input(\"Enter another trial value of diameter:\"))\n",
    "    spacing_h = int(input(\"Enter another trial value:\"))\n",
    "ast_hpro = math.pi*pow(dia_h,2)/4*(1000/(spacing_h))\n",
    "print(ast_hpro)   "
   ]
  },
  {
   "cell_type": "code",
   "execution_count": null,
   "id": "f4dff9bf",
   "metadata": {},
   "outputs": [],
   "source": []
  },
  {
   "cell_type": "code",
   "execution_count": null,
   "id": "5cc6854e",
   "metadata": {},
   "outputs": [],
   "source": []
  }
 ],
 "metadata": {
  "kernelspec": {
   "display_name": "Python 3 (ipykernel)",
   "language": "python",
   "name": "python3"
  },
  "language_info": {
   "codemirror_mode": {
    "name": "ipython",
    "version": 3
   },
   "file_extension": ".py",
   "mimetype": "text/x-python",
   "name": "python",
   "nbconvert_exporter": "python",
   "pygments_lexer": "ipython3",
   "version": "3.8.1"
  }
 },
 "nbformat": 4,
 "nbformat_minor": 5
}
