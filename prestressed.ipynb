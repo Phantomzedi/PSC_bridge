{
 "cells": [
  {
   "cell_type": "code",
   "execution_count": 1,
   "id": "ba6ea02b",
   "metadata": {},
   "outputs": [],
   "source": [
    "import pandas as pd\n",
    "import numpy as np\n",
    "import math\n",
    "\n",
    "import irc6_2007 as irc6\n",
    "\n",
    "from Cross import Cross_section,cables, expansion_calc\n",
    "from bridge_specs import box\n",
    "# from allinput import main_input"
   ]
  },
  {
   "cell_type": "code",
   "execution_count": 2,
   "id": "66adbd64",
   "metadata": {},
   "outputs": [],
   "source": [
    "import matplotlib.pyplot as plt"
   ]
  },
  {
   "cell_type": "code",
   "execution_count": 26,
   "id": "1bbea425",
   "metadata": {},
   "outputs": [],
   "source": [
    "df=pd.read_excel('data/span.xlsx',index_col=None,header=None)\n",
    "fck = 45 #input grade of concrete\n",
    "span = int(df.iloc[1,0])\n",
    "no = 9\n",
    "sc=[(j)/(no-1)*span for j in range(no)]"
   ]
  },
  {
   "cell_type": "markdown",
   "id": "a2abd748",
   "metadata": {},
   "source": [
    "***required:***\n",
    "1. list of sections with cable profile\n",
    "2. BM due to permanent dead load\n",
    "3. BM due to superimposed dead load (without surfacing)\n",
    "4. BM due to surfacing\n",
    "5. BM due to live load (max of all vehicle loads)"
   ]
  },
######################################################################################################################
  {
   "cell_type": "markdown",
   "id": "55798041",
   "metadata": {},
   "source": [
    "**defining sections**"
   ]
  },
  {
   "cell_type": "markdown",
   "id": "07f859e2",
   "metadata": {},
   "source": [
    "main section"
   ]
  },
  {
   "cell_type": "code",
   "execution_count": 27,
   "id": "ad0223ce",
   "metadata": {},
   "outputs": [],
   "source": [
    "\n",
    "\"\"\"INPUTS SECTION\"\"\"\n",
    "\n",
    "\"\"\"FOR CROSS SECTION\"\"\"\n",
    "length=[]\n",
    "height=[]\n",
    "\n",
    "\n",
    "#####################################################################################################################\n",
    "\n",
    "\"\"\"GUI INPUT OF BRIDGE SECTION LENGTHS AND HEIGHTS\"\"\"\n",
    "\n",
    "if False:\n",
    "    main_input()\n",
    "\n",
    "df=pd.read_excel('data/box.xlsx',index_col=None,header=None)\n",
    "\n",
    "\n",
    "height=df.values.tolist()[0]\n",
    "length=df.values.tolist()[1]\n",
    "\n",
    "\n",
    "section=Cross_section(length,height)\n",
    "cable_no = 18 #input no of cables\n",
    "cable = cables(fck,cable_no,section)"
   ]
  },
  {
   "cell_type": "markdown",
   "id": "bbbc76cd",
   "metadata": {},
   "source": [
    "Generating intermediate sections"
   ]
  },
###############################################################################################
  {
   "cell_type": "code",
   "execution_count": 28,
   "id": "f018f8bf",
   "metadata": {},
   "outputs": [],
   "source": [
    "sections = []\n",
    "for i in range(no):  \n",
    "    section1=Cross_section(length,height)\n",
    "    section1.expansion_width=expansion_calc(span,sc[i],cable)\n",
    "    section1.cableprop=cable.cablepos(sc[i],50)\n",
    "    sections.append(section1)"
   ]
  },
  {
   "cell_type": "code",
   "execution_count": 29,
   "id": "412cbfca",
   "metadata": {},
   "outputs": [],
   "source": [
    "# endsec = sections[0]\n",
    "# endsec.cable_prop\n",
    "\n",
    "# midsec = sections[4]\n",
    "# midsec.cable_prop, endsec.Centroid"
   ]
  },
  {
   "cell_type": "markdown",
   "id": "8a9f4db8",
   "metadata": {},
   "source": [
    "**Importing load**"
   ]
  },
  {
   "cell_type": "code",
   "execution_count": 31,
   "id": "d8dfa7ee",
   "metadata": {},
   "outputs": [],
   "source": [
    "df = pd.read_excel('outputs/Moments.xlsx', index_col=0)\n",
    "\n",
    "#bm multipied by distribution factor\n",
    "bm_pdl = np.array(df['Dead Load'])\n",
    "bm_odl = np.array(df['Other Loads'])\n",
    "bm_surf = np.array(df['Surface Loads'])\n",
    "bm_pedl = np.array(df['Pedestrian Load'])\n",
    "\n",
    "dfl = pd.read_excel('outputs/loads.xlsx', index_col=[0, 1]) #live load"
   ]
  },
  {
   "cell_type": "markdown",
   "id": "d3cd03e4",
   "metadata": {},
   "source": [
    "**live load calculation**"
   ]
  },
  {
   "cell_type": "markdown",
   "id": "e1aedefa",
   "metadata": {},
   "source": [
    "Impact factor"
   ]
  },
  {
   "cell_type": "code",
   "execution_count": 32,
   "id": "7118d2f0",
   "metadata": {},
   "outputs": [],
   "source": [
    "vehicles = [irc6.ll_A, irc6.ll_70R, irc6.ll_70RT]\n",
    "IF = [irc6.impact(i.name, span) for i in vehicles]\n",
    "arr_if = np.array(IF)\n",
    "arr_with_if = np.array(IF)+1 #including impact factor"
   ]
  },
  {
   "cell_type": "markdown",
   "id": "311de524",
   "metadata": {},
   "source": [
    "distribution factor"
   ]
  },
  {
   "cell_type": "code",
   "execution_count": 33,
   "id": "e7f3d9cb",
   "metadata": {
    "scrolled": true
   },
   "outputs": [
    {
     "data": {
      "text/plain": [
       "[1.067, 0.5, 0.635, 0.617]"
      ]
     },
     "execution_count": 33,
     "metadata": {},
     "output_type": "execute_result"
    }
   ],
   "source": [
    "dfe = pd.read_excel('outputs/max_e.xlsx', index_col=0)\n",
    "\n",
    "ecc = dfe['MaxEccentricity'] #eccentricity\n",
    "\n",
    "def df(ecc, webcc):\n",
    "    df = (webcc/2+ecc)/webcc\n",
    "    return round(df, 3)\n",
    "\n",
    "webcc = 3 #input web center/center distance\n",
    "distf = [df(i, webcc) for i in ecc]\n",
    "distf"
   ]
  },
  {
   "cell_type": "markdown",
   "id": "7cfe311d",
   "metadata": {},
   "source": [
    "bm for live load combinations"
   ]
  },
  {
   "cell_type": "code",
   "execution_count": 34,
   "id": "9ba4d4c3",
   "metadata": {
    "scrolled": true
   },
   "outputs": [
    {
     "data": {
      "text/plain": [
       "array([    0.      ,  5250.7152  ,  8922.6336  , 11142.723712,\n",
       "       12024.9024  , 11619.922688,  9417.0208  ,  5428.332288,\n",
       "           0.      ])"
      ]
     },
     "execution_count": 34,
     "metadata": {},
     "output_type": "execute_result"
    }
   ],
   "source": [
    "arr_maxbm = dfl.loc['MaxBM'].to_numpy() # max bm due to each veh\n",
    "arr_maxbmif = arr_maxbm*arr_with_if[:, np.newaxis] # max bm including impact due to ll\n",
    "\n",
    "arr_ll_comb = dfe.drop(columns='MaxEccentricity').to_numpy() # ll combinations in array\n",
    "\n",
    "all_ll = arr_ll_comb.dot(arr_maxbmif) # ll with impact for each combination\n",
    "all_unfactored_ll = all_ll #without dist factor\n",
    "# all_unfactored_ll = all_ll*np.array(distf)[:, np.newaxis] # distributed bm due to live load including impact (bm*if*df)\n",
    "\n",
    "bm_ll = np.amax(all_unfactored_ll, axis=0)\n",
    "bm_ll"
   ]
  },
  {
   "cell_type": "markdown",
   "id": "8c279c7f",
   "metadata": {},
   "source": [
    "### Cable profile"
   ]
  },
  {
   "cell_type": "code",
   "execution_count": 35,
   "id": "52aaf253",
   "metadata": {},
   "outputs": [],
   "source": [
    "# def cable_profile(end_cable_pos, mid_cable_pos, span_length, division=8):\n",
    "#     cable_profile = []\n",
    "#     x = [(j)/division*span_length for j in range(division+1)]\n",
    "#     for i in x:\n",
    "#         cable_pos_x = []\n",
    "#         for j in range(len(end_cable_pos)):\n",
    "#             h = end_cable_pos[j][1]-mid_cable_pos[j][1]\n",
    "#             a = end_cable_pos[j][1]\n",
    "#             y = a + 4*h*i/span_length - 4*h*i**2/span_length**2\n",
    "#             cable_pos_x.append((end_cable_pos[j][0], y))\n",
    "#         cable_profile.append(cable_pos_x)\n",
    "#     return cable_profile"
   ]
  },
  {
   "cell_type": "markdown",
   "id": "ebc894e3",
   "metadata": {},
   "source": [
    "### Eccentricity of cables"
   ]
  },
  {
   "cell_type": "code",
   "execution_count": 36,
   "id": "9eff7697",
   "metadata": {},
   "outputs": [],
   "source": [
    "def eccentricity(cable_positions, centroid):\n",
    "    cable_areaxpos_sum = 0\n",
    "    for i in cable_positions:\n",
    "        cable_areaxpos_sum+=(i[1]-centroid)\n",
    "    return cable_areaxpos_sum/len(cable_positions)"
   ]
  },
  {
   "cell_type": "markdown",
   "id": "f16eb15f",
   "metadata": {},
   "source": [
    "### Stress"
   ]
  },
  {
   "cell_type": "code",
   "execution_count": 37,
   "id": "06f9f8f0",
   "metadata": {},
   "outputs": [],
   "source": [
    "list_of_sections = sections\n",
    "prestressing_force = 2730 #input\n",
    "prestressing_force_total = prestressing_force*cable_no\n",
    "# prestressing_force_withloss = 0.75*prestressing_force"
   ]
  },
  {
   "cell_type": "code",
   "execution_count": 38,
   "id": "ff3adecf",
   "metadata": {},
   "outputs": [],
   "source": [
    "def tau(section, bm):\n",
    "    tau_top = bm*section.ymin/section.I[0]\n",
    "    tau_bot = -bm*section.ymax/section.I[0]\n",
    "    return (tau_top, tau_bot)"
   ]
  },
  {
   "cell_type": "markdown",
   "id": "7cb9e41d",
   "metadata": {},
   "source": [
    "presetressing stress"
   ]
  },
  {
   "cell_type": "code",
   "execution_count": 39,
   "id": "3040c834",
   "metadata": {},
   "outputs": [],
   "source": [
    "#due to eccentricity\n",
    "bm_pre = [prestressing_force_total*eccentricity(i.cableprop, i.Centroid[1]) for i in list_of_sections] #bm due to full prestressing force\n",
    "\n",
    "list_tau_pre = [tau(list_of_sections[index], bm_pre[index]) for index in range(len(list_of_sections))] #stress due to full prestressing force\n",
    "\n",
    "#axial\n",
    "list_tau_ax = [prestressing_force_total/sum(i.section_area) for i in list_of_sections]\n",
    "\n",
    "list_tau_preTotal = [(list_tau_pre[index][0] + list_tau_ax[index], list_tau_pre[index][1] + list_tau_ax[index]) for index in range(len(list_of_sections))]"
   ]
  },
  {
   "cell_type": "code",
   "execution_count": 40,
   "id": "5f290f84",
   "metadata": {
    "scrolled": true
   },
   "outputs": [
    {
     "data": {
      "text/plain": [
       "[(2716.7921705884755, 10316.840958644709),\n",
       " (1625.4514510584213, 11977.569874433264),\n",
       " (997.1037640562681, 12933.74712897819),\n",
       " (831.7491095820187, 13185.372722279484),\n",
       " (1129.3874876356685, 12732.446654337153),\n",
       " (1890.0188982172222, 11574.96892515119),\n",
       " (3113.643341326678, 9712.939534721596),\n",
       " (4800.260816964036, 7146.358483048374),\n",
       " (6949.871325129295, 3875.2257701315234)]"
      ]
     },
     "execution_count": 40,
     "metadata": {},
     "output_type": "execute_result"
    }
   ],
   "source": [
    "list_tau_preTotal"
   ]
  },
  {
   "cell_type": "markdown",
   "id": "0a44b04f",
   "metadata": {},
   "source": [
    "stress due to ded load"
   ]
  },
  {
   "cell_type": "code",
   "execution_count": 41,
   "id": "6d14e7e4",
   "metadata": {},
   "outputs": [],
   "source": [
    "list_tau_DL = [tau(list_of_sections[index], bm_pdl[index]) for index in range(len(list_of_sections))]"
   ]
  },
  {
   "cell_type": "code",
   "execution_count": 42,
   "id": "c05e5f75",
   "metadata": {},
   "outputs": [
    {
     "data": {
      "text/plain": [
       "[(0.0, -0.0),\n",
       " (2333.7648326683234, -3551.366379815528),\n",
       " (4000.7397131456964, -6088.0566511123325),\n",
       " (5000.92464143212, -7610.070813890415),\n",
       " (5334.319617527594, -8117.408868149776),\n",
       " (5000.92464143212, -7610.070813890415),\n",
       " (4000.7397131456964, -6088.0566511123325),\n",
       " (2333.7648326683234, -3551.366379815528),\n",
       " (0.0, -0.0)]"
      ]
     },
     "execution_count": 42,
     "metadata": {},
     "output_type": "execute_result"
    }
   ],
   "source": [
    "list_tau_DL"
   ]
  },
  {
   "cell_type": "markdown",
   "id": "87e89ebc",
   "metadata": {},
   "source": [
    "stress due to surfacing"
   ]
  },
  {
   "cell_type": "code",
   "execution_count": 43,
   "id": "6ff56d9b",
   "metadata": {},
   "outputs": [],
   "source": [
    "list_tau_surf = [tau(list_of_sections[index], bm_surf[index]) for index in range(len(list_of_sections))]"
   ]
  },
  {
   "cell_type": "code",
   "execution_count": 44,
   "id": "0b9d1614",
   "metadata": {},
   "outputs": [
    {
     "data": {
      "text/plain": [
       "[(0.0, -0.0),\n",
       " (102.25304360676219, -155.6018053814233),\n",
       " (175.29093189730662, -266.74595208243994),\n",
       " (219.1136648716333, -333.43244010304994),\n",
       " (233.72124252974214, -355.6612694432533),\n",
       " (219.1136648716333, -333.43244010304994),\n",
       " (175.29093189730662, -266.74595208243994),\n",
       " (102.25304360676219, -155.6018053814233),\n",
       " (0.0, -0.0)]"
      ]
     },
     "execution_count": 44,
     "metadata": {},
     "output_type": "execute_result"
    }
   ],
   "source": [
    "list_tau_surf"
   ]
  },
  {
   "cell_type": "markdown",
   "id": "3c96efd8",
   "metadata": {},
   "source": [
    "stress due to other load"
   ]
  },
  {
   "cell_type": "code",
   "execution_count": 45,
   "id": "6a6adcb8",
   "metadata": {},
   "outputs": [],
   "source": [
    "list_tau_ODL = [tau(list_of_sections[index], bm_odl[index]) for index in range(len(list_of_sections))]"
   ]
  },
  {
   "cell_type": "code",
   "execution_count": 46,
   "id": "cd0a708e",
   "metadata": {},
   "outputs": [
    {
     "data": {
      "text/plain": [
       "[(0.0, -0.0),\n",
       " (154.9288539496397, -235.7603111839747),\n",
       " (265.5923210565252, -404.16053345824236),\n",
       " (331.9904013206565, -505.20066682280293),\n",
       " (354.12309474203363, -538.8807112776565),\n",
       " (331.9904013206565, -505.20066682280293),\n",
       " (265.5923210565252, -404.16053345824236),\n",
       " (154.9288539496397, -235.7603111839747),\n",
       " (0.0, -0.0)]"
      ]
     },
     "execution_count": 46,
     "metadata": {},
     "output_type": "execute_result"
    }
   ],
   "source": [
    "list_tau_ODL"
   ]
  },
  {
   "cell_type": "markdown",
   "id": "7fe337f7",
   "metadata": {},
   "source": [
    "stress due to live load"
   ]
  },
  {
   "cell_type": "code",
   "execution_count": 47,
   "id": "908723be",
   "metadata": {
    "scrolled": true
   },
   "outputs": [],
   "source": [
    "list_tau_LL = [tau(list_of_sections[index], bm_ll[index]) for index in range(len(list_of_sections))]"
   ]
  },
  {
   "cell_type": "code",
   "execution_count": 48,
   "id": "07571fa6",
   "metadata": {},
   "outputs": [],
   "source": [
    "arr_stress_top = np.array([\n",
    "    list(zip(*list_tau_DL))[0], \n",
    "    list(zip(*list_tau_ODL))[0], \n",
    "    list(zip(*list_tau_surf))[0], \n",
    "    list(zip(*list_tau_LL))[0], \n",
    "    list(zip(*list_tau_preTotal))[0]\n",
    "])\n",
    "\n",
    "arr_stress_bot = np.array([\n",
    "    list(zip(*list_tau_DL))[1], \n",
    "    list(zip(*list_tau_ODL))[1], \n",
    "    list(zip(*list_tau_surf))[1], \n",
    "    list(zip(*list_tau_LL))[1], \n",
    "    list(zip(*list_tau_preTotal))[1]\n",
    "])"
   ]
  },
  {
   "cell_type": "markdown",
   "id": "7583dd97",
   "metadata": {},
   "source": [
    "**Case 1: Rare combination I**"
   ]
  },
  {
   "cell_type": "markdown",
   "id": "09977741",
   "metadata": {},
   "source": [
    "RI = DL + PS@10%loss"
   ]
  },
  {
   "cell_type": "code",
   "execution_count": 49,
   "id": "c73d0c6d",
   "metadata": {},
   "outputs": [
    {
     "data": {
      "text/plain": [
       "(array([2445.11295353, 3796.67113862, 4898.1331008 , 5749.49884006,\n",
       "        6350.7683564 , 6701.94164983, 6803.01872034, 6653.99956794,\n",
       "        6254.88419262]),\n",
       " array([9285.15686278, 7228.44650717, 5552.31576497, 4256.76463616,\n",
       "        3341.79312075, 2807.40121875, 2653.58893014, 2880.35625493,\n",
       "        3487.70319312]))"
      ]
     },
     "execution_count": 49,
     "metadata": {},
     "output_type": "execute_result"
    }
   ],
   "source": [
    "psf_RI = np.array([1, 0, 0, 0, 0.9]) #partial safety factor [DL, ODL, surf, LL, Ps] irc:6-2007 table B3\n",
    "\n",
    "tauTop_RI = psf_RI.dot(arr_stress_top) #resultant pressure top\n",
    "\n",
    "tauBot_RI = psf_RI.dot(arr_stress_bot) #resultant pressure bottom\n",
    "\n",
    "tauTop_RI, tauBot_RI"
   ]
  },
  {
   "cell_type": "markdown",
   "id": "260b7e1d",
   "metadata": {},
   "source": [
    "Allowable stresses"
   ]
  },
  {
   "cell_type": "code",
   "execution_count": 50,
   "id": "c2122404",
   "metadata": {},
   "outputs": [
    {
     "data": {
      "text/plain": [
       "(-3276, 16800)"
      ]
     },
     "execution_count": 50,
     "metadata": {},
     "output_type": "execute_result"
    }
   ],
   "source": [
    "tauTop_perm = -int(0.259*math.pow(fck, 2/3)*1000) #permissible stress on top (tensile) kN/m2\n",
    "\n",
    "tauBot_perm = int(0.48*35*1000) #permissible stress on top (compression) kN/m2\n",
    "tauTop_perm, tauBot_perm"
   ]
  },
  {
   "cell_type": "markdown",
   "id": "659330c8",
   "metadata": {},
   "source": [
    "check"
   ]
  },
  {
   "cell_type": "code",
   "execution_count": 51,
   "id": "9679c1a7",
   "metadata": {},
   "outputs": [
    {
     "name": "stdout",
     "output_type": "stream",
     "text": [
      "top ok\n",
      "bottom ok\n"
     ]
    }
   ],
   "source": [
    "if all(tauTop_RI>tauTop_perm) == True:\n",
    "    print('top ok')\n",
    "else:\n",
    "    print('top not ok')\n",
    "    \n",
    "if all(tauBot_RI<tauBot_perm) == True:\n",
    "    print('bottom ok')\n",
    "else:\n",
    "    print('bottom not ok')"
   ]
  },
  {
   "cell_type": "markdown",
   "id": "5390fe88",
   "metadata": {},
   "source": [
    "**Case 2: Rare combination II**"
   ]
  },
  {
   "cell_type": "markdown",
   "id": "b2c389e8",
   "metadata": {},
   "source": [
    "RII = DL + ODL + 1.2*Surf + 0.75*LL + PS@25%loss"
   ]
  },
  {
   "cell_type": "code",
   "execution_count": 52,
   "id": "bb1d809b",
   "metadata": {},
   "outputs": [
    {
     "data": {
      "text/plain": [
       "(array([2037.59412794, 4173.75968408, 5807.84016759, 6948.13634443,\n",
       "        7602.09570861, 7773.0363188 , 7427.56619059, 6566.47870474,\n",
       "        5212.40349385]),\n",
       " array([7737.63071898, 4486.9576299 , 2000.32383982,  265.09780127,\n",
       "        -730.05358124, -990.17950632, -464.4662976 ,  845.8787314 ,\n",
       "        2906.4193276 ]))"
      ]
     },
     "execution_count": 52,
     "metadata": {},
     "output_type": "execute_result"
    }
   ],
   "source": [
    "psf_RII = np.array([1, 1, 1.2, 0.75, 0.75]) #partial safety factor [DL, ODL, surf, LL, PS] irc:6-2007 table B3\n",
    "\n",
    "tauTop_RII = psf_RII.dot(arr_stress_top) #resultant pressure top\n",
    "\n",
    "tauBot_RII = psf_RII.dot(arr_stress_bot) #resultant pressure bottom\n",
    "\n",
    "tauTop_RII, tauBot_RII"
   ]
  },
  {
   "cell_type": "markdown",
   "id": "cc691c3e",
   "metadata": {},
   "source": [
    "Allowable stresses"
   ]
  },
  {
   "cell_type": "code",
   "execution_count": 53,
   "id": "e3454b2c",
   "metadata": {},
   "outputs": [
    {
     "data": {
      "text/plain": [
       "(-3276, 12600)"
      ]
     },
     "execution_count": 53,
     "metadata": {},
     "output_type": "execute_result"
    }
   ],
   "source": [
    "tauTop_perm = -int(0.259*math.pow(fck, 2/3)*1000) #permissible stress on top (tensile) kN/m2\n",
    "\n",
    "tauBot_perm = int(0.36*35*1000) #permissible stress on top (compression) kN/m2\n",
    "tauTop_perm, tauBot_perm"
   ]
  },
  {
   "cell_type": "markdown",
   "id": "4e538aa2",
   "metadata": {},
   "source": [
    "check"
   ]
  },
  {
   "cell_type": "code",
   "execution_count": 54,
   "id": "652cf4a8",
   "metadata": {
    "scrolled": true
   },
   "outputs": [
    {
     "name": "stdout",
     "output_type": "stream",
     "text": [
      "top ok\n",
      "bottom ok\n"
     ]
    }
   ],
   "source": [
    "if all(tauTop_RII>tauTop_perm) == True:\n",
    "    print('top ok')\n",
    "else:\n",
    "    print('top not ok')\n",
    "    \n",
    "if all(tauBot_RII<tauBot_perm) == True:\n",
    "    print('bottom ok')\n",
    "else:\n",
    "    print('bottom not ok')"
   ]
  },
  {
   "cell_type": "markdown",
   "id": "bef5ecec",
   "metadata": {},
   "source": [
    "**Case 2: Rare combination II**"
   ]
  },
  {
   "cell_type": "markdown",
   "id": "57e79bba",
   "metadata": {},
   "source": [
    "RII = DL + ODL + 1.2*Surf + LL + PS@25%loss"
   ]
  },
  {
   "cell_type": "code",
   "execution_count": 55,
   "id": "0463f6b6",
   "metadata": {},
   "outputs": [
    {
     "data": {
      "text/plain": [
       "(array([2037.59412794, 4288.1842697 , 6002.28389827, 7190.96070165,\n",
       "        7864.1446718 , 8026.25988698, 7632.78370129, 6684.77395576,\n",
       "        5212.40349385]),\n",
       " array([ 7737.63071898,  4312.83399041,  1704.43244653,  -104.41597593,\n",
       "        -1128.82207099, -1375.51810343,  -776.75250478,   665.86497359,\n",
       "         2906.4193276 ]))"
      ]
     },
     "execution_count": 55,
     "metadata": {},
     "output_type": "execute_result"
    }
   ],
   "source": [
    "psf_RII = np.array([1, 1, 1.2, 1, 0.75]) #partial safety factor [DL, ODL, surf, LL, PS] irc:6-2007 table B3\n",
    "\n",
    "tauTop_RII = psf_RII.dot(arr_stress_top) #resultant pressure top\n",
    "\n",
    "tauBot_RII = psf_RII.dot(arr_stress_bot) #resultant pressure bottom\n",
    "\n",
    "tauTop_RII, tauBot_RII"
   ]
  },
  {
   "cell_type": "markdown",
   "id": "9a3e26ca",
   "metadata": {},
   "source": [
    "Allowable stresses"
   ]
  },
  {
   "cell_type": "code",
   "execution_count": 56,
   "id": "7b6c5c63",
   "metadata": {},
   "outputs": [
    {
     "data": {
      "text/plain": [
       "(-3276, 16100)"
      ]
     },
     "execution_count": 56,
     "metadata": {},
     "output_type": "execute_result"
    }
   ],
   "source": [
    "tauTop_perm = -int(0.259*math.pow(fck, 2/3)*1000) #permissible stress on top (tensile) kN/m2\n",
    "\n",
    "tauBot_perm = int(0.46*35*1000) #permissible stress on top (compression) kN/m2\n",
    "tauTop_perm, tauBot_perm"
   ]
  },
  {
   "cell_type": "markdown",
   "id": "d5f30a46",
   "metadata": {},
   "source": [
    "check"
   ]
  },
  {
   "cell_type": "code",
   "execution_count": 57,
   "id": "1a53c824",
   "metadata": {},
   "outputs": [
    {
     "name": "stdout",
     "output_type": "stream",
     "text": [
      "top ok\n",
      "bottom ok\n"
     ]
    }
   ],
   "source": [
    "if all(tauTop_RII>tauTop_perm) == True:\n",
    "    print('top ok')\n",
    "else:\n",
    "    print('top not ok')\n",
    "    \n",
    "if all(tauBot_RII<tauBot_perm) == True:\n",
    "    print('bottom ok')\n",
    "else:\n",
    "    print('bottom not ok')"
   ]
  },
  {
   "cell_type": "markdown",
   "id": "2dd10dd0",
   "metadata": {},
   "source": [
    "**Case 3: Permanent combination**"
   ]
  },
  {
   "cell_type": "markdown",
   "id": "2800594b",
   "metadata": {},
   "source": [
    "RII = DL + ODL + 1.2*Surf + 0.75*LL + PS@25%loss"
   ]
  },
  {
   "cell_type": "code",
   "execution_count": 58,
   "id": "3d98172d",
   "metadata": {},
   "outputs": [
    {
     "data": {
      "text/plain": [
       "(array([2037.59412794, 4173.75968408, 5807.84016759, 6948.13634443,\n",
       "        7602.09570861, 7773.0363188 , 7427.56619059, 6566.47870474,\n",
       "        5212.40349385]),\n",
       " array([7737.63071898, 4486.9576299 , 2000.32383982,  265.09780127,\n",
       "        -730.05358124, -990.17950632, -464.4662976 ,  845.8787314 ,\n",
       "        2906.4193276 ]))"
      ]
     },
     "execution_count": 58,
     "metadata": {},
     "output_type": "execute_result"
    }
   ],
   "source": [
    "psf_P = np.array([1, 1, 1.2, 0.75, 0.75]) #partial safety factor [DL, ODL, surf, LL, PS] irc:6-2007 table B3\n",
    "\n",
    "tauTop_P = psf_P.dot(arr_stress_top) #resultant pressure top\n",
    "\n",
    "tauBot_P = psf_P.dot(arr_stress_bot) #resultant pressure bottom\n",
    "\n",
    "tauTop_P, tauBot_P"
   ]
  },
  {
   "cell_type": "markdown",
   "id": "3ec3186c",
   "metadata": {},
   "source": [
    "Allowable stresses"
   ]
  },
  {
   "cell_type": "code",
   "execution_count": 59,
   "id": "9f7f65da",
   "metadata": {},
   "outputs": [
    {
     "data": {
      "text/plain": [
       "(-3276, 12600)"
      ]
     },
     "execution_count": 59,
     "metadata": {},
     "output_type": "execute_result"
    }
   ],
   "source": [
    "tauTop_perm = -int(0.259*math.pow(fck, 2/3)*1000) #permissible stress on top (tensile) kN/m2\n",
    "\n",
    "tauBot_perm = int(0.36*35*1000) #permissible stress on top (compression) kN/m2\n",
    "tauTop_perm, tauBot_perm"
   ]
  },
  {
   "cell_type": "markdown",
   "id": "b9ae46c6",
   "metadata": {},
   "source": [
    "check"
   ]
  },
  {
   "cell_type": "code",
   "execution_count": 60,
   "id": "8656e048",
   "metadata": {},
   "outputs": [
    {
     "name": "stdout",
     "output_type": "stream",
     "text": [
      "top ok\n",
      "bottom ok\n"
     ]
    }
   ],
   "source": [
    "if all(tauTop_P>tauTop_perm) == True:\n",
    "    print('top ok')\n",
    "else:\n",
    "    print('top not ok')\n",
    "    \n",
    "if all(tauBot_P<tauBot_perm) == True:\n",
    "    print('bottom ok')\n",
    "else:\n",
    "    print('bottom not ok')"
   ]
  },
  {
   "cell_type": "markdown",
   "id": "2ad5f05d",
   "metadata": {},
   "source": [
    "**Case 4: Quasi-Permanent**"
   ]
  },
  {
   "cell_type": "markdown",
   "id": "9724a060",
   "metadata": {},
   "source": [
    "QP = DL + ODL + PS@25%loss"
   ]
  },
  {
   "cell_type": "code",
   "execution_count": 61,
   "id": "dae524c0",
   "metadata": {},
   "outputs": [
    {
     "data": {
      "text/plain": [
       "(array([2037.59412794, 3707.78227491, 5014.15985724, 5956.72687494,\n",
       "        6535.483328  , 6750.42921642, 6601.5645402 , 6088.88929934,\n",
       "        5212.40349385]),\n",
       " array([7737.63071898, 5196.05071483, 3208.09316216, 1773.758061  ,\n",
       "         893.04541133,  565.95521315,  792.48746647, 1572.64217129,\n",
       "        2906.4193276 ]))"
      ]
     },
     "execution_count": 61,
     "metadata": {},
     "output_type": "execute_result"
    }
   ],
   "source": [
    "psf_QP = np.array([1, 1, 0, 0, 0.75]) #partial safety factor [DL, ODL, surf, LL, PS] irc:6-2007 table B3\n",
    "\n",
    "tauTop_QP = psf_QP.dot(arr_stress_top) #resultant pressure top\n",
    "\n",
    "tauBot_QP = psf_QP.dot(arr_stress_bot) #resultant pressure bottom\n",
    "\n",
    "tauTop_QP, tauBot_QP"
   ]
  },
  {
   "cell_type": "markdown",
   "id": "b3f4a805",
   "metadata": {},
   "source": [
    "Allowable stresses"
   ]
  },
  {
   "cell_type": "code",
   "execution_count": 62,
   "id": "e559099d",
   "metadata": {},
   "outputs": [
    {
     "data": {
      "text/plain": [
       "(-3276, 12600)"
      ]
     },
     "execution_count": 62,
     "metadata": {},
     "output_type": "execute_result"
    }
   ],
   "source": [
    "tauTop_perm = -int(0.259*math.pow(fck, 2/3)*1000) #permissible stress on top (tensile) kN/m2\n",
    "\n",
    "tauBot_perm = int(0.36*35*1000) #permissible stress on top (compression) kN/m2\n",
    "tauTop_perm, tauBot_perm"
   ]
  },
  {
   "cell_type": "markdown",
   "id": "eaddffb3",
   "metadata": {},
   "source": [
    "check"
   ]
  },
  {
   "cell_type": "code",
   "execution_count": 63,
   "id": "8f6c8d3f",
   "metadata": {},
   "outputs": [
    {
     "name": "stdout",
     "output_type": "stream",
     "text": [
      "top ok\n",
      "bottom ok\n"
     ]
    }
   ],
   "source": [
    "if all(tauTop_QP>tauTop_perm) == True:\n",
    "    print('top ok')\n",
    "else:\n",
    "    print('top not ok')\n",
    "    \n",
    "if all(tauBot_QP<tauBot_perm) == True:\n",
    "    print('bottom ok')\n",
    "else:\n",
    "    print('bottom not ok')"
   ]
  },
  {
   "cell_type": "code",
   "execution_count": 64,
   "id": "f298b059",
   "metadata": {
    "scrolled": true
   },
   "outputs": [
    {
     "data": {
      "text/plain": [
       "(array([2037.59412794, 3707.78227491, 5014.15985724, 5956.72687494,\n",
       "        6535.483328  , 6750.42921642, 6601.5645402 , 6088.88929934,\n",
       "        5212.40349385]),\n",
       " array([7737.63071898, 5196.05071483, 3208.09316216, 1773.758061  ,\n",
       "         893.04541133,  565.95521315,  792.48746647, 1572.64217129,\n",
       "        2906.4193276 ]))"
      ]
     },
     "execution_count": 64,
     "metadata": {},
     "output_type": "execute_result"
    }
   ],
   "source": [
    "tauTop_QP, tauBot_QP"
   ]
  },
  {
   "cell_type": "markdown",
   "id": "51a6b971",
   "metadata": {},
   "source": [
    "### Ultimate strength Check"
   ]
  },
  {
   "cell_type": "markdown",
   "id": "a8727276",
   "metadata": {},
   "source": [
    "material property cable"
   ]
  },
  {
   "cell_type": "code",
   "execution_count": 145,
   "id": "62a445f7",
   "metadata": {},
   "outputs": [],
   "source": [
    "nos = 19 # input number of strand\n",
    "art = 98.7 # input area of one tendon mm\n",
    "\n",
    "fpk = 1860 # breaking stress\n",
    "es = 195000 # modulus of elasticity"
   ]
  },
  {
   "cell_type": "markdown",
   "id": "ec1201da",
   "metadata": {},
   "source": [
    "Adopted Stress Strain Curve for Ultimate Strength Check"
   ]
  },
  {
   "cell_type": "code",
   "execution_count": 66,
   "id": "81ea8b70",
   "metadata": {},
   "outputs": [],
   "source": [
    "ecu2 = 0.0035\n",
    "ec2 = 0.0020\n",
    "\n",
    "fp0 = fpk*0.87\n",
    "fpd = fp0/1.15\n",
    "\n",
    "e = fpd/es #design strain"
   ]
  },
  {
   "cell_type": "code",
   "execution_count": 67,
   "id": "78a726cf",
   "metadata": {},
   "outputs": [],
   "source": [
    "\n",
    "def stress(ec2, fck):\n",
    "    \"\"\"\n",
    "    stress strain relationship. refer to IRC: 112-2020 Cl. 6.4.2.8\n",
    "    :param ec2: strain\n",
    "    :param fck: fck of concrete\n",
    "    :return: stress for giver strain ec2 for concrete of grade fck\n",
    "    \"\"\"\n",
    "    if ec2 < 0:\n",
    "        stress = 0\n",
    "    elif 0 <= ec2 <= 0.002:\n",
    "        stress = 0.67*fck/1.5 * (1 - np.power((1 - ec2 / 0.002), 2))\n",
    "    else:\n",
    "        stress = 0.67*fck/1.5\n",
    "    return stress\n"
   ]
  },
  {
   "cell_type": "markdown",
   "id": "0ec1c3eb",
   "metadata": {},
   "source": [
    "distance to top of stripes from bottom"
   ]
  },
  {
   "cell_type": "code",
   "execution_count": 79,
   "id": "6f33717b",
   "metadata": {},
   "outputs": [],
   "source": [
    "int_dep = depth\n",
    "dist = [int_dep] # list of distance to top of stripes from bottom\n",
    "for i in stripes:\n",
    "    dep = round(int_dep-i[1], 5)\n",
    "    dist.append(dep)\n",
    "    int_dep = dep"
   ]
  },
  {
   "cell_type": "markdown",
   "id": "4a82d9c1",
   "metadata": {},
   "source": [
    "strain-stress concrete"
   ]
  },
  {
   "cell_type": "code",
   "execution_count": 80,
   "id": "4f13ff22",
   "metadata": {
    "scrolled": true
   },
   "outputs": [],
   "source": [
    "strn = [interpolate_e(etop, ebot, depth, i) for i in dist]\n",
    "strs = [stress(i, fck) for i in strn]"
   ]
  },
  {
   "attachments": {
    "image.png": {
     "image/png": "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"
    }
   },
   "cell_type": "markdown",
   "id": "bb436156",
   "metadata": {},
   "source": [
    "strain-stress steel![image.png](attachment:image.png)"
   ]
  },
  {
   "cell_type": "code",
   "execution_count": 134,
   "id": "a519a2f4",
   "metadata": {},
   "outputs": [],
   "source": [
    "eud = 0.002 #sp105, pg 25\n",
    "euk = eud/0.9\n",
    "\n",
    "tau_0 = 0\n",
    "tau_e = fpd\n",
    "tau_eud = fp0\n",
    "tau_euk = (tau_e-tau_eud)/(e-eud)*(euk-eud) + tau_eud\n",
    "\n",
    "\n",
    "st_st = [-euk, -eud, -e, 0, e, eud, euk] #possible strain range\n",
    "tau_st = [-tau_euk, -tau_eud, -tau_e, -tau_0, tau_e, tau_eud, tau_euk]"
   ]
  },
  {
   "cell_type": "markdown",
   "id": "d93ac0b8",
   "metadata": {},
   "source": [
    "#### calculation of effective depth and xulim"
   ]
  },
  {
   "cell_type": "markdown",
   "id": "349923be",
   "metadata": {},
   "source": [
    "##### effective depth\n",
    "eff depth = depth - $\\frac{\\displaystyle\\sum_{i=1} ^{j} y*n}{\\displaystyle\\sum_{i=1} ^{j} n}$\n",
    "\n",
    "where,<br>\n",
    "n = no of cables in layer i <br>\n",
    "y = depth from bottom <br>\n",
    "j represents total number of layer <br><br><br>\n",
    "\n",
    "##### xu lim\n",
    "$x_{u,\\ lim\\ }=\\ \\frac{\\epsilon_{cu2}}{\\epsilon_{cu2}+\\ \\epsilon}$<br>\n",
    "where,<br>\n",
    "$\\epsilon$ = design strain = fpd/Es"
   ]
  },
  {
   "cell_type": "code",
   "execution_count": 82,
   "id": "c313b893",
   "metadata": {},
   "outputs": [],
   "source": [
    "depth = sections[0].position[3][1] + sections[0].height[3] - sections[0].position[1][1] #input dept from slab top to bottom mm\n",
    "n = cable_no #input number of cables\n",
    "effd = [] #effective depth at different sections\n",
    "xulim = [] #limiting depth\n",
    "for i in sections:\n",
    "    cpx, cpy = zip(*i.cableprop)\n",
    "    arr_y = np.array(list(set(cpy)))\n",
    "    arr_n = np.array([cpy.count(i) for i in set(cpy)])\n",
    "    ed = depth - sum(arr_y*arr_n)/n\n",
    "\n",
    "    xul = ecu2/(ecu2+e)*ed\n",
    "    \n",
    "    effd.append(ed)\n",
    "    xulim.append(xul)"
   ]
  },
  {
   "cell_type": "markdown",
   "id": "25e86c03",
   "metadata": {},
   "source": [
    "Neutral axis\n",
    "NA=$\\ \\frac{depth}{\\epsilon_{cu2}\\ -\\ \\epsilon_{bot}}\\times(0-\\epsilon_{bot})$"
   ]
  },
  {
   "cell_type": "code",
   "execution_count": 115,
   "id": "c472cdf1",
   "metadata": {
    "scrolled": true
   },
   "outputs": [],
   "source": [
    "etop = 0.0035\n",
    "ebot = -0.02\n",
    "\n",
    "def na(etop, ebot, depth):\n",
    "    \"\"\"\n",
    "    interpolate neutral axis\n",
    "    :param etop: strain at top\n",
    "    :param ebot: strain at bottom\n",
    "    :param depth: depth of section\n",
    "    :return: depth of neutral axis from bottom\n",
    "    \"\"\"\n",
    "    na = depth/(ecu2 - ebot)*-ebot\n",
    "    return na\n",
    "\n",
    "NA = na(etop, ebot, depth)"
   ]
  },
  {
   "cell_type": "code",
   "execution_count": 116,
   "id": "ee930358",
   "metadata": {},
   "outputs": [],
   "source": [
    "def interpolate_e(etop, ebot, depth, y):\n",
    "    \"\"\"\n",
    "    interpolate strain at certain depth from bottom\n",
    "    :param etop: strain at top\n",
    "    :param ebot: strain at bottom\n",
    "    :param y: distance at which e is required (from bottom)\n",
    "    :param d: depth of section\n",
    "    :return: strain\n",
    "    \"\"\"\n",
    "    \n",
    "    e = etop + (ebot-etop)/depth*(depth-y)\n",
    "    return e"
   ]
  },
  {
   "cell_type": "markdown",
   "id": "d2e2ce22",
   "metadata": {},
   "source": [
    "dividing section to number of stripes"
   ]
  },
  {
   "attachments": {
    "image.png": {
     "image/png": "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"
    }
   },
   "cell_type": "markdown",
   "id": "349113bc",
   "metadata": {},
   "source": [
    "![image.png](attachment:image.png)"
   ]
  },
  {
   "cell_type": "code",
   "execution_count": null,
   "id": "6eddf50a",
   "metadata": {},
   "outputs": [],
   "source": []
  },
  {
   "cell_type": "code",
   "execution_count": 117,
   "id": "8dac995c",
   "metadata": {
    "scrolled": false
   },
   "outputs": [],
   "source": [
    "i = 0\n",
    "topslab1_b = sections[i].position[5][0]+sections[i].length[5] - (sections[i].position[4][0]) # total width upto cantiliver form top\n",
    "topslab1_d = sections[i].height[4]\n",
    "topslab1_pos = sections[i].position[4][1] + topslab1_d/2\n",
    "\n",
    "topslab2_b = sections[i].length[0] + sections[i].length[1] + sections[i].length[2]\n",
    "topslab2_d = sections[i].height[3] - sections[i].height[4]\n",
    "topslab2_pos = topslab1_pos - (topslab1_d+topslab2_d)/2\n",
    "\n",
    "stripes = [[topslab1_b, topslab1_d, topslab1_pos], [topslab2_b, topslab2_d, topslab2_pos]] #[[width, depth, pos]]\n",
    "\n",
    "n = 10 #no of division\n",
    "web_d = (depth - sections[i].height[3] - sections[i].height[2])/n #depth each stripes of web without top and bottom slab\n",
    "web_b = sections[i].length[0]*2\n",
    "\n",
    "for j in range(n):\n",
    "    stripe_pos = sections[i].position[3][1] - web_d/2 - j*web_d\n",
    "    stripes.append([web_b, web_d, stripe_pos])\n",
    "\n",
    "botslab_b = topslab2_b\n",
    "botslab_d = sections[i].height[2]\n",
    "botslab_pos = sections[i].position[2][1] + botslab_d/2\n",
    "stripes.append([botslab_b, botslab_d, botslab_pos])"
   ]
  },
  {
   "cell_type": "markdown",
   "id": "b8054bbe",
   "metadata": {},
   "source": [
    "stress, area, force, moment of stripes in compression due of concrete"
   ]
  },
  {
   "cell_type": "code",
   "execution_count": 170,
   "id": "e407e3f2",
   "metadata": {},
   "outputs": [
    {
     "data": {
      "text/html": [
       "<div>\n",
       "<style scoped>\n",
       "    .dataframe tbody tr th:only-of-type {\n",
       "        vertical-align: middle;\n",
       "    }\n",
       "\n",
       "    .dataframe tbody tr th {\n",
       "        vertical-align: top;\n",
       "    }\n",
       "\n",
       "    .dataframe thead th {\n",
       "        text-align: right;\n",
       "    }\n",
       "</style>\n",
       "<table border=\"1\" class=\"dataframe\">\n",
       "  <thead>\n",
       "    <tr style=\"text-align: right;\">\n",
       "      <th></th>\n",
       "      <th>Position</th>\n",
       "      <th>Stress</th>\n",
       "      <th>Area</th>\n",
       "      <th>Force</th>\n",
       "      <th>Moment</th>\n",
       "    </tr>\n",
       "  </thead>\n",
       "  <tbody>\n",
       "    <tr>\n",
       "      <th>0</th>\n",
       "      <td>3.125</td>\n",
       "      <td>20.100000</td>\n",
       "      <td>1.380</td>\n",
       "      <td>27738.000000</td>\n",
       "      <td>11139.462766</td>\n",
       "    </tr>\n",
       "    <tr>\n",
       "      <th>1</th>\n",
       "      <td>2.975</td>\n",
       "      <td>18.857858</td>\n",
       "      <td>0.840</td>\n",
       "      <td>15840.600952</td>\n",
       "      <td>3985.427793</td>\n",
       "    </tr>\n",
       "    <tr>\n",
       "      <th>2</th>\n",
       "      <td>2.780</td>\n",
       "      <td>8.807858</td>\n",
       "      <td>0.288</td>\n",
       "      <td>2536.663184</td>\n",
       "      <td>143.564342</td>\n",
       "    </tr>\n",
       "    <tr>\n",
       "      <th>3</th>\n",
       "      <td>2.540</td>\n",
       "      <td>0.000000</td>\n",
       "      <td>0.288</td>\n",
       "      <td>0.000000</td>\n",
       "      <td>-0.000000</td>\n",
       "    </tr>\n",
       "    <tr>\n",
       "      <th>4</th>\n",
       "      <td>2.300</td>\n",
       "      <td>0.000000</td>\n",
       "      <td>0.288</td>\n",
       "      <td>0.000000</td>\n",
       "      <td>-0.000000</td>\n",
       "    </tr>\n",
       "    <tr>\n",
       "      <th>5</th>\n",
       "      <td>2.060</td>\n",
       "      <td>0.000000</td>\n",
       "      <td>0.288</td>\n",
       "      <td>0.000000</td>\n",
       "      <td>-0.000000</td>\n",
       "    </tr>\n",
       "    <tr>\n",
       "      <th>6</th>\n",
       "      <td>1.820</td>\n",
       "      <td>0.000000</td>\n",
       "      <td>0.288</td>\n",
       "      <td>0.000000</td>\n",
       "      <td>-0.000000</td>\n",
       "    </tr>\n",
       "    <tr>\n",
       "      <th>7</th>\n",
       "      <td>1.580</td>\n",
       "      <td>0.000000</td>\n",
       "      <td>0.288</td>\n",
       "      <td>0.000000</td>\n",
       "      <td>-0.000000</td>\n",
       "    </tr>\n",
       "    <tr>\n",
       "      <th>8</th>\n",
       "      <td>1.340</td>\n",
       "      <td>0.000000</td>\n",
       "      <td>0.288</td>\n",
       "      <td>0.000000</td>\n",
       "      <td>-0.000000</td>\n",
       "    </tr>\n",
       "    <tr>\n",
       "      <th>9</th>\n",
       "      <td>1.100</td>\n",
       "      <td>0.000000</td>\n",
       "      <td>0.288</td>\n",
       "      <td>0.000000</td>\n",
       "      <td>-0.000000</td>\n",
       "    </tr>\n",
       "    <tr>\n",
       "      <th>10</th>\n",
       "      <td>0.860</td>\n",
       "      <td>0.000000</td>\n",
       "      <td>0.288</td>\n",
       "      <td>0.000000</td>\n",
       "      <td>-0.000000</td>\n",
       "    </tr>\n",
       "    <tr>\n",
       "      <th>11</th>\n",
       "      <td>0.620</td>\n",
       "      <td>0.000000</td>\n",
       "      <td>0.288</td>\n",
       "      <td>0.000000</td>\n",
       "      <td>-0.000000</td>\n",
       "    </tr>\n",
       "    <tr>\n",
       "      <th>12</th>\n",
       "      <td>0.250</td>\n",
       "      <td>0.000000</td>\n",
       "      <td>2.800</td>\n",
       "      <td>0.000000</td>\n",
       "      <td>-0.000000</td>\n",
       "    </tr>\n",
       "  </tbody>\n",
       "</table>\n",
       "</div>"
      ],
      "text/plain": [
       "    Position     Stress   Area         Force        Moment\n",
       "0      3.125  20.100000  1.380  27738.000000  11139.462766\n",
       "1      2.975  18.857858  0.840  15840.600952   3985.427793\n",
       "2      2.780   8.807858  0.288   2536.663184    143.564342\n",
       "3      2.540   0.000000  0.288      0.000000     -0.000000\n",
       "4      2.300   0.000000  0.288      0.000000     -0.000000\n",
       "5      2.060   0.000000  0.288      0.000000     -0.000000\n",
       "6      1.820   0.000000  0.288      0.000000     -0.000000\n",
       "7      1.580   0.000000  0.288      0.000000     -0.000000\n",
       "8      1.340   0.000000  0.288      0.000000     -0.000000\n",
       "9      1.100   0.000000  0.288      0.000000     -0.000000\n",
       "10     0.860   0.000000  0.288      0.000000     -0.000000\n",
       "11     0.620   0.000000  0.288      0.000000     -0.000000\n",
       "12     0.250   0.000000  2.800      0.000000     -0.000000"
      ]
     },
     "metadata": {},
     "output_type": "display_data"
    }
   ],
   "source": [
    "stripe_strs = [(strs[j]+strs[j+1])/2 for j in range(len(strs)-1)] #average stress of stripes\n",
    "stripe_area = [j[0]*j[1] for j in stripes]\n",
    "stripe_force = [stripe_strs[j]*stripe_area[j]*1000 for j in range(len(stripes))]\n",
    "stripe_pos = [j[2] for j in stripes]\n",
    "stripe_mom = [stripe_force[j]*(stripe_pos[j]-NA) for j in range(len(stripes))]\n",
    "\n",
    "df_comp = pd.DataFrame([stripe_pos, stripe_strs, stripe_area, stripe_force, stripe_mom], index = ['Position', 'Stress', 'Area', 'Force', 'Moment'])\n",
    "display(df_comp.T)"
   ]
  },
  {
   "cell_type": "markdown",
   "id": "2fcc3ca3",
   "metadata": {},
   "source": [
    "Cable layer"
   ]
  },
  {
   "cell_type": "code",
   "execution_count": 155,
   "id": "0d8643d1",
   "metadata": {},
   "outputs": [],
   "source": [
    "\n",
    "cpx, cpy = zip(*sections[i].cableprop)\n",
    "\n",
    "cab_y = sorted(list(set(cpy)))\n",
    "cab_layer = [[y, cpy.count(y)] for y in cab_y]  #[[y of cable from bottom, no of cables]]\n"
   ]
  },
  {
   "cell_type": "code",
   "execution_count": 156,
   "id": "070c22fc",
   "metadata": {},
   "outputs": [
    {
     "data": {
      "text/html": [
       "<div>\n",
       "<style scoped>\n",
       "    .dataframe tbody tr th:only-of-type {\n",
       "        vertical-align: middle;\n",
       "    }\n",
       "\n",
       "    .dataframe tbody tr th {\n",
       "        vertical-align: top;\n",
       "    }\n",
       "\n",
       "    .dataframe thead th {\n",
       "        text-align: right;\n",
       "    }\n",
       "</style>\n",
       "<table border=\"1\" class=\"dataframe\">\n",
       "  <thead>\n",
       "    <tr style=\"text-align: right;\">\n",
       "      <th></th>\n",
       "      <th>Position</th>\n",
       "      <th>Stress</th>\n",
       "      <th>Area</th>\n",
       "      <th>Force</th>\n",
       "      <th>Moment</th>\n",
       "    </tr>\n",
       "  </thead>\n",
       "  <tbody>\n",
       "    <tr>\n",
       "      <th>0</th>\n",
       "      <td>0.25</td>\n",
       "      <td>-1609.207694</td>\n",
       "      <td>13127.1</td>\n",
       "      <td>-21124.230324</td>\n",
       "      <td>52248.761173</td>\n",
       "    </tr>\n",
       "    <tr>\n",
       "      <th>1</th>\n",
       "      <td>0.65</td>\n",
       "      <td>-1609.207694</td>\n",
       "      <td>3750.6</td>\n",
       "      <td>-6035.494378</td>\n",
       "      <td>12514.019727</td>\n",
       "    </tr>\n",
       "    <tr>\n",
       "      <th>2</th>\n",
       "      <td>1.05</td>\n",
       "      <td>-1609.207694</td>\n",
       "      <td>3750.6</td>\n",
       "      <td>-6035.494378</td>\n",
       "      <td>10099.821975</td>\n",
       "    </tr>\n",
       "    <tr>\n",
       "      <th>3</th>\n",
       "      <td>1.45</td>\n",
       "      <td>-1609.207694</td>\n",
       "      <td>3750.6</td>\n",
       "      <td>-6035.494378</td>\n",
       "      <td>7685.624224</td>\n",
       "    </tr>\n",
       "    <tr>\n",
       "      <th>4</th>\n",
       "      <td>1.85</td>\n",
       "      <td>-1609.207694</td>\n",
       "      <td>3750.6</td>\n",
       "      <td>-6035.494378</td>\n",
       "      <td>5271.426473</td>\n",
       "    </tr>\n",
       "    <tr>\n",
       "      <th>5</th>\n",
       "      <td>2.25</td>\n",
       "      <td>-1609.207694</td>\n",
       "      <td>3750.6</td>\n",
       "      <td>-6035.494378</td>\n",
       "      <td>2857.228722</td>\n",
       "    </tr>\n",
       "  </tbody>\n",
       "</table>\n",
       "</div>"
      ],
      "text/plain": [
       "   Position       Stress     Area         Force        Moment\n",
       "0      0.25 -1609.207694  13127.1 -21124.230324  52248.761173\n",
       "1      0.65 -1609.207694   3750.6  -6035.494378  12514.019727\n",
       "2      1.05 -1609.207694   3750.6  -6035.494378  10099.821975\n",
       "3      1.45 -1609.207694   3750.6  -6035.494378   7685.624224\n",
       "4      1.85 -1609.207694   3750.6  -6035.494378   5271.426473\n",
       "5      2.25 -1609.207694   3750.6  -6035.494378   2857.228722"
      ]
     },
     "execution_count": 156,
     "metadata": {},
     "output_type": "execute_result"
    }
   ],
   "source": [
    "cab_pos = cab_y\n",
    "cab_strn = [interpolate_e(etop, ebot, depth, j) for j in cab_pos]\n",
    "cab_strs = [np.interp(x, st_st, tau_st) for x in cab_strn]\n",
    "cab_area = [nos*art * n[1] for n in cab_layer]\n",
    "cab_force = [cab_strs[j]*cab_area[j]/1000 for j in range(len(cab_layer))]\n",
    "cab_mom = [cab_force[j]*(cab_pos[j]-NA) for j in range(len(cab_layer))]\n",
    "\n",
    "df_tens = pd.DataFrame([cab_pos, cab_strs, cab_area, cab_force, cab_mom], index = ['Position', 'Stress', 'Area', 'Force', 'Moment'])\n",
    "df_tens.T"
   ]
  },
  {
   "cell_type": "code",
   "execution_count": 164,
   "id": "c8c2aa14",
   "metadata": {},
   "outputs": [
    {
     "name": "stdout",
     "output_type": "stream",
     "text": [
      "hell\n"
     ]
    }
   ],
   "source": [
    "i = 0 #for section[i]\n",
    "\n",
    "### cable layer\n",
    "cpx, cpy = zip(*sections[i].cableprop)\n",
    "\n",
    "cab_y = sorted(list(set(cpy)))\n",
    "cab_layer = [[y, cpy.count(y)] for y in cab_y]  #[[y of cable from bottom, no of cables]]\n",
    "\n",
    "### initial value of sum of comp moment and tensile moment\n",
    "sum_mc = 0\n",
    "sum_mt = 1\n",
    "\n",
    "### initial value of top and bottom strain\n",
    "etop = 0.0035\n",
    "ebot = e\n",
    "\n",
    "while sum_mc!=sum_mt:\n",
    "    ### neutral axis\n",
    "    NA = na(etop, ebot, depth)\n",
    "    \n",
    "    ### dividing section to number of stripes\n",
    "    topslab1_b = sections[i].position[5][0]+sections[i].length[5] - (sections[i].position[4][0]) # total width upto cantiliver form top\n",
    "    topslab1_d = sections[i].height[4]\n",
    "    topslab1_pos = sections[i].position[4][1] + topslab1_d/2\n",
    "\n",
    "    topslab2_b = sections[i].length[0] + sections[i].length[1] + sections[i].length[2]\n",
    "    topslab2_d = sections[i].height[3] - sections[i].height[4]\n",
    "    topslab2_pos = topslab1_pos - (topslab1_d+topslab2_d)/2\n",
    "\n",
    "    stripes = [[topslab1_b, topslab1_d, topslab1_pos], [topslab2_b, topslab2_d, topslab2_pos]] #[[width, depth, pos]]\n",
    "\n",
    "    n = 10 #no of division\n",
    "    web_d = (depth - sections[i].height[3] - sections[i].height[2])/n #depth each stripes of web without top and bottom slab\n",
    "    web_b = sections[i].length[0]*2\n",
    "\n",
    "    for j in range(n):\n",
    "        stripe_pos = sections[i].position[3][1] - web_d/2 - j*web_d\n",
    "        stripes.append([web_b, web_d, stripe_pos])\n",
    "\n",
    "    botslab_b = topslab2_b\n",
    "    botslab_d = sections[i].height[2]\n",
    "    botslab_pos = sections[i].position[2][1] + botslab_d/2\n",
    "    stripes.append([botslab_b, botslab_d, botslab_pos])\n",
    "    \n",
    "    ### stress, area, force, moment of stripes in compression due of concrete\n",
    "    stripe_strs = [(strs[j]+strs[j+1])/2 for j in range(len(strs)-1)] #average stress of stripes\n",
    "    stripe_area = [j[0]*j[1] for j in stripes]\n",
    "    stripe_force = [stripe_strs[j]*stripe_area[j]*1000 for j in range(len(stripes))]\n",
    "    stripe_pos = [j[2] for j in stripes]\n",
    "    stripe_mom = [stripe_force[j]*(stripe_pos[j]-NA) for j in range(len(stripes))]\n",
    "\n",
    "    df_comp = pd.DataFrame([stripe_pos, stripe_strs, stripe_area, stripe_force, stripe_mom], index = ['Position', 'Stress', 'Area', 'Force', 'Moment'])\n",
    "#     display(df_comp.T)\n",
    "    \n",
    "    ### stress, area, force, moment of stripes in compression due of concrete\n",
    "    cab_pos = cab_y\n",
    "    cab_strn = [interpolate_e(etop, ebot, depth, j) for j in cab_pos]\n",
    "    cab_strs = [np.interp(x, st_st, tau_st) for x in cab_strn]\n",
    "    cab_area = [nos*art * n[1] for n in cab_layer]\n",
    "    cab_force = [cab_strs[j]*cab_area[j]/1000 for j in range(len(cab_layer))]\n",
    "    cab_mom = [cab_force[j]*(cab_pos[j]-NA) for j in range(len(cab_layer))]\n",
    "\n",
    "    df_tens = pd.DataFrame([cab_pos, cab_strs, cab_area, cab_force, cab_mom], index = ['Position', 'Stress', 'Area', 'Force', 'Moment'])\n",
    "    \n",
    "    \n",
    "    sum_mc ="
   ]
  },
  {
   "cell_type": "code",
   "execution_count": null,
   "id": "b820fd33",
   "metadata": {},
   "outputs": [],
   "source": []
  }
 ],
 "metadata": {
  "kernelspec": {
   "display_name": "Python 3 (ipykernel)",
   "language": "python",
   "name": "python3"
  },
  "language_info": {
   "codemirror_mode": {
    "name": "ipython",
    "version": 3
   },
   "file_extension": ".py",
   "mimetype": "text/x-python",
   "name": "python",
   "nbconvert_exporter": "python",
   "pygments_lexer": "ipython3",
   "version": "3.9.7"
  }
 },
 "nbformat": 4,
 "nbformat_minor": 5
}
